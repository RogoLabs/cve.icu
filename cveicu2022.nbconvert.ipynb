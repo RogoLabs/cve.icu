{
 "cells": [
  {
   "cell_type": "markdown",
   "id": "serious-pressing",
   "metadata": {},
   "source": [
    "# CVE.ICU - 2022\n",
    "---"
   ]
  },
  {
   "cell_type": "markdown",
   "id": "persistent-circus",
   "metadata": {},
   "source": [
    "This information from this website is from a [jupyter notebook](https://jupyter.org/) that automatically pulls all [JSON Data](https://nvd.nist.gov/vuln/data-feeds#JSON_FEED) from the NVD and perform some fundamental data analysis and graphing.  If you have any questions or suggestions, please join the [discussion here](https://github.com/jgamblin/cve.icu/discussions) and check out the [source code](https://github.com/jgamblin/cve.icu/).  Questions? Reach out to [@jgamblin](https://www.twitter.com/jgamblin).\n",
    "\n",
    "**Yearly Data**\n",
    "-  [All](https://cve.icu/)\n",
    "-  [2022](2022.html)\n",
    "-  [2021](2021.html)\n",
    "-  [2020](2020.html)\n",
    "-  [2019](2019.html)\n",
    "\n",
    "**Other Data**\n",
    "-  [CVE Growth Predictions](prophet.html)\n",
    "-  [CVE Calendar All Years](calendar.html)\n",
    "-  [CNA Map](cnamap.html)"
   ]
  },
  {
   "cell_type": "markdown",
   "id": "36813e36",
   "metadata": {},
   "source": [
    "## CVE Data"
   ]
  },
  {
   "cell_type": "code",
   "execution_count": 1,
   "id": "diverse-prison",
   "metadata": {
    "execution": {
     "iopub.execute_input": "2022-01-20T18:19:05.181163Z",
     "iopub.status.busy": "2022-01-20T18:19:05.180654Z",
     "iopub.status.idle": "2022-01-20T18:19:06.115937Z",
     "shell.execute_reply": "2022-01-20T18:19:06.115323Z"
    },
    "tags": []
   },
   "outputs": [],
   "source": [
    "\n",
    "from IPython.core.magic import register_cell_magic\n",
    "from IPython.display import Markdown\n",
    "import calplot\n",
    "import datetime\n",
    "from datetime import date\n",
    "import glob\n",
    "import json\n",
    "import logging\n",
    "import matplotlib.pyplot as plt\n",
    "import numpy as np\n",
    "import pandas as pd\n",
    "import warnings\n",
    "\n",
    "@register_cell_magic\n",
    "def markdown(line, cell):\n",
    "    return Markdown(cell.format(**globals()))\n",
    "\n",
    "\n",
    "logging.getLogger('matplotlib.font_manager').disabled = True\n",
    "warnings.filterwarnings(\"ignore\")\n",
    "pd.set_option('display.width', 500)\n",
    "pd.set_option('display.max_rows', 50)\n",
    "pd.set_option('display.max_columns', 10)"
   ]
  },
  {
   "cell_type": "code",
   "execution_count": 2,
   "id": "organized-ambassador",
   "metadata": {
    "execution": {
     "iopub.execute_input": "2022-01-20T18:19:06.132139Z",
     "iopub.status.busy": "2022-01-20T18:19:06.131607Z",
     "iopub.status.idle": "2022-01-20T18:19:45.984966Z",
     "shell.execute_reply": "2022-01-20T18:19:45.984040Z"
    },
    "tags": []
   },
   "outputs": [],
   "source": [
    "row_accumulator = []\n",
    "for filename in glob.glob('nvdcve-1.1-*.json'):\n",
    "    with open(filename, 'r', encoding='utf-8') as f:\n",
    "        nvd_data = json.load(f)\n",
    "        for entry in nvd_data['CVE_Items']:\n",
    "            cve = entry['cve']['CVE_data_meta']['ID']\n",
    "            try:\n",
    "                assigner = entry['cve']['CVE_data_meta']['ASSIGNER']\n",
    "            except KeyError:\n",
    "                published_date = 'Missing_Data'\n",
    "            try:\n",
    "                published_date = entry['publishedDate']\n",
    "            except KeyError:\n",
    "                published_date = 'Missing_Data'\n",
    "            try:\n",
    "                attack_vector = entry['impact']['baseMetricV3']['cvssV3']['attackVector']\n",
    "            except KeyError:\n",
    "                attack_vector = 'Missing_Data'\n",
    "            try:\n",
    "                attack_complexity = entry['impact']['baseMetricV3']['cvssV3']['attackComplexity']\n",
    "            except KeyError:\n",
    "                attack_complexity = 'Missing_Data'\n",
    "            try:\n",
    "                privileges_required = entry['impact']['baseMetricV3']['cvssV3']['privilegesRequired']\n",
    "            except KeyError:\n",
    "                privileges_required = 'Missing_Data'\n",
    "            try:\n",
    "                user_interaction = entry['impact']['baseMetricV3']['cvssV3']['userInteraction']\n",
    "            except KeyError:\n",
    "                user_interaction = 'Missing_Data'\n",
    "            try:\n",
    "                scope = entry['impact']['baseMetricV3']['cvssV3']['scope']\n",
    "            except KeyError:\n",
    "                scope = 'Missing_Data'\n",
    "            try:\n",
    "                confidentiality_impact = entry['impact']['baseMetricV3']['cvssV3']['confidentialityImpact']\n",
    "            except KeyError:\n",
    "                confidentiality_impact = 'Missing_Data'\n",
    "            try:\n",
    "                integrity_impact = entry['impact']['baseMetricV3']['cvssV3']['integrityImpact']\n",
    "            except KeyError:\n",
    "                integrity_impact = 'Missing_Data'\n",
    "            try:\n",
    "                availability_impact = entry['impact']['baseMetricV3']['cvssV3']['availabilityImpact']\n",
    "            except KeyError:\n",
    "                availability_impact = 'Missing_Data'\n",
    "            try:\n",
    "                base_score = entry['impact']['baseMetricV3']['cvssV3']['baseScore']\n",
    "            except KeyError:\n",
    "                base_score = '0.0'\n",
    "            try:\n",
    "                base_severity = entry['impact']['baseMetricV3']['cvssV3']['baseSeverity']\n",
    "            except KeyError:\n",
    "                base_severity = 'Missing_Data'\n",
    "            try:\n",
    "                exploitability_score = entry['impact']['baseMetricV3']['exploitabilityScore']\n",
    "            except KeyError:\n",
    "                exploitability_score = 'Missing_Data'\n",
    "            try:\n",
    "                impact_score = entry['impact']['baseMetricV3']['impactScore']\n",
    "            except KeyError:\n",
    "                impact_score = 'Missing_Data'\n",
    "            try:\n",
    "                cwe = entry['cve']['problemtype']['problemtype_data'][0]['description'][0]['value']\n",
    "            except IndexError:\n",
    "                cwe = 'Missing_Data'\n",
    "            try:\n",
    "                description = entry['cve']['description']['description_data'][0]['value']\n",
    "            except IndexError:\n",
    "                description = ''\n",
    "            new_row = { \n",
    "                'CVE': cve, \n",
    "                'Published': published_date,\n",
    "                'AttackVector': attack_vector,\n",
    "                'AttackComplexity': attack_complexity,\n",
    "                'PrivilegesRequired': privileges_required,\n",
    "                'UserInteraction': user_interaction,\n",
    "                'Scope': scope,\n",
    "                'ConfidentialityImpact': confidentiality_impact,\n",
    "                'IntegrityImpact': integrity_impact,\n",
    "                'AvailabilityImpact': availability_impact,\n",
    "                'BaseScore': base_score,\n",
    "                'BaseSeverity': base_severity,\n",
    "                'ExploitabilityScore': exploitability_score,\n",
    "                'ImpactScore': impact_score,\n",
    "                'CWE': cwe,\n",
    "                'Description': description,\n",
    "                'Assigner' : assigner\n",
    "            }\n",
    "            if not description.startswith('** REJECT **'): # disputed, rejected and other non issues start with '**'\n",
    "                row_accumulator.append(new_row)\n",
    "        nvd = pd.DataFrame(row_accumulator)\n",
    "    \n",
    "nvd['Published'] = pd.to_datetime(nvd['Published'])\n",
    "thisyear = ((nvd['Published'] > '2022-01-01') & (nvd['Published']  < '2022-12-31'))\n",
    "nvd = nvd.loc[thisyear]\n",
    "nvd = nvd.sort_values(by=['Published'])\n",
    "nvd = nvd.reset_index(drop=True)\n",
    "nvd['BaseScore'] = pd.to_numeric(nvd['BaseScore']);\n",
    "nvd['BaseScore'] = pd.to_numeric(nvd['BaseScore']);\n",
    "nvd['BaseScore'] = nvd['BaseScore'].replace(0, np.NaN);\n",
    "nvdcount = nvd['Published'].count()\n",
    "nvdunique = nvd['Published'].nunique()\n",
    "startdate = date(2022, 1, 1)\n",
    "enddate  = date.today()\n",
    "numberofdays = enddate - startdate \n",
    "per_day = nvdcount/numberofdays.days"
   ]
  },
  {
   "cell_type": "code",
   "execution_count": 3,
   "id": "e04459ff",
   "metadata": {
    "execution": {
     "iopub.execute_input": "2022-01-20T18:19:45.992231Z",
     "iopub.status.busy": "2022-01-20T18:19:45.989330Z",
     "iopub.status.idle": "2022-01-20T18:19:45.994832Z",
     "shell.execute_reply": "2022-01-20T18:19:45.995203Z"
    }
   },
   "outputs": [
    {
     "data": {
      "text/markdown": [
       "Total Number of CVEs: **1340**<br />Average CVEs Per Day: **70.53**<br />Average CVSS Score: **6.75**"
      ],
      "text/plain": [
       "<IPython.core.display.Markdown object>"
      ]
     },
     "execution_count": 3,
     "metadata": {},
     "output_type": "execute_result"
    }
   ],
   "source": [
    "Markdown(f\"Total Number of CVEs: **{nvd['CVE'].count()}**<br />Average CVEs Per Day: **{per_day.round(2)}**<br />Average CVSS Score: **{nvd['BaseScore'].mean().round(2)}**\")"
   ]
  },
  {
   "cell_type": "markdown",
   "id": "5c69f867",
   "metadata": {},
   "source": []
  },
  {
   "cell_type": "code",
   "execution_count": 4,
   "id": "18a9c60b",
   "metadata": {
    "execution": {
     "iopub.execute_input": "2022-01-20T18:19:45.999677Z",
     "iopub.status.busy": "2022-01-20T18:19:45.999207Z",
     "iopub.status.idle": "2022-01-20T18:19:46.001407Z",
     "shell.execute_reply": "2022-01-20T18:19:46.001776Z"
    }
   },
   "outputs": [
    {
     "data": {
      "text/markdown": [
       "## CVE Graphs"
      ],
      "text/plain": [
       "<IPython.core.display.Markdown object>"
      ]
     },
     "execution_count": 4,
     "metadata": {},
     "output_type": "execute_result"
    }
   ],
   "source": [
    "Markdown(f\"## CVE Graphs\")"
   ]
  },
  {
   "cell_type": "code",
   "execution_count": 5,
   "id": "39c9867a",
   "metadata": {
    "execution": {
     "iopub.execute_input": "2022-01-20T18:19:46.008401Z",
     "iopub.status.busy": "2022-01-20T18:19:46.007945Z",
     "iopub.status.idle": "2022-01-20T18:19:46.012685Z",
     "shell.execute_reply": "2022-01-20T18:19:46.012261Z"
    }
   },
   "outputs": [],
   "source": [
    "Month_Graph = nvd['Published'].groupby(nvd.Published.dt.to_period(\"M\")).agg('count')\n",
    "Year_Graph = nvd['Published'].groupby(nvd.Published.dt.to_period(\"Y\")).agg('count')\n",
    "Week_Graph = nvd['Published'].groupby(nvd.Published.dt.to_period(\"W\")).agg('count')\n",
    "Day_Graph = nvd['Published'].groupby(nvd.Published.dt.to_period(\"D\")).agg('count')"
   ]
  },
  {
   "cell_type": "code",
   "execution_count": 6,
   "id": "83f72f6a",
   "metadata": {
    "execution": {
     "iopub.execute_input": "2022-01-20T18:19:46.016497Z",
     "iopub.status.busy": "2022-01-20T18:19:46.015060Z",
     "iopub.status.idle": "2022-01-20T18:19:46.018277Z",
     "shell.execute_reply": "2022-01-20T18:19:46.018650Z"
    }
   },
   "outputs": [
    {
     "data": {
      "text/markdown": [
       "### CVE Calendar"
      ],
      "text/plain": [
       "<IPython.core.display.Markdown object>"
      ]
     },
     "execution_count": 6,
     "metadata": {},
     "output_type": "execute_result"
    }
   ],
   "source": [
    "Markdown(f\"### CVE Calendar\")"
   ]
  },
  {
   "cell_type": "code",
   "execution_count": 7,
   "id": "fdaba3b0",
   "metadata": {
    "execution": {
     "iopub.execute_input": "2022-01-20T18:19:46.025712Z",
     "iopub.status.busy": "2022-01-20T18:19:46.025073Z",
     "iopub.status.idle": "2022-01-20T18:19:46.417755Z",
     "shell.execute_reply": "2022-01-20T18:19:46.417330Z"
    }
   },
   "outputs": [
    {
     "data": {
      "image/png": "[encoded data removed]",
      "text/plain": [
       "<Figure size 1800x216 with 2 Axes>"
      ]
     },
     "metadata": {
      "needs_background": "light"
     },
     "output_type": "display_data"
    }
   ],
   "source": [
    "dfs = nvd['Published'].apply(lambda x: pd.to_datetime(x, errors='coerce', format='%Y/%m/%d'))\n",
    "df = dfs.value_counts()\n",
    "df = df.to_frame()\n",
    "df.index = df.index.strftime('%m/%d/%Y')\n",
    "df.index = pd.to_datetime(df.index, format='%m/%d/%Y')\n",
    "calplot.calplot(df.T.squeeze(), cmap='jet', dropzero=True, edgecolor=\"Grey\", textcolor=\"White\", textformat='{:.0f}', textfiller='', suptitle='CVEs Per Day', figsize=(25,3));"
   ]
  },
  {
   "cell_type": "code",
   "execution_count": 8,
   "id": "2ce24285",
   "metadata": {
    "execution": {
     "iopub.execute_input": "2022-01-20T18:19:46.421841Z",
     "iopub.status.busy": "2022-01-20T18:19:46.421375Z",
     "iopub.status.idle": "2022-01-20T18:19:46.425746Z",
     "shell.execute_reply": "2022-01-20T18:19:46.425350Z"
    }
   },
   "outputs": [
    {
     "data": {
      "text/markdown": [
       "### CVE Per Month Graph"
      ],
      "text/plain": [
       "<IPython.core.display.Markdown object>"
      ]
     },
     "execution_count": 8,
     "metadata": {},
     "output_type": "execute_result"
    }
   ],
   "source": [
    "Markdown(f\"### CVE Per Month Graph\")"
   ]
  },
  {
   "cell_type": "code",
   "execution_count": 9,
   "id": "endless-cylinder",
   "metadata": {
    "execution": {
     "iopub.execute_input": "2022-01-20T18:19:46.429789Z",
     "iopub.status.busy": "2022-01-20T18:19:46.429329Z",
     "iopub.status.idle": "2022-01-20T18:19:46.610366Z",
     "shell.execute_reply": "2022-01-20T18:19:46.609576Z"
    }
   },
   "outputs": [
    {
     "data": {
      "image/png": "[encoded data removed]",
      "text/plain": [
       "<Figure size 1152x576 with 1 Axes>"
      ]
     },
     "metadata": {
      "needs_background": "light"
     },
     "output_type": "display_data"
    }
   ],
   "source": [
    "\n",
    "cg = Month_Graph.plot.area(colormap='jet', figsize=(16, 8), title='CVEs Per Month')\n",
    "plt.grid()\n",
    "cg.set_ylabel(\"New CVEs\");\n",
    "cg.set_xlabel(\"Date\");"
   ]
  },
  {
   "cell_type": "code",
   "execution_count": 10,
   "id": "befe79e1",
   "metadata": {
    "execution": {
     "iopub.execute_input": "2022-01-20T18:19:46.613528Z",
     "iopub.status.busy": "2022-01-20T18:19:46.612504Z",
     "iopub.status.idle": "2022-01-20T18:19:46.617625Z",
     "shell.execute_reply": "2022-01-20T18:19:46.617247Z"
    }
   },
   "outputs": [
    {
     "data": {
      "text/markdown": [
       "### CVE Per Week Graph"
      ],
      "text/plain": [
       "<IPython.core.display.Markdown object>"
      ]
     },
     "execution_count": 10,
     "metadata": {},
     "output_type": "execute_result"
    }
   ],
   "source": [
    "Markdown(f\"### CVE Per Week Graph\")"
   ]
  },
  {
   "cell_type": "code",
   "execution_count": 11,
   "id": "common-louis",
   "metadata": {
    "execution": {
     "iopub.execute_input": "2022-01-20T18:19:46.639909Z",
     "iopub.status.busy": "2022-01-20T18:19:46.623851Z",
     "iopub.status.idle": "2022-01-20T18:19:46.772436Z",
     "shell.execute_reply": "2022-01-20T18:19:46.772022Z"
    }
   },
   "outputs": [
    {
     "data": {
      "image/png": "[encoded data removed]",
      "text/plain": [
       "<Figure size 1152x576 with 1 Axes>"
      ]
     },
     "metadata": {
      "needs_background": "light"
     },
     "output_type": "display_data"
    }
   ],
   "source": [
    "\n",
    "cg = Week_Graph.plot.area(colormap='jet', figsize=(16, 8), title='CVEs Per Week')\n",
    "plt.grid()\n",
    "cg.set_ylabel(\"New CVEs\");\n",
    "cg.set_xlabel(\"Date\");"
   ]
  },
  {
   "cell_type": "code",
   "execution_count": 12,
   "id": "989be730",
   "metadata": {
    "execution": {
     "iopub.execute_input": "2022-01-20T18:19:46.776570Z",
     "iopub.status.busy": "2022-01-20T18:19:46.776108Z",
     "iopub.status.idle": "2022-01-20T18:19:46.780783Z",
     "shell.execute_reply": "2022-01-20T18:19:46.780389Z"
    }
   },
   "outputs": [
    {
     "data": {
      "text/markdown": [
       "### CVE Per Day Graph"
      ],
      "text/plain": [
       "<IPython.core.display.Markdown object>"
      ]
     },
     "execution_count": 12,
     "metadata": {},
     "output_type": "execute_result"
    }
   ],
   "source": [
    "Markdown(f\"### CVE Per Day Graph\")"
   ]
  },
  {
   "cell_type": "code",
   "execution_count": 13,
   "id": "smooth-stupid",
   "metadata": {
    "execution": {
     "iopub.execute_input": "2022-01-20T18:19:46.787576Z",
     "iopub.status.busy": "2022-01-20T18:19:46.787128Z",
     "iopub.status.idle": "2022-01-20T18:19:46.980609Z",
     "shell.execute_reply": "2022-01-20T18:19:46.980191Z"
    }
   },
   "outputs": [
    {
     "data": {
      "image/png": "[encoded data removed]",
      "text/plain": [
       "<Figure size 1152x576 with 1 Axes>"
      ]
     },
     "metadata": {
      "needs_background": "light"
     },
     "output_type": "display_data"
    }
   ],
   "source": [
    "\n",
    "cg = Day_Graph.plot.area(colormap='jet', figsize=(16, 8), title='CVEs Per Day')\n",
    "plt.grid()\n",
    "cg.set_ylabel(\"New CVEs\");\n",
    "cg.set_xlabel(\"Date\");"
   ]
  },
  {
   "cell_type": "code",
   "execution_count": 14,
   "id": "51593e0c",
   "metadata": {
    "execution": {
     "iopub.execute_input": "2022-01-20T18:19:46.984751Z",
     "iopub.status.busy": "2022-01-20T18:19:46.983921Z",
     "iopub.status.idle": "2022-01-20T18:19:46.987992Z",
     "shell.execute_reply": "2022-01-20T18:19:46.987604Z"
    }
   },
   "outputs": [
    {
     "data": {
      "text/markdown": [
       "## CVSS Data"
      ],
      "text/plain": [
       "<IPython.core.display.Markdown object>"
      ]
     },
     "execution_count": 14,
     "metadata": {},
     "output_type": "execute_result"
    }
   ],
   "source": [
    "Markdown(f\"## CVSS Data\")"
   ]
  },
  {
   "cell_type": "code",
   "execution_count": 15,
   "id": "0652f359",
   "metadata": {
    "execution": {
     "iopub.execute_input": "2022-01-20T18:19:46.992381Z",
     "iopub.status.busy": "2022-01-20T18:19:46.991918Z",
     "iopub.status.idle": "2022-01-20T18:19:47.146365Z",
     "shell.execute_reply": "2022-01-20T18:19:47.145919Z"
    }
   },
   "outputs": [
    {
     "data": {
      "image/png": "[encoded data removed]",
      "text/plain": [
       "<Figure size 1152x576 with 1 Axes>"
      ]
     },
     "metadata": {
      "needs_background": "light"
     },
     "output_type": "display_data"
    }
   ],
   "source": [
    "nvd['BaseScore'].plot(kind=\"hist\", colormap='jet', figsize=(16, 8), title='CVSS Scores');"
   ]
  },
  {
   "cell_type": "code",
   "execution_count": 16,
   "id": "f0210783",
   "metadata": {
    "execution": {
     "iopub.execute_input": "2022-01-20T18:19:47.150526Z",
     "iopub.status.busy": "2022-01-20T18:19:47.150061Z",
     "iopub.status.idle": "2022-01-20T18:19:47.154500Z",
     "shell.execute_reply": "2022-01-20T18:19:47.153787Z"
    }
   },
   "outputs": [
    {
     "data": {
      "text/markdown": [
       "## CNA Data"
      ],
      "text/plain": [
       "<IPython.core.display.Markdown object>"
      ]
     },
     "execution_count": 16,
     "metadata": {},
     "output_type": "execute_result"
    }
   ],
   "source": [
    "Markdown(f\"## CNA Data\")"
   ]
  },
  {
   "cell_type": "code",
   "execution_count": 17,
   "id": "96ff98c6",
   "metadata": {
    "execution": {
     "iopub.execute_input": "2022-01-20T18:19:47.173640Z",
     "iopub.status.busy": "2022-01-20T18:19:47.160726Z",
     "iopub.status.idle": "2022-01-20T18:19:47.396891Z",
     "shell.execute_reply": "2022-01-20T18:19:47.396488Z"
    }
   },
   "outputs": [
    {
     "data": {
      "image/png": "[encoded data removed]",
      "text/plain": [
       "<Figure size 720x720 with 1 Axes>"
      ]
     },
     "metadata": {
      "needs_background": "light"
     },
     "output_type": "display_data"
    }
   ],
   "source": [
    "Markdown(f\"### CNA Assigner Graph\")\n",
    "nvd_frequency = nvd['Assigner'].value_counts()\n",
    "nvd_frequency = nvd_frequency.reset_index()\n",
    "nvd_frequency.columns = ['Assigner', 'counts']\n",
    "nvd_frequency.head(50)\n",
    "nvd_frequency_no_mitre = nvd_frequency[~nvd_frequency.Assigner.str.contains('cve@mitre.org')]\n",
    "nvd_frequency_no_mitre = nvd_frequency_no_mitre.head(20)\n",
    "plt.figure(figsize=(10,10))\n",
    "plt.barh(\"Assigner\", \"counts\", data = nvd_frequency_no_mitre, color=\"#001d82\")\n",
    "plt.xlabel(\"CVEs\"); \n",
    "plt.ylabel(\"\") ;\n",
    "plt.title(\"Top 20 CNAs\");\n"
   ]
  },
  {
   "cell_type": "code",
   "execution_count": 18,
   "id": "aa3ea191",
   "metadata": {
    "execution": {
     "iopub.execute_input": "2022-01-20T18:19:47.400947Z",
     "iopub.status.busy": "2022-01-20T18:19:47.400153Z",
     "iopub.status.idle": "2022-01-20T18:19:47.404800Z",
     "shell.execute_reply": "2022-01-20T18:19:47.405494Z"
    }
   },
   "outputs": [
    {
     "data": {
      "text/markdown": [
       "## CWE Data"
      ],
      "text/plain": [
       "<IPython.core.display.Markdown object>"
      ]
     },
     "execution_count": 18,
     "metadata": {},
     "output_type": "execute_result"
    }
   ],
   "source": [
    "Markdown(f\"## CWE Data\")"
   ]
  },
  {
   "cell_type": "code",
   "execution_count": 19,
   "id": "6815f0a1",
   "metadata": {
    "execution": {
     "iopub.execute_input": "2022-01-20T18:19:47.436514Z",
     "iopub.status.busy": "2022-01-20T18:19:47.414470Z",
     "iopub.status.idle": "2022-01-20T18:19:47.626670Z",
     "shell.execute_reply": "2022-01-20T18:19:47.626231Z"
    }
   },
   "outputs": [
    {
     "data": {
      "image/png": "[encoded data removed]",
      "text/plain": [
       "<Figure size 720x720 with 1 Axes>"
      ]
     },
     "metadata": {
      "needs_background": "light"
     },
     "output_type": "display_data"
    }
   ],
   "source": [
    "nvd_cwe = nvd['CWE'].value_counts()\n",
    "nvd_cwe = nvd_cwe.reset_index()\n",
    "nvd_cwe.columns = ['CWE', 'counts']\n",
    "nvd_cwe = nvd_cwe[~nvd_cwe.CWE.str.contains('Missing_')]\n",
    "nvd_cwe = nvd_cwe[~nvd_cwe.CWE.str.contains('NVD')]\n",
    "nvd_cwe = nvd_cwe.head(25)\n",
    "plt.figure(figsize=(10,10));\n",
    "plt.barh(\"CWE\", \"counts\", data = nvd_cwe, color=\"#001d82\");\n",
    "plt.xlabel(\"Count\"); \n",
    "plt.ylabel(\"CWE\") ;\n",
    "plt.title(\"Most Common CWE in CVE Records\");\n"
   ]
  },
  {
   "cell_type": "code",
   "execution_count": 20,
   "id": "1cbec814-905a-4028-b72f-98da5081b10d",
   "metadata": {
    "execution": {
     "iopub.execute_input": "2022-01-20T18:19:47.631297Z",
     "iopub.status.busy": "2022-01-20T18:19:47.629902Z",
     "iopub.status.idle": "2022-01-20T18:19:47.634931Z",
     "shell.execute_reply": "2022-01-20T18:19:47.635309Z"
    }
   },
   "outputs": [
    {
     "data": {
      "text/markdown": [
       "## More CVE Data"
      ],
      "text/plain": [
       "<IPython.core.display.Markdown object>"
      ]
     },
     "execution_count": 20,
     "metadata": {},
     "output_type": "execute_result"
    }
   ],
   "source": [
    "Markdown(f\"## More CVE Data\")"
   ]
  },
  {
   "cell_type": "code",
   "execution_count": 21,
   "id": "5dbbc915",
   "metadata": {
    "execution": {
     "iopub.execute_input": "2022-01-20T18:19:47.639211Z",
     "iopub.status.busy": "2022-01-20T18:19:47.638768Z",
     "iopub.status.idle": "2022-01-20T18:19:47.643121Z",
     "shell.execute_reply": "2022-01-20T18:19:47.642715Z"
    }
   },
   "outputs": [
    {
     "data": {
      "text/markdown": [
       "### Top CNA Assigner"
      ],
      "text/plain": [
       "<IPython.core.display.Markdown object>"
      ]
     },
     "execution_count": 21,
     "metadata": {},
     "output_type": "execute_result"
    }
   ],
   "source": [
    "Markdown(f\"### Top CNA Assigner\")"
   ]
  },
  {
   "cell_type": "code",
   "execution_count": 22,
   "id": "04a26e54",
   "metadata": {
    "execution": {
     "iopub.execute_input": "2022-01-20T18:19:47.647458Z",
     "iopub.status.busy": "2022-01-20T18:19:47.646157Z",
     "iopub.status.idle": "2022-01-20T18:19:47.711214Z",
     "shell.execute_reply": "2022-01-20T18:19:47.711598Z"
    }
   },
   "outputs": [
    {
     "data": {
      "text/html": [
       "<style type=\"text/css\">\n",
       "</style>\n",
       "<table id=\"T_5e707_\">\n",
       "  <thead>\n",
       "    <tr>\n",
       "      <th class=\"col_heading level0 col0\" >Assigner</th>\n",
       "      <th class=\"col_heading level0 col1\" >counts</th>\n",
       "    </tr>\n",
       "  </thead>\n",
       "  <tbody>\n",
       "    <tr>\n",
       "      <td id=\"T_5e707_row0_col0\" class=\"data row0 col0\" >secalert_us@oracle.com</td>\n",
       "      <td id=\"T_5e707_row0_col1\" class=\"data row0 col1\" >163</td>\n",
       "    </tr>\n",
       "    <tr>\n",
       "      <td id=\"T_5e707_row1_col0\" class=\"data row1 col0\" >secure@microsoft.com</td>\n",
       "      <td id=\"T_5e707_row1_col1\" class=\"data row1 col1\" >100</td>\n",
       "    </tr>\n",
       "    <tr>\n",
       "      <td id=\"T_5e707_row2_col0\" class=\"data row2 col0\" >zdi-disclosures@trendmicro.com</td>\n",
       "      <td id=\"T_5e707_row2_col1\" class=\"data row2 col1\" >89</td>\n",
       "    </tr>\n",
       "    <tr>\n",
       "      <td id=\"T_5e707_row3_col0\" class=\"data row3 col0\" >psirt@huawei.com</td>\n",
       "      <td id=\"T_5e707_row3_col1\" class=\"data row3 col1\" >71</td>\n",
       "    </tr>\n",
       "    <tr>\n",
       "      <td id=\"T_5e707_row4_col0\" class=\"data row4 col0\" >security-advisories@github.com</td>\n",
       "      <td id=\"T_5e707_row4_col1\" class=\"data row4 col1\" >60</td>\n",
       "    </tr>\n",
       "    <tr>\n",
       "      <td id=\"T_5e707_row5_col0\" class=\"data row5 col0\" >security@huntr.dev</td>\n",
       "      <td id=\"T_5e707_row5_col1\" class=\"data row5 col1\" >59</td>\n",
       "    </tr>\n",
       "    <tr>\n",
       "      <td id=\"T_5e707_row6_col0\" class=\"data row6 col0\" >psirt@adobe.com</td>\n",
       "      <td id=\"T_5e707_row6_col1\" class=\"data row6 col1\" >46</td>\n",
       "    </tr>\n",
       "    <tr>\n",
       "      <td id=\"T_5e707_row7_col0\" class=\"data row7 col0\" >contact@wpscan.com</td>\n",
       "      <td id=\"T_5e707_row7_col1\" class=\"data row7 col1\" >41</td>\n",
       "    </tr>\n",
       "    <tr>\n",
       "      <td id=\"T_5e707_row8_col0\" class=\"data row8 col0\" >security.cna@qualcomm.com</td>\n",
       "      <td id=\"T_5e707_row8_col1\" class=\"data row8 col1\" >40</td>\n",
       "    </tr>\n",
       "    <tr>\n",
       "      <td id=\"T_5e707_row9_col0\" class=\"data row9 col0\" >sirt@juniper.net</td>\n",
       "      <td id=\"T_5e707_row9_col1\" class=\"data row9 col1\" >27</td>\n",
       "    </tr>\n",
       "    <tr>\n",
       "      <td id=\"T_5e707_row10_col0\" class=\"data row10 col0\" >security@android.com</td>\n",
       "      <td id=\"T_5e707_row10_col1\" class=\"data row10 col1\" >27</td>\n",
       "    </tr>\n",
       "    <tr>\n",
       "      <td id=\"T_5e707_row11_col0\" class=\"data row11 col0\" >jenkinsci-cert@googlegroups.com</td>\n",
       "      <td id=\"T_5e707_row11_col1\" class=\"data row11 col1\" >24</td>\n",
       "    </tr>\n",
       "    <tr>\n",
       "      <td id=\"T_5e707_row12_col0\" class=\"data row12 col0\" >security@apache.org</td>\n",
       "      <td id=\"T_5e707_row12_col1\" class=\"data row12 col1\" >22</td>\n",
       "    </tr>\n",
       "    <tr>\n",
       "      <td id=\"T_5e707_row13_col0\" class=\"data row13 col0\" >vulnerabilitylab@whitesourcesoftware.com</td>\n",
       "      <td id=\"T_5e707_row13_col1\" class=\"data row13 col1\" >19</td>\n",
       "    </tr>\n",
       "    <tr>\n",
       "      <td id=\"T_5e707_row14_col0\" class=\"data row14 col0\" >psirt@cisco.com</td>\n",
       "      <td id=\"T_5e707_row14_col1\" class=\"data row14 col1\" >18</td>\n",
       "    </tr>\n",
       "    <tr>\n",
       "      <td id=\"T_5e707_row15_col0\" class=\"data row15 col0\" >mobile.security@samsung.com</td>\n",
       "      <td id=\"T_5e707_row15_col1\" class=\"data row15 col1\" >18</td>\n",
       "    </tr>\n",
       "    <tr>\n",
       "      <td id=\"T_5e707_row16_col0\" class=\"data row16 col0\" >psirt@us.ibm.com</td>\n",
       "      <td id=\"T_5e707_row16_col1\" class=\"data row16 col1\" >15</td>\n",
       "    </tr>\n",
       "    <tr>\n",
       "      <td id=\"T_5e707_row17_col0\" class=\"data row17 col0\" >cve@gitlab.com</td>\n",
       "      <td id=\"T_5e707_row17_col1\" class=\"data row17 col1\" >13</td>\n",
       "    </tr>\n",
       "    <tr>\n",
       "      <td id=\"T_5e707_row18_col0\" class=\"data row18 col0\" >security@mediatek.com</td>\n",
       "      <td id=\"T_5e707_row18_col1\" class=\"data row18 col1\" >11</td>\n",
       "    </tr>\n",
       "    <tr>\n",
       "      <td id=\"T_5e707_row19_col0\" class=\"data row19 col0\" >vultures@jpcert.or.jp</td>\n",
       "      <td id=\"T_5e707_row19_col1\" class=\"data row19 col1\" >11</td>\n",
       "    </tr>\n",
       "  </tbody>\n",
       "</table>\n"
      ],
      "text/plain": [
       "<pandas.io.formats.style.Styler at 0x7fa41e5198e0>"
      ]
     },
     "execution_count": 22,
     "metadata": {},
     "output_type": "execute_result"
    }
   ],
   "source": [
    "nvd_frequency_no_mitre.style.hide_index()"
   ]
  },
  {
   "cell_type": "code",
   "execution_count": 23,
   "id": "aa164366-d0e6-4ca5-890b-95ea69f2801c",
   "metadata": {
    "execution": {
     "iopub.execute_input": "2022-01-20T18:19:47.715872Z",
     "iopub.status.busy": "2022-01-20T18:19:47.715415Z",
     "iopub.status.idle": "2022-01-20T18:19:47.719877Z",
     "shell.execute_reply": "2022-01-20T18:19:47.719475Z"
    }
   },
   "outputs": [
    {
     "data": {
      "text/markdown": [
       "### CVEs By Identifier"
      ],
      "text/plain": [
       "<IPython.core.display.Markdown object>"
      ]
     },
     "execution_count": 23,
     "metadata": {},
     "output_type": "execute_result"
    }
   ],
   "source": [
    "Markdown(f\"### CVEs By Identifier\")"
   ]
  },
  {
   "cell_type": "code",
   "execution_count": 24,
   "id": "661f28f1-9568-4e97-acb3-75e45e596f1f",
   "metadata": {
    "execution": {
     "iopub.execute_input": "2022-01-20T18:19:47.744949Z",
     "iopub.status.busy": "2022-01-20T18:19:47.727235Z",
     "iopub.status.idle": "2022-01-20T18:19:47.766264Z",
     "shell.execute_reply": "2022-01-20T18:19:47.766654Z"
    }
   },
   "outputs": [
    {
     "name": "stdout",
     "output_type": "stream",
     "text": [
      "CVE-1999-\t0\n",
      "CVE-2000-\t0\n",
      "CVE-2001-\t0\n",
      "CVE-2002-\t0\n",
      "CVE-2003-\t0\n",
      "CVE-2004-\t0\n",
      "CVE-2005-\t0\n",
      "CVE-2006-\t0\n",
      "CVE-2007-\t0\n",
      "CVE-2008-\t0\n",
      "CVE-2009-\t0\n",
      "CVE-2010-\t0\n",
      "CVE-2011-\t0\n",
      "CVE-2012-\t0\n",
      "CVE-2013-\t0\n",
      "CVE-2014-\t0\n",
      "CVE-2015-\t0\n",
      "CVE-2016-\t0\n",
      "CVE-2017-\t0\n",
      "CVE-2018-\t0\n",
      "CVE-2019-\t0\n",
      "CVE-2020-\t20\n",
      "CVE-2021-\t770\n",
      "CVE-2022-\t550\n"
     ]
    }
   ],
   "source": [
    "\n",
    "print(\"CVE-1999-\\t%s\" % len(nvd[nvd['CVE'].str.contains('CVE-1999-')]))\n",
    "print(\"CVE-2000-\\t%s\" % len(nvd[nvd['CVE'].str.contains('CVE-2000-')]))\n",
    "print(\"CVE-2001-\\t%s\" % len(nvd[nvd['CVE'].str.contains('CVE-2001-')]))\n",
    "print(\"CVE-2002-\\t%s\" % len(nvd[nvd['CVE'].str.contains('CVE-2002-')]))\n",
    "print(\"CVE-2003-\\t%s\" % len(nvd[nvd['CVE'].str.contains('CVE-2003-')]))\n",
    "print(\"CVE-2004-\\t%s\" % len(nvd[nvd['CVE'].str.contains('CVE-2004-')]))\n",
    "print(\"CVE-2005-\\t%s\" % len(nvd[nvd['CVE'].str.contains('CVE-2005-')]))\n",
    "print(\"CVE-2006-\\t%s\" % len(nvd[nvd['CVE'].str.contains('CVE-2006-')]))\n",
    "print(\"CVE-2007-\\t%s\" % len(nvd[nvd['CVE'].str.contains('CVE-2007-')]))\n",
    "print(\"CVE-2008-\\t%s\" % len(nvd[nvd['CVE'].str.contains('CVE-2008-')]))\n",
    "print(\"CVE-2009-\\t%s\" % len(nvd[nvd['CVE'].str.contains('CVE-2009-')]))\n",
    "print(\"CVE-2010-\\t%s\" % len(nvd[nvd['CVE'].str.contains('CVE-2010-')]))\n",
    "print(\"CVE-2011-\\t%s\" % len(nvd[nvd['CVE'].str.contains('CVE-2011-')]))\n",
    "print(\"CVE-2012-\\t%s\" % len(nvd[nvd['CVE'].str.contains('CVE-2012-')]))\n",
    "print(\"CVE-2013-\\t%s\" % len(nvd[nvd['CVE'].str.contains('CVE-2013-')]))\n",
    "print(\"CVE-2014-\\t%s\" % len(nvd[nvd['CVE'].str.contains('CVE-2014-')]))\n",
    "print(\"CVE-2015-\\t%s\" % len(nvd[nvd['CVE'].str.contains('CVE-2015-')]))\n",
    "print(\"CVE-2016-\\t%s\" % len(nvd[nvd['CVE'].str.contains('CVE-2016-')]))\n",
    "print(\"CVE-2017-\\t%s\" % len(nvd[nvd['CVE'].str.contains('CVE-2017-')]))\n",
    "print(\"CVE-2018-\\t%s\" % len(nvd[nvd['CVE'].str.contains('CVE-2018-')]))\n",
    "print(\"CVE-2019-\\t%s\" % len(nvd[nvd['CVE'].str.contains('CVE-2019-')]))\n",
    "print(\"CVE-2020-\\t%s\" % len(nvd[nvd['CVE'].str.contains('CVE-2020-')]))\n",
    "print(\"CVE-2021-\\t%s\" % len(nvd[nvd['CVE'].str.contains('CVE-2021-')]))\n",
    "print(\"CVE-2022-\\t%s\" % len(nvd[nvd['CVE'].str.contains('CVE-2022-')]))"
   ]
  },
  {
   "cell_type": "code",
   "execution_count": 25,
   "id": "1cc30ff0",
   "metadata": {
    "execution": {
     "iopub.execute_input": "2022-01-20T18:19:47.770926Z",
     "iopub.status.busy": "2022-01-20T18:19:47.770428Z",
     "iopub.status.idle": "2022-01-20T18:19:47.774910Z",
     "shell.execute_reply": "2022-01-20T18:19:47.774509Z"
    }
   },
   "outputs": [
    {
     "data": {
      "text/markdown": [
       "### First 5 CVEs"
      ],
      "text/plain": [
       "<IPython.core.display.Markdown object>"
      ]
     },
     "execution_count": 25,
     "metadata": {},
     "output_type": "execute_result"
    }
   ],
   "source": [
    "Markdown(f\"### First 5 CVEs\")"
   ]
  },
  {
   "cell_type": "code",
   "execution_count": 26,
   "id": "robust-sustainability",
   "metadata": {
    "execution": {
     "iopub.execute_input": "2022-01-20T18:19:47.780936Z",
     "iopub.status.busy": "2022-01-20T18:19:47.780489Z",
     "iopub.status.idle": "2022-01-20T18:19:47.785341Z",
     "shell.execute_reply": "2022-01-20T18:19:47.784951Z"
    }
   },
   "outputs": [
    {
     "data": {
      "text/html": [
       "<style type=\"text/css\">\n",
       "</style>\n",
       "<table id=\"T_d7626_\">\n",
       "  <thead>\n",
       "    <tr>\n",
       "      <th class=\"col_heading level0 col0\" >CVE</th>\n",
       "      <th class=\"col_heading level0 col1\" >Description</th>\n",
       "    </tr>\n",
       "  </thead>\n",
       "  <tbody>\n",
       "    <tr>\n",
       "      <td id=\"T_d7626_row0_col0\" class=\"data row0 col0\" >CVE-2021-45958</td>\n",
       "      <td id=\"T_d7626_row0_col1\" class=\"data row0 col1\" >UltraJSON (aka ujson) 4.0.2 through 5.0.0 has a stack-based buffer overflow in Buffer_AppendIndentUnchecked (called from encode).</td>\n",
       "    </tr>\n",
       "    <tr>\n",
       "      <td id=\"T_d7626_row1_col0\" class=\"data row1 col0\" >CVE-2021-45929</td>\n",
       "      <td id=\"T_d7626_row1_col1\" class=\"data row1 col1\" >Wasm3 0.5.0 has an out-of-bounds write in CompileBlock (called from CompileElseBlock and Compile_If).</td>\n",
       "    </tr>\n",
       "    <tr>\n",
       "      <td id=\"T_d7626_row2_col0\" class=\"data row2 col0\" >CVE-2021-45957</td>\n",
       "      <td id=\"T_d7626_row2_col1\" class=\"data row2 col1\" >Dnsmasq 2.86 has a heap-based buffer overflow in answer_request (called from FuzzAnswerTheRequest and fuzz_rfc1035.c).</td>\n",
       "    </tr>\n",
       "    <tr>\n",
       "      <td id=\"T_d7626_row3_col0\" class=\"data row3 col0\" >CVE-2021-45956</td>\n",
       "      <td id=\"T_d7626_row3_col1\" class=\"data row3 col1\" >Dnsmasq 2.86 has a heap-based buffer overflow in print_mac (called from log_packet and dhcp_reply).</td>\n",
       "    </tr>\n",
       "    <tr>\n",
       "      <td id=\"T_d7626_row4_col0\" class=\"data row4 col0\" >CVE-2021-45955</td>\n",
       "      <td id=\"T_d7626_row4_col1\" class=\"data row4 col1\" >Dnsmasq 2.86 has a heap-based buffer overflow in resize_packet (called from FuzzResizePacket and fuzz_rfc1035.c).</td>\n",
       "    </tr>\n",
       "  </tbody>\n",
       "</table>\n"
      ],
      "text/plain": [
       "<pandas.io.formats.style.Styler at 0x7fa40804cfd0>"
      ]
     },
     "execution_count": 26,
     "metadata": {},
     "output_type": "execute_result"
    }
   ],
   "source": [
    "nvd[[\"CVE\", \"Description\"]].head(5).style.hide_index()"
   ]
  },
  {
   "cell_type": "code",
   "execution_count": 27,
   "id": "b7f86a25",
   "metadata": {
    "execution": {
     "iopub.execute_input": "2022-01-20T18:19:47.788943Z",
     "iopub.status.busy": "2022-01-20T18:19:47.788322Z",
     "iopub.status.idle": "2022-01-20T18:19:47.792439Z",
     "shell.execute_reply": "2022-01-20T18:19:47.792047Z"
    }
   },
   "outputs": [
    {
     "data": {
      "text/markdown": [
       "### Last 5 CVEs"
      ],
      "text/plain": [
       "<IPython.core.display.Markdown object>"
      ]
     },
     "execution_count": 27,
     "metadata": {},
     "output_type": "execute_result"
    }
   ],
   "source": [
    "Markdown(f\"### Last 5 CVEs\")"
   ]
  },
  {
   "cell_type": "code",
   "execution_count": 28,
   "id": "ceramic-gather",
   "metadata": {
    "execution": {
     "iopub.execute_input": "2022-01-20T18:19:47.797455Z",
     "iopub.status.busy": "2022-01-20T18:19:47.794135Z",
     "iopub.status.idle": "2022-01-20T18:19:47.801956Z",
     "shell.execute_reply": "2022-01-20T18:19:47.801519Z"
    }
   },
   "outputs": [
    {
     "data": {
      "text/html": [
       "<style type=\"text/css\">\n",
       "</style>\n",
       "<table id=\"T_064af_\">\n",
       "  <thead>\n",
       "    <tr>\n",
       "      <th class=\"col_heading level0 col0\" >CVE</th>\n",
       "      <th class=\"col_heading level0 col1\" >Description</th>\n",
       "    </tr>\n",
       "  </thead>\n",
       "  <tbody>\n",
       "    <tr>\n",
       "      <td id=\"T_064af_row0_col0\" class=\"data row0 col0\" >CVE-2021-46027</td>\n",
       "      <td id=\"T_064af_row0_col1\" class=\"data row0 col1\" >mysiteforme, as of 19-12-2022, has a CSRF vulnerability in the background blog management. The attacker constructs a CSRF load. Once the administrator clicks a malicious link, a blog tag will be added</td>\n",
       "    </tr>\n",
       "    <tr>\n",
       "      <td id=\"T_064af_row1_col0\" class=\"data row1 col0\" >CVE-2021-4143</td>\n",
       "      <td id=\"T_064af_row1_col1\" class=\"data row1 col1\" >Cross-site Scripting (XSS) - Generic in GitHub repository bigbluebutton/bigbluebutton prior to 2.4.0.</td>\n",
       "    </tr>\n",
       "    <tr>\n",
       "      <td id=\"T_064af_row2_col0\" class=\"data row2 col0\" >CVE-2021-46026</td>\n",
       "      <td id=\"T_064af_row2_col1\" class=\"data row2 col1\" >mysiteforme, as of 19-12-2022, is vulnerable to Cross Site Scripting (XSS) via the add blog tag function in the blog tag in the background blog management.</td>\n",
       "    </tr>\n",
       "    <tr>\n",
       "      <td id=\"T_064af_row3_col0\" class=\"data row3 col0\" >CVE-2021-46028</td>\n",
       "      <td id=\"T_064af_row3_col1\" class=\"data row3 col1\" >In mblog <= 3.5.0 there is a CSRF vulnerability in the background article management. The attacker constructs a CSRF load. Once the administrator clicks a malicious link, the article will be deleted.</td>\n",
       "    </tr>\n",
       "    <tr>\n",
       "      <td id=\"T_064af_row4_col0\" class=\"data row4 col0\" >CVE-2021-43269</td>\n",
       "      <td id=\"T_064af_row4_col1\" class=\"data row4 col1\" >In Code42 app before 8.8.0, eval injection allows an attacker to change a device’s proxy configuration to use a malicious proxy auto-config (PAC) file, leading to arbitrary code execution. This affects Incydr Basic, Advanced, and Gov F1; CrashPlan Cloud; and CrashPlan for Small Business. (Incydr Professional and Enterprise are unaffected.)</td>\n",
       "    </tr>\n",
       "  </tbody>\n",
       "</table>\n"
      ],
      "text/plain": [
       "<pandas.io.formats.style.Styler at 0x7fa40804c760>"
      ]
     },
     "execution_count": 28,
     "metadata": {},
     "output_type": "execute_result"
    }
   ],
   "source": [
    "\n",
    "nvd[[\"CVE\", \"Description\"]].tail(5).style.hide_index()"
   ]
  },
  {
   "cell_type": "code",
   "execution_count": 29,
   "id": "20ee3a71",
   "metadata": {
    "execution": {
     "iopub.execute_input": "2022-01-20T18:19:47.805490Z",
     "iopub.status.busy": "2022-01-20T18:19:47.805043Z",
     "iopub.status.idle": "2022-01-20T18:19:47.810102Z",
     "shell.execute_reply": "2022-01-20T18:19:47.809694Z"
    }
   },
   "outputs": [
    {
     "data": {
      "text/markdown": [
       "This report is updated automatically every day, last generated on: **2022-01-20 18:19:47.803692**"
      ],
      "text/plain": [
       "<IPython.core.display.Markdown object>"
      ]
     },
     "execution_count": 29,
     "metadata": {},
     "output_type": "execute_result"
    }
   ],
   "source": [
    "Markdown(f\"This report is updated automatically every day, last generated on: **{datetime.datetime.now()}**\")"
   ]
  }
 ],
 "metadata": {
  "kernelspec": {
   "display_name": "Python 3 (ipykernel)",
   "language": "python",
   "name": "python3"
  },
  "language_info": {
   "codemirror_mode": {
    "name": "ipython",
    "version": 3
   },
   "file_extension": ".py",
   "mimetype": "text/x-python",
   "name": "python",
   "nbconvert_exporter": "python",
   "pygments_lexer": "ipython3",
   "version": "3.9.9"
  }
 },
 "nbformat": 4,
 "nbformat_minor": 5
}
