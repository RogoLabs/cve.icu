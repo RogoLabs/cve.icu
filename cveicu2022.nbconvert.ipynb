{
 "cells": [
  {
   "cell_type": "markdown",
   "id": "serious-pressing",
   "metadata": {},
   "source": [
    "# CVE.ICU - 2022\n",
    "---"
   ]
  },
  {
   "cell_type": "markdown",
   "id": "persistent-circus",
   "metadata": {},
   "source": [
    "This information from this website is from a [jupyter notebook](https://jupyter.org/) that automatically pulls all [JSON Data](https://nvd.nist.gov/vuln/data-feeds#JSON_FEED) from the NVD and perform some fundamental data analysis and graphing.  If you have any questions or suggestions, please join the [discussion here](https://github.com/jgamblin/cve.icu/discussions) and check out the [source code](https://github.com/jgamblin/cve.icu/).  Questions? Reach out to [@jgamblin](https://www.twitter.com/jgamblin).\n",
    "\n",
    "**Yearly Data**\n",
    "-  [All](https://cve.icu/)\n",
    "-  [2022](2022.html)\n",
    "-  [2021](2021.html)\n",
    "-  [2020](2020.html)\n",
    "-  [2019](2019.html)\n",
    "\n",
    "**Other Data**\n",
    "-  [CVE Growth Predictions](prophet.html)\n",
    "-  [CVE Calendar All Years](calendar.html)\n",
    "-  [CNA Map](cnamap.html)"
   ]
  },
  {
   "cell_type": "markdown",
   "id": "36813e36",
   "metadata": {},
   "source": [
    "## CVE Data"
   ]
  },
  {
   "cell_type": "code",
   "execution_count": 1,
   "id": "diverse-prison",
   "metadata": {
    "execution": {
     "iopub.execute_input": "2022-01-31T18:19:50.629763Z",
     "iopub.status.busy": "2022-01-31T18:19:50.629171Z",
     "iopub.status.idle": "2022-01-31T18:19:51.676366Z",
     "shell.execute_reply": "2022-01-31T18:19:51.677128Z"
    },
    "tags": []
   },
   "outputs": [],
   "source": [
    "\n",
    "from IPython.core.magic import register_cell_magic\n",
    "from IPython.display import Markdown\n",
    "import calplot\n",
    "import datetime\n",
    "from datetime import date\n",
    "import glob\n",
    "import json\n",
    "import logging\n",
    "import matplotlib.pyplot as plt\n",
    "import numpy as np\n",
    "import pandas as pd\n",
    "import warnings\n",
    "\n",
    "@register_cell_magic\n",
    "def markdown(line, cell):\n",
    "    return Markdown(cell.format(**globals()))\n",
    "\n",
    "\n",
    "logging.getLogger('matplotlib.font_manager').disabled = True\n",
    "warnings.filterwarnings(\"ignore\")\n",
    "pd.set_option('display.width', 500)\n",
    "pd.set_option('display.max_rows', 50)\n",
    "pd.set_option('display.max_columns', 10)"
   ]
  },
  {
   "cell_type": "code",
   "execution_count": 2,
   "id": "organized-ambassador",
   "metadata": {
    "execution": {
     "iopub.execute_input": "2022-01-31T18:19:51.695780Z",
     "iopub.status.busy": "2022-01-31T18:19:51.686193Z",
     "iopub.status.idle": "2022-01-31T18:20:32.354400Z",
     "shell.execute_reply": "2022-01-31T18:20:32.353295Z"
    },
    "tags": []
   },
   "outputs": [],
   "source": [
    "row_accumulator = []\n",
    "for filename in glob.glob('nvdcve-1.1-*.json'):\n",
    "    with open(filename, 'r', encoding='utf-8') as f:\n",
    "        nvd_data = json.load(f)\n",
    "        for entry in nvd_data['CVE_Items']:\n",
    "            cve = entry['cve']['CVE_data_meta']['ID']\n",
    "            try:\n",
    "                assigner = entry['cve']['CVE_data_meta']['ASSIGNER']\n",
    "            except KeyError:\n",
    "                published_date = 'Missing_Data'\n",
    "            try:\n",
    "                published_date = entry['publishedDate']\n",
    "            except KeyError:\n",
    "                published_date = 'Missing_Data'\n",
    "            try:\n",
    "                attack_vector = entry['impact']['baseMetricV3']['cvssV3']['attackVector']\n",
    "            except KeyError:\n",
    "                attack_vector = 'Missing_Data'\n",
    "            try:\n",
    "                attack_complexity = entry['impact']['baseMetricV3']['cvssV3']['attackComplexity']\n",
    "            except KeyError:\n",
    "                attack_complexity = 'Missing_Data'\n",
    "            try:\n",
    "                privileges_required = entry['impact']['baseMetricV3']['cvssV3']['privilegesRequired']\n",
    "            except KeyError:\n",
    "                privileges_required = 'Missing_Data'\n",
    "            try:\n",
    "                user_interaction = entry['impact']['baseMetricV3']['cvssV3']['userInteraction']\n",
    "            except KeyError:\n",
    "                user_interaction = 'Missing_Data'\n",
    "            try:\n",
    "                scope = entry['impact']['baseMetricV3']['cvssV3']['scope']\n",
    "            except KeyError:\n",
    "                scope = 'Missing_Data'\n",
    "            try:\n",
    "                confidentiality_impact = entry['impact']['baseMetricV3']['cvssV3']['confidentialityImpact']\n",
    "            except KeyError:\n",
    "                confidentiality_impact = 'Missing_Data'\n",
    "            try:\n",
    "                integrity_impact = entry['impact']['baseMetricV3']['cvssV3']['integrityImpact']\n",
    "            except KeyError:\n",
    "                integrity_impact = 'Missing_Data'\n",
    "            try:\n",
    "                availability_impact = entry['impact']['baseMetricV3']['cvssV3']['availabilityImpact']\n",
    "            except KeyError:\n",
    "                availability_impact = 'Missing_Data'\n",
    "            try:\n",
    "                base_score = entry['impact']['baseMetricV3']['cvssV3']['baseScore']\n",
    "            except KeyError:\n",
    "                base_score = '0.0'\n",
    "            try:\n",
    "                base_severity = entry['impact']['baseMetricV3']['cvssV3']['baseSeverity']\n",
    "            except KeyError:\n",
    "                base_severity = 'Missing_Data'\n",
    "            try:\n",
    "                exploitability_score = entry['impact']['baseMetricV3']['exploitabilityScore']\n",
    "            except KeyError:\n",
    "                exploitability_score = 'Missing_Data'\n",
    "            try:\n",
    "                impact_score = entry['impact']['baseMetricV3']['impactScore']\n",
    "            except KeyError:\n",
    "                impact_score = 'Missing_Data'\n",
    "            try:\n",
    "                cwe = entry['cve']['problemtype']['problemtype_data'][0]['description'][0]['value']\n",
    "            except IndexError:\n",
    "                cwe = 'Missing_Data'\n",
    "            try:\n",
    "                description = entry['cve']['description']['description_data'][0]['value']\n",
    "            except IndexError:\n",
    "                description = ''\n",
    "            new_row = { \n",
    "                'CVE': cve, \n",
    "                'Published': published_date,\n",
    "                'AttackVector': attack_vector,\n",
    "                'AttackComplexity': attack_complexity,\n",
    "                'PrivilegesRequired': privileges_required,\n",
    "                'UserInteraction': user_interaction,\n",
    "                'Scope': scope,\n",
    "                'ConfidentialityImpact': confidentiality_impact,\n",
    "                'IntegrityImpact': integrity_impact,\n",
    "                'AvailabilityImpact': availability_impact,\n",
    "                'BaseScore': base_score,\n",
    "                'BaseSeverity': base_severity,\n",
    "                'ExploitabilityScore': exploitability_score,\n",
    "                'ImpactScore': impact_score,\n",
    "                'CWE': cwe,\n",
    "                'Description': description,\n",
    "                'Assigner' : assigner\n",
    "            }\n",
    "            if not description.startswith('** REJECT **'): # disputed, rejected and other non issues start with '**'\n",
    "                row_accumulator.append(new_row)\n",
    "        nvd = pd.DataFrame(row_accumulator)\n",
    "    \n",
    "nvd['Published'] = pd.to_datetime(nvd['Published'])\n",
    "thisyear = ((nvd['Published'] > '2022-01-01') & (nvd['Published']  < '2022-12-31'))\n",
    "nvd = nvd.loc[thisyear]\n",
    "nvd = nvd.sort_values(by=['Published'])\n",
    "nvd = nvd.reset_index(drop=True)\n",
    "nvd['BaseScore'] = pd.to_numeric(nvd['BaseScore']);\n",
    "nvd['BaseScore'] = pd.to_numeric(nvd['BaseScore']);\n",
    "nvd['BaseScore'] = nvd['BaseScore'].replace(0, np.NaN);\n",
    "nvdcount = nvd['Published'].count()\n",
    "nvdunique = nvd['Published'].nunique()\n",
    "startdate = date(2022, 1, 1)\n",
    "enddate  = date.today()\n",
    "numberofdays = enddate - startdate \n",
    "per_day = nvdcount/numberofdays.days"
   ]
  },
  {
   "cell_type": "code",
   "execution_count": 3,
   "id": "e04459ff",
   "metadata": {
    "execution": {
     "iopub.execute_input": "2022-01-31T18:20:32.363899Z",
     "iopub.status.busy": "2022-01-31T18:20:32.362802Z",
     "iopub.status.idle": "2022-01-31T18:20:32.366865Z",
     "shell.execute_reply": "2022-01-31T18:20:32.366387Z"
    }
   },
   "outputs": [
    {
     "data": {
      "text/markdown": [
       "Total Number of CVEs: **1993**<br />Average CVEs Per Day: **66.43**<br />Average CVSS Score: **6.86**"
      ],
      "text/plain": [
       "<IPython.core.display.Markdown object>"
      ]
     },
     "execution_count": 3,
     "metadata": {},
     "output_type": "execute_result"
    }
   ],
   "source": [
    "Markdown(f\"Total Number of CVEs: **{nvd['CVE'].count()}**<br />Average CVEs Per Day: **{per_day.round(2)}**<br />Average CVSS Score: **{nvd['BaseScore'].mean().round(2)}**\")"
   ]
  },
  {
   "cell_type": "markdown",
   "id": "5c69f867",
   "metadata": {},
   "source": []
  },
  {
   "cell_type": "code",
   "execution_count": 4,
   "id": "18a9c60b",
   "metadata": {
    "execution": {
     "iopub.execute_input": "2022-01-31T18:20:32.372474Z",
     "iopub.status.busy": "2022-01-31T18:20:32.371535Z",
     "iopub.status.idle": "2022-01-31T18:20:32.374585Z",
     "shell.execute_reply": "2022-01-31T18:20:32.374113Z"
    }
   },
   "outputs": [
    {
     "data": {
      "text/markdown": [
       "## CVE Graphs"
      ],
      "text/plain": [
       "<IPython.core.display.Markdown object>"
      ]
     },
     "execution_count": 4,
     "metadata": {},
     "output_type": "execute_result"
    }
   ],
   "source": [
    "Markdown(f\"## CVE Graphs\")"
   ]
  },
  {
   "cell_type": "code",
   "execution_count": 5,
   "id": "39c9867a",
   "metadata": {
    "execution": {
     "iopub.execute_input": "2022-01-31T18:20:32.382117Z",
     "iopub.status.busy": "2022-01-31T18:20:32.381572Z",
     "iopub.status.idle": "2022-01-31T18:20:32.388498Z",
     "shell.execute_reply": "2022-01-31T18:20:32.387932Z"
    }
   },
   "outputs": [],
   "source": [
    "Month_Graph = nvd['Published'].groupby(nvd.Published.dt.to_period(\"M\")).agg('count')\n",
    "Year_Graph = nvd['Published'].groupby(nvd.Published.dt.to_period(\"Y\")).agg('count')\n",
    "Week_Graph = nvd['Published'].groupby(nvd.Published.dt.to_period(\"W\")).agg('count')\n",
    "Day_Graph = nvd['Published'].groupby(nvd.Published.dt.to_period(\"D\")).agg('count')"
   ]
  },
  {
   "cell_type": "code",
   "execution_count": 6,
   "id": "83f72f6a",
   "metadata": {
    "execution": {
     "iopub.execute_input": "2022-01-31T18:20:32.393068Z",
     "iopub.status.busy": "2022-01-31T18:20:32.392049Z",
     "iopub.status.idle": "2022-01-31T18:20:32.395179Z",
     "shell.execute_reply": "2022-01-31T18:20:32.395638Z"
    }
   },
   "outputs": [
    {
     "data": {
      "text/markdown": [
       "### CVE Calendar"
      ],
      "text/plain": [
       "<IPython.core.display.Markdown object>"
      ]
     },
     "execution_count": 6,
     "metadata": {},
     "output_type": "execute_result"
    }
   ],
   "source": [
    "Markdown(f\"### CVE Calendar\")"
   ]
  },
  {
   "cell_type": "code",
   "execution_count": 7,
   "id": "fdaba3b0",
   "metadata": {
    "execution": {
     "iopub.execute_input": "2022-01-31T18:20:32.404223Z",
     "iopub.status.busy": "2022-01-31T18:20:32.403407Z",
     "iopub.status.idle": "2022-01-31T18:20:32.893539Z",
     "shell.execute_reply": "2022-01-31T18:20:32.892727Z"
    }
   },
   "outputs": [
    {
     "data": {
      "image/png": "[encoded data removed]",
      "text/plain": [
       "<Figure size 1800x216 with 2 Axes>"
      ]
     },
     "metadata": {
      "needs_background": "light"
     },
     "output_type": "display_data"
    }
   ],
   "source": [
    "dfs = nvd['Published'].apply(lambda x: pd.to_datetime(x, errors='coerce', format='%Y/%m/%d'))\n",
    "df = dfs.value_counts()\n",
    "df = df.to_frame()\n",
    "df.index = df.index.strftime('%m/%d/%Y')\n",
    "df.index = pd.to_datetime(df.index, format='%m/%d/%Y')\n",
    "calplot.calplot(df.T.squeeze(), cmap='jet', dropzero=True, edgecolor=\"Grey\", textcolor=\"White\", textformat='{:.0f}', textfiller='', suptitle='CVEs Per Day', figsize=(25,3));"
   ]
  },
  {
   "cell_type": "code",
   "execution_count": 8,
   "id": "2ce24285",
   "metadata": {
    "execution": {
     "iopub.execute_input": "2022-01-31T18:20:32.898323Z",
     "iopub.status.busy": "2022-01-31T18:20:32.897782Z",
     "iopub.status.idle": "2022-01-31T18:20:32.902618Z",
     "shell.execute_reply": "2022-01-31T18:20:32.902155Z"
    }
   },
   "outputs": [
    {
     "data": {
      "text/markdown": [
       "### CVE Per Month Graph"
      ],
      "text/plain": [
       "<IPython.core.display.Markdown object>"
      ]
     },
     "execution_count": 8,
     "metadata": {},
     "output_type": "execute_result"
    }
   ],
   "source": [
    "Markdown(f\"### CVE Per Month Graph\")"
   ]
  },
  {
   "cell_type": "code",
   "execution_count": 9,
   "id": "endless-cylinder",
   "metadata": {
    "execution": {
     "iopub.execute_input": "2022-01-31T18:20:32.908034Z",
     "iopub.status.busy": "2022-01-31T18:20:32.906451Z",
     "iopub.status.idle": "2022-01-31T18:20:33.118614Z",
     "shell.execute_reply": "2022-01-31T18:20:33.118073Z"
    }
   },
   "outputs": [
    {
     "data": {
      "image/png": "[encoded data removed]",
      "text/plain": [
       "<Figure size 1152x576 with 1 Axes>"
      ]
     },
     "metadata": {
      "needs_background": "light"
     },
     "output_type": "display_data"
    }
   ],
   "source": [
    "\n",
    "cg = Month_Graph.plot.area(colormap='jet', figsize=(16, 8), title='CVEs Per Month')\n",
    "plt.grid()\n",
    "cg.set_ylabel(\"New CVEs\");\n",
    "cg.set_xlabel(\"Date\");"
   ]
  },
  {
   "cell_type": "code",
   "execution_count": 10,
   "id": "befe79e1",
   "metadata": {
    "execution": {
     "iopub.execute_input": "2022-01-31T18:20:33.123399Z",
     "iopub.status.busy": "2022-01-31T18:20:33.122869Z",
     "iopub.status.idle": "2022-01-31T18:20:33.127745Z",
     "shell.execute_reply": "2022-01-31T18:20:33.127316Z"
    }
   },
   "outputs": [
    {
     "data": {
      "text/markdown": [
       "### CVE Per Week Graph"
      ],
      "text/plain": [
       "<IPython.core.display.Markdown object>"
      ]
     },
     "execution_count": 10,
     "metadata": {},
     "output_type": "execute_result"
    }
   ],
   "source": [
    "Markdown(f\"### CVE Per Week Graph\")"
   ]
  },
  {
   "cell_type": "code",
   "execution_count": 11,
   "id": "common-louis",
   "metadata": {
    "execution": {
     "iopub.execute_input": "2022-01-31T18:20:33.160461Z",
     "iopub.status.busy": "2022-01-31T18:20:33.133414Z",
     "iopub.status.idle": "2022-01-31T18:20:33.313528Z",
     "shell.execute_reply": "2022-01-31T18:20:33.312659Z"
    }
   },
   "outputs": [
    {
     "data": {
      "image/png": "[encoded data removed]",
      "text/plain": [
       "<Figure size 1152x576 with 1 Axes>"
      ]
     },
     "metadata": {
      "needs_background": "light"
     },
     "output_type": "display_data"
    }
   ],
   "source": [
    "\n",
    "cg = Week_Graph.plot.area(colormap='jet', figsize=(16, 8), title='CVEs Per Week')\n",
    "plt.grid()\n",
    "cg.set_ylabel(\"New CVEs\");\n",
    "cg.set_xlabel(\"Date\");"
   ]
  },
  {
   "cell_type": "code",
   "execution_count": 12,
   "id": "989be730",
   "metadata": {
    "execution": {
     "iopub.execute_input": "2022-01-31T18:20:33.318640Z",
     "iopub.status.busy": "2022-01-31T18:20:33.317086Z",
     "iopub.status.idle": "2022-01-31T18:20:33.323551Z",
     "shell.execute_reply": "2022-01-31T18:20:33.322573Z"
    }
   },
   "outputs": [
    {
     "data": {
      "text/markdown": [
       "### CVE Per Day Graph"
      ],
      "text/plain": [
       "<IPython.core.display.Markdown object>"
      ]
     },
     "execution_count": 12,
     "metadata": {},
     "output_type": "execute_result"
    }
   ],
   "source": [
    "Markdown(f\"### CVE Per Day Graph\")"
   ]
  },
  {
   "cell_type": "code",
   "execution_count": 13,
   "id": "smooth-stupid",
   "metadata": {
    "execution": {
     "iopub.execute_input": "2022-01-31T18:20:33.330486Z",
     "iopub.status.busy": "2022-01-31T18:20:33.325795Z",
     "iopub.status.idle": "2022-01-31T18:20:33.566686Z",
     "shell.execute_reply": "2022-01-31T18:20:33.567141Z"
    }
   },
   "outputs": [
    {
     "data": {
      "image/png": "[encoded data removed]",
      "text/plain": [
       "<Figure size 1152x576 with 1 Axes>"
      ]
     },
     "metadata": {
      "needs_background": "light"
     },
     "output_type": "display_data"
    }
   ],
   "source": [
    "\n",
    "cg = Day_Graph.plot.area(colormap='jet', figsize=(16, 8), title='CVEs Per Day')\n",
    "plt.grid()\n",
    "cg.set_ylabel(\"New CVEs\");\n",
    "cg.set_xlabel(\"Date\");"
   ]
  },
  {
   "cell_type": "code",
   "execution_count": 14,
   "id": "51593e0c",
   "metadata": {
    "execution": {
     "iopub.execute_input": "2022-01-31T18:20:33.572049Z",
     "iopub.status.busy": "2022-01-31T18:20:33.570419Z",
     "iopub.status.idle": "2022-01-31T18:20:33.574116Z",
     "shell.execute_reply": "2022-01-31T18:20:33.574570Z"
    }
   },
   "outputs": [
    {
     "data": {
      "text/markdown": [
       "## CVSS Data"
      ],
      "text/plain": [
       "<IPython.core.display.Markdown object>"
      ]
     },
     "execution_count": 14,
     "metadata": {},
     "output_type": "execute_result"
    }
   ],
   "source": [
    "Markdown(f\"## CVSS Data\")"
   ]
  },
  {
   "cell_type": "code",
   "execution_count": 15,
   "id": "0652f359",
   "metadata": {
    "execution": {
     "iopub.execute_input": "2022-01-31T18:20:33.580471Z",
     "iopub.status.busy": "2022-01-31T18:20:33.579016Z",
     "iopub.status.idle": "2022-01-31T18:20:33.763101Z",
     "shell.execute_reply": "2022-01-31T18:20:33.763548Z"
    }
   },
   "outputs": [
    {
     "data": {
      "image/png": "[encoded data removed]",
      "text/plain": [
       "<Figure size 1152x576 with 1 Axes>"
      ]
     },
     "metadata": {
      "needs_background": "light"
     },
     "output_type": "display_data"
    }
   ],
   "source": [
    "nvd['BaseScore'].plot(kind=\"hist\", colormap='jet', figsize=(16, 8), title='CVSS Scores');"
   ]
  },
  {
   "cell_type": "code",
   "execution_count": 16,
   "id": "f0210783",
   "metadata": {
    "execution": {
     "iopub.execute_input": "2022-01-31T18:20:33.768478Z",
     "iopub.status.busy": "2022-01-31T18:20:33.766620Z",
     "iopub.status.idle": "2022-01-31T18:20:33.773709Z",
     "shell.execute_reply": "2022-01-31T18:20:33.773275Z"
    }
   },
   "outputs": [
    {
     "data": {
      "text/markdown": [
       "## CNA Data"
      ],
      "text/plain": [
       "<IPython.core.display.Markdown object>"
      ]
     },
     "execution_count": 16,
     "metadata": {},
     "output_type": "execute_result"
    }
   ],
   "source": [
    "Markdown(f\"## CNA Data\")"
   ]
  },
  {
   "cell_type": "code",
   "execution_count": 17,
   "id": "96ff98c6",
   "metadata": {
    "execution": {
     "iopub.execute_input": "2022-01-31T18:20:33.795001Z",
     "iopub.status.busy": "2022-01-31T18:20:33.778645Z",
     "iopub.status.idle": "2022-01-31T18:20:34.052182Z",
     "shell.execute_reply": "2022-01-31T18:20:34.052932Z"
    }
   },
   "outputs": [
    {
     "data": {
      "image/png": "[encoded data removed]",
      "text/plain": [
       "<Figure size 720x720 with 1 Axes>"
      ]
     },
     "metadata": {
      "needs_background": "light"
     },
     "output_type": "display_data"
    }
   ],
   "source": [
    "Markdown(f\"### CNA Assigner Graph\")\n",
    "nvd_frequency = nvd['Assigner'].value_counts()\n",
    "nvd_frequency = nvd_frequency.reset_index()\n",
    "nvd_frequency.columns = ['Assigner', 'counts']\n",
    "nvd_frequency.head(50)\n",
    "nvd_frequency_no_mitre = nvd_frequency[~nvd_frequency.Assigner.str.contains('cve@mitre.org')]\n",
    "nvd_frequency_no_mitre = nvd_frequency_no_mitre.head(20)\n",
    "plt.figure(figsize=(10,10))\n",
    "plt.barh(\"Assigner\", \"counts\", data = nvd_frequency_no_mitre, color=\"#001d82\")\n",
    "plt.xlabel(\"CVEs\"); \n",
    "plt.ylabel(\"\") ;\n",
    "plt.title(\"Top 20 CNAs\");\n"
   ]
  },
  {
   "cell_type": "code",
   "execution_count": 18,
   "id": "aa3ea191",
   "metadata": {
    "execution": {
     "iopub.execute_input": "2022-01-31T18:20:34.057780Z",
     "iopub.status.busy": "2022-01-31T18:20:34.057253Z",
     "iopub.status.idle": "2022-01-31T18:20:34.062299Z",
     "shell.execute_reply": "2022-01-31T18:20:34.061838Z"
    }
   },
   "outputs": [
    {
     "data": {
      "text/markdown": [
       "## CWE Data"
      ],
      "text/plain": [
       "<IPython.core.display.Markdown object>"
      ]
     },
     "execution_count": 18,
     "metadata": {},
     "output_type": "execute_result"
    }
   ],
   "source": [
    "Markdown(f\"## CWE Data\")"
   ]
  },
  {
   "cell_type": "code",
   "execution_count": 19,
   "id": "6815f0a1",
   "metadata": {
    "execution": {
     "iopub.execute_input": "2022-01-31T18:20:34.084031Z",
     "iopub.status.busy": "2022-01-31T18:20:34.083488Z",
     "iopub.status.idle": "2022-01-31T18:20:34.327691Z",
     "shell.execute_reply": "2022-01-31T18:20:34.327209Z"
    }
   },
   "outputs": [
    {
     "data": {
      "image/png": "[encoded data removed]",
      "text/plain": [
       "<Figure size 720x720 with 1 Axes>"
      ]
     },
     "metadata": {
      "needs_background": "light"
     },
     "output_type": "display_data"
    }
   ],
   "source": [
    "nvd_cwe = nvd['CWE'].value_counts()\n",
    "nvd_cwe = nvd_cwe.reset_index()\n",
    "nvd_cwe.columns = ['CWE', 'counts']\n",
    "nvd_cwe = nvd_cwe[~nvd_cwe.CWE.str.contains('Missing_')]\n",
    "nvd_cwe = nvd_cwe[~nvd_cwe.CWE.str.contains('NVD')]\n",
    "nvd_cwe = nvd_cwe.head(25)\n",
    "plt.figure(figsize=(10,10));\n",
    "plt.barh(\"CWE\", \"counts\", data = nvd_cwe, color=\"#001d82\");\n",
    "plt.xlabel(\"Count\"); \n",
    "plt.ylabel(\"CWE\") ;\n",
    "plt.title(\"Most Common CWE in CVE Records\");\n"
   ]
  },
  {
   "cell_type": "code",
   "execution_count": 20,
   "id": "1cbec814-905a-4028-b72f-98da5081b10d",
   "metadata": {
    "execution": {
     "iopub.execute_input": "2022-01-31T18:20:34.332447Z",
     "iopub.status.busy": "2022-01-31T18:20:34.330953Z",
     "iopub.status.idle": "2022-01-31T18:20:34.336254Z",
     "shell.execute_reply": "2022-01-31T18:20:34.335790Z"
    }
   },
   "outputs": [
    {
     "data": {
      "text/markdown": [
       "## More CVE Data"
      ],
      "text/plain": [
       "<IPython.core.display.Markdown object>"
      ]
     },
     "execution_count": 20,
     "metadata": {},
     "output_type": "execute_result"
    }
   ],
   "source": [
    "Markdown(f\"## More CVE Data\")"
   ]
  },
  {
   "cell_type": "code",
   "execution_count": 21,
   "id": "5dbbc915",
   "metadata": {
    "execution": {
     "iopub.execute_input": "2022-01-31T18:20:34.340586Z",
     "iopub.status.busy": "2022-01-31T18:20:34.340061Z",
     "iopub.status.idle": "2022-01-31T18:20:34.345228Z",
     "shell.execute_reply": "2022-01-31T18:20:34.344800Z"
    }
   },
   "outputs": [
    {
     "data": {
      "text/markdown": [
       "### Top CNA Assigner"
      ],
      "text/plain": [
       "<IPython.core.display.Markdown object>"
      ]
     },
     "execution_count": 21,
     "metadata": {},
     "output_type": "execute_result"
    }
   ],
   "source": [
    "Markdown(f\"### Top CNA Assigner\")"
   ]
  },
  {
   "cell_type": "code",
   "execution_count": 22,
   "id": "04a26e54",
   "metadata": {
    "execution": {
     "iopub.execute_input": "2022-01-31T18:20:34.348930Z",
     "iopub.status.busy": "2022-01-31T18:20:34.348409Z",
     "iopub.status.idle": "2022-01-31T18:20:34.563503Z",
     "shell.execute_reply": "2022-01-31T18:20:34.563015Z"
    }
   },
   "outputs": [
    {
     "data": {
      "text/html": [
       "<style type=\"text/css\">\n",
       "</style>\n",
       "<table id=\"T_214d2\">\n",
       "  <thead>\n",
       "    <tr>\n",
       "      <th id=\"T_214d2_level0_col0\" class=\"col_heading level0 col0\" >Assigner</th>\n",
       "      <th id=\"T_214d2_level0_col1\" class=\"col_heading level0 col1\" >counts</th>\n",
       "    </tr>\n",
       "  </thead>\n",
       "  <tbody>\n",
       "    <tr>\n",
       "      <td id=\"T_214d2_row0_col0\" class=\"data row0 col0\" >secalert_us@oracle.com</td>\n",
       "      <td id=\"T_214d2_row0_col1\" class=\"data row0 col1\" >163</td>\n",
       "    </tr>\n",
       "    <tr>\n",
       "      <td id=\"T_214d2_row1_col0\" class=\"data row1 col0\" >security@huntr.dev</td>\n",
       "      <td id=\"T_214d2_row1_col1\" class=\"data row1 col1\" >103</td>\n",
       "    </tr>\n",
       "    <tr>\n",
       "      <td id=\"T_214d2_row2_col0\" class=\"data row2 col0\" >secure@microsoft.com</td>\n",
       "      <td id=\"T_214d2_row2_col1\" class=\"data row2 col1\" >101</td>\n",
       "    </tr>\n",
       "    <tr>\n",
       "      <td id=\"T_214d2_row3_col0\" class=\"data row3 col0\" >zdi-disclosures@trendmicro.com</td>\n",
       "      <td id=\"T_214d2_row3_col1\" class=\"data row3 col1\" >98</td>\n",
       "    </tr>\n",
       "    <tr>\n",
       "      <td id=\"T_214d2_row4_col0\" class=\"data row4 col0\" >talos-cna@cisco.com</td>\n",
       "      <td id=\"T_214d2_row4_col1\" class=\"data row4 col1\" >83</td>\n",
       "    </tr>\n",
       "    <tr>\n",
       "      <td id=\"T_214d2_row5_col0\" class=\"data row5 col0\" >security-advisories@github.com</td>\n",
       "      <td id=\"T_214d2_row5_col1\" class=\"data row5 col1\" >82</td>\n",
       "    </tr>\n",
       "    <tr>\n",
       "      <td id=\"T_214d2_row6_col0\" class=\"data row6 col0\" >contact@wpscan.com</td>\n",
       "      <td id=\"T_214d2_row6_col1\" class=\"data row6 col1\" >73</td>\n",
       "    </tr>\n",
       "    <tr>\n",
       "      <td id=\"T_214d2_row7_col0\" class=\"data row7 col0\" >psirt@huawei.com</td>\n",
       "      <td id=\"T_214d2_row7_col1\" class=\"data row7 col1\" >71</td>\n",
       "    </tr>\n",
       "    <tr>\n",
       "      <td id=\"T_214d2_row8_col0\" class=\"data row8 col0\" >psirt@adobe.com</td>\n",
       "      <td id=\"T_214d2_row8_col1\" class=\"data row8 col1\" >46</td>\n",
       "    </tr>\n",
       "    <tr>\n",
       "      <td id=\"T_214d2_row9_col0\" class=\"data row9 col0\" >security.cna@qualcomm.com</td>\n",
       "      <td id=\"T_214d2_row9_col1\" class=\"data row9 col1\" >40</td>\n",
       "    </tr>\n",
       "    <tr>\n",
       "      <td id=\"T_214d2_row10_col0\" class=\"data row10 col0\" >security@apache.org</td>\n",
       "      <td id=\"T_214d2_row10_col1\" class=\"data row10 col1\" >32</td>\n",
       "    </tr>\n",
       "    <tr>\n",
       "      <td id=\"T_214d2_row11_col0\" class=\"data row11 col0\" >security@android.com</td>\n",
       "      <td id=\"T_214d2_row11_col1\" class=\"data row11 col1\" >27</td>\n",
       "    </tr>\n",
       "    <tr>\n",
       "      <td id=\"T_214d2_row12_col0\" class=\"data row12 col0\" >sirt@juniper.net</td>\n",
       "      <td id=\"T_214d2_row12_col1\" class=\"data row12 col1\" >27</td>\n",
       "    </tr>\n",
       "    <tr>\n",
       "      <td id=\"T_214d2_row13_col0\" class=\"data row13 col0\" >f5sirt@f5.com</td>\n",
       "      <td id=\"T_214d2_row13_col1\" class=\"data row13 col1\" >25</td>\n",
       "    </tr>\n",
       "    <tr>\n",
       "      <td id=\"T_214d2_row14_col0\" class=\"data row14 col0\" >jenkinsci-cert@googlegroups.com</td>\n",
       "      <td id=\"T_214d2_row14_col1\" class=\"data row14 col1\" >24</td>\n",
       "    </tr>\n",
       "    <tr>\n",
       "      <td id=\"T_214d2_row15_col0\" class=\"data row15 col0\" >psirt@us.ibm.com</td>\n",
       "      <td id=\"T_214d2_row15_col1\" class=\"data row15 col1\" >24</td>\n",
       "    </tr>\n",
       "    <tr>\n",
       "      <td id=\"T_214d2_row16_col0\" class=\"data row16 col0\" >cybersecurity@schneider-electric.com</td>\n",
       "      <td id=\"T_214d2_row16_col1\" class=\"data row16 col1\" >21</td>\n",
       "    </tr>\n",
       "    <tr>\n",
       "      <td id=\"T_214d2_row17_col0\" class=\"data row17 col0\" >ics-cert@hq.dhs.gov</td>\n",
       "      <td id=\"T_214d2_row17_col1\" class=\"data row17 col1\" >20</td>\n",
       "    </tr>\n",
       "    <tr>\n",
       "      <td id=\"T_214d2_row18_col0\" class=\"data row18 col0\" >vulnerabilitylab@whitesourcesoftware.com</td>\n",
       "      <td id=\"T_214d2_row18_col1\" class=\"data row18 col1\" >19</td>\n",
       "    </tr>\n",
       "    <tr>\n",
       "      <td id=\"T_214d2_row19_col0\" class=\"data row19 col0\" >psirt@cisco.com</td>\n",
       "      <td id=\"T_214d2_row19_col1\" class=\"data row19 col1\" >18</td>\n",
       "    </tr>\n",
       "  </tbody>\n",
       "</table>\n"
      ],
      "text/plain": [
       "<pandas.io.formats.style.Styler at 0x7f8ddf1f4c40>"
      ]
     },
     "execution_count": 22,
     "metadata": {},
     "output_type": "execute_result"
    }
   ],
   "source": [
    "nvd_frequency_no_mitre.style.hide_index()"
   ]
  },
  {
   "cell_type": "code",
   "execution_count": 23,
   "id": "aa164366-d0e6-4ca5-890b-95ea69f2801c",
   "metadata": {
    "execution": {
     "iopub.execute_input": "2022-01-31T18:20:34.568655Z",
     "iopub.status.busy": "2022-01-31T18:20:34.567940Z",
     "iopub.status.idle": "2022-01-31T18:20:34.572735Z",
     "shell.execute_reply": "2022-01-31T18:20:34.573140Z"
    }
   },
   "outputs": [
    {
     "data": {
      "text/markdown": [
       "### CVEs By Identifier"
      ],
      "text/plain": [
       "<IPython.core.display.Markdown object>"
      ]
     },
     "execution_count": 23,
     "metadata": {},
     "output_type": "execute_result"
    }
   ],
   "source": [
    "Markdown(f\"### CVEs By Identifier\")"
   ]
  },
  {
   "cell_type": "code",
   "execution_count": 24,
   "id": "661f28f1-9568-4e97-acb3-75e45e596f1f",
   "metadata": {
    "execution": {
     "iopub.execute_input": "2022-01-31T18:20:34.612409Z",
     "iopub.status.busy": "2022-01-31T18:20:34.586322Z",
     "iopub.status.idle": "2022-01-31T18:20:34.635077Z",
     "shell.execute_reply": "2022-01-31T18:20:34.634582Z"
    }
   },
   "outputs": [
    {
     "name": "stdout",
     "output_type": "stream",
     "text": [
      "CVE-1999-\t0\n",
      "CVE-2000-\t0\n",
      "CVE-2001-\t0\n",
      "CVE-2002-\t0\n",
      "CVE-2003-\t0\n",
      "CVE-2004-\t0\n",
      "CVE-2005-\t0\n",
      "CVE-2006-\t0\n",
      "CVE-2007-\t0\n",
      "CVE-2008-\t0\n",
      "CVE-2009-\t0\n",
      "CVE-2010-\t0\n",
      "CVE-2011-\t0\n",
      "CVE-2012-\t0\n",
      "CVE-2013-\t0\n",
      "CVE-2014-\t0\n",
      "CVE-2015-\t0\n",
      "CVE-2016-\t1\n",
      "CVE-2017-\t0\n",
      "CVE-2018-\t0\n",
      "CVE-2019-\t1\n",
      "CVE-2020-\t32\n",
      "CVE-2021-\t1229\n",
      "CVE-2022-\t730\n"
     ]
    }
   ],
   "source": [
    "\n",
    "print(\"CVE-1999-\\t%s\" % len(nvd[nvd['CVE'].str.contains('CVE-1999-')]))\n",
    "print(\"CVE-2000-\\t%s\" % len(nvd[nvd['CVE'].str.contains('CVE-2000-')]))\n",
    "print(\"CVE-2001-\\t%s\" % len(nvd[nvd['CVE'].str.contains('CVE-2001-')]))\n",
    "print(\"CVE-2002-\\t%s\" % len(nvd[nvd['CVE'].str.contains('CVE-2002-')]))\n",
    "print(\"CVE-2003-\\t%s\" % len(nvd[nvd['CVE'].str.contains('CVE-2003-')]))\n",
    "print(\"CVE-2004-\\t%s\" % len(nvd[nvd['CVE'].str.contains('CVE-2004-')]))\n",
    "print(\"CVE-2005-\\t%s\" % len(nvd[nvd['CVE'].str.contains('CVE-2005-')]))\n",
    "print(\"CVE-2006-\\t%s\" % len(nvd[nvd['CVE'].str.contains('CVE-2006-')]))\n",
    "print(\"CVE-2007-\\t%s\" % len(nvd[nvd['CVE'].str.contains('CVE-2007-')]))\n",
    "print(\"CVE-2008-\\t%s\" % len(nvd[nvd['CVE'].str.contains('CVE-2008-')]))\n",
    "print(\"CVE-2009-\\t%s\" % len(nvd[nvd['CVE'].str.contains('CVE-2009-')]))\n",
    "print(\"CVE-2010-\\t%s\" % len(nvd[nvd['CVE'].str.contains('CVE-2010-')]))\n",
    "print(\"CVE-2011-\\t%s\" % len(nvd[nvd['CVE'].str.contains('CVE-2011-')]))\n",
    "print(\"CVE-2012-\\t%s\" % len(nvd[nvd['CVE'].str.contains('CVE-2012-')]))\n",
    "print(\"CVE-2013-\\t%s\" % len(nvd[nvd['CVE'].str.contains('CVE-2013-')]))\n",
    "print(\"CVE-2014-\\t%s\" % len(nvd[nvd['CVE'].str.contains('CVE-2014-')]))\n",
    "print(\"CVE-2015-\\t%s\" % len(nvd[nvd['CVE'].str.contains('CVE-2015-')]))\n",
    "print(\"CVE-2016-\\t%s\" % len(nvd[nvd['CVE'].str.contains('CVE-2016-')]))\n",
    "print(\"CVE-2017-\\t%s\" % len(nvd[nvd['CVE'].str.contains('CVE-2017-')]))\n",
    "print(\"CVE-2018-\\t%s\" % len(nvd[nvd['CVE'].str.contains('CVE-2018-')]))\n",
    "print(\"CVE-2019-\\t%s\" % len(nvd[nvd['CVE'].str.contains('CVE-2019-')]))\n",
    "print(\"CVE-2020-\\t%s\" % len(nvd[nvd['CVE'].str.contains('CVE-2020-')]))\n",
    "print(\"CVE-2021-\\t%s\" % len(nvd[nvd['CVE'].str.contains('CVE-2021-')]))\n",
    "print(\"CVE-2022-\\t%s\" % len(nvd[nvd['CVE'].str.contains('CVE-2022-')]))"
   ]
  },
  {
   "cell_type": "code",
   "execution_count": 25,
   "id": "1cc30ff0",
   "metadata": {
    "execution": {
     "iopub.execute_input": "2022-01-31T18:20:34.640106Z",
     "iopub.status.busy": "2022-01-31T18:20:34.638535Z",
     "iopub.status.idle": "2022-01-31T18:20:34.644198Z",
     "shell.execute_reply": "2022-01-31T18:20:34.644632Z"
    }
   },
   "outputs": [
    {
     "data": {
      "text/markdown": [
       "### First 5 CVEs"
      ],
      "text/plain": [
       "<IPython.core.display.Markdown object>"
      ]
     },
     "execution_count": 25,
     "metadata": {},
     "output_type": "execute_result"
    }
   ],
   "source": [
    "Markdown(f\"### First 5 CVEs\")"
   ]
  },
  {
   "cell_type": "code",
   "execution_count": 26,
   "id": "robust-sustainability",
   "metadata": {
    "execution": {
     "iopub.execute_input": "2022-01-31T18:20:34.649758Z",
     "iopub.status.busy": "2022-01-31T18:20:34.649237Z",
     "iopub.status.idle": "2022-01-31T18:20:34.662053Z",
     "shell.execute_reply": "2022-01-31T18:20:34.662524Z"
    }
   },
   "outputs": [
    {
     "data": {
      "text/html": [
       "<style type=\"text/css\">\n",
       "</style>\n",
       "<table id=\"T_c547c\">\n",
       "  <thead>\n",
       "    <tr>\n",
       "      <th id=\"T_c547c_level0_col0\" class=\"col_heading level0 col0\" >CVE</th>\n",
       "      <th id=\"T_c547c_level0_col1\" class=\"col_heading level0 col1\" >Description</th>\n",
       "    </tr>\n",
       "  </thead>\n",
       "  <tbody>\n",
       "    <tr>\n",
       "      <td id=\"T_c547c_row0_col0\" class=\"data row0 col0\" >CVE-2021-45955</td>\n",
       "      <td id=\"T_c547c_row0_col1\" class=\"data row0 col1\" >Dnsmasq 2.86 has a heap-based buffer overflow in resize_packet (called from FuzzResizePacket and fuzz_rfc1035.c).</td>\n",
       "    </tr>\n",
       "    <tr>\n",
       "      <td id=\"T_c547c_row1_col0\" class=\"data row1 col0\" >CVE-2021-45956</td>\n",
       "      <td id=\"T_c547c_row1_col1\" class=\"data row1 col1\" >Dnsmasq 2.86 has a heap-based buffer overflow in print_mac (called from log_packet and dhcp_reply).</td>\n",
       "    </tr>\n",
       "    <tr>\n",
       "      <td id=\"T_c547c_row2_col0\" class=\"data row2 col0\" >CVE-2021-45954</td>\n",
       "      <td id=\"T_c547c_row2_col1\" class=\"data row2 col1\" >Dnsmasq 2.86 has a heap-based buffer overflow in extract_name (called from answer_auth and FuzzAuth).</td>\n",
       "    </tr>\n",
       "    <tr>\n",
       "      <td id=\"T_c547c_row3_col0\" class=\"data row3 col0\" >CVE-2021-45953</td>\n",
       "      <td id=\"T_c547c_row3_col1\" class=\"data row3 col1\" >Dnsmasq 2.86 has a heap-based buffer overflow in extract_name (called from hash_questions and fuzz_util.c).</td>\n",
       "    </tr>\n",
       "    <tr>\n",
       "      <td id=\"T_c547c_row4_col0\" class=\"data row4 col0\" >CVE-2021-45952</td>\n",
       "      <td id=\"T_c547c_row4_col1\" class=\"data row4 col1\" >Dnsmasq 2.86 has a heap-based buffer overflow in dhcp_reply (called from dhcp_packet and FuzzDhcp).</td>\n",
       "    </tr>\n",
       "  </tbody>\n",
       "</table>\n"
      ],
      "text/plain": [
       "<pandas.io.formats.style.Styler at 0x7f8de5dae4c0>"
      ]
     },
     "execution_count": 26,
     "metadata": {},
     "output_type": "execute_result"
    }
   ],
   "source": [
    "nvd[[\"CVE\", \"Description\"]].head(5).style.hide_index()"
   ]
  },
  {
   "cell_type": "code",
   "execution_count": 27,
   "id": "b7f86a25",
   "metadata": {
    "execution": {
     "iopub.execute_input": "2022-01-31T18:20:34.666867Z",
     "iopub.status.busy": "2022-01-31T18:20:34.666243Z",
     "iopub.status.idle": "2022-01-31T18:20:34.669396Z",
     "shell.execute_reply": "2022-01-31T18:20:34.669805Z"
    }
   },
   "outputs": [
    {
     "data": {
      "text/markdown": [
       "### Last 5 CVEs"
      ],
      "text/plain": [
       "<IPython.core.display.Markdown object>"
      ]
     },
     "execution_count": 27,
     "metadata": {},
     "output_type": "execute_result"
    }
   ],
   "source": [
    "Markdown(f\"### Last 5 CVEs\")"
   ]
  },
  {
   "cell_type": "code",
   "execution_count": 28,
   "id": "ceramic-gather",
   "metadata": {
    "execution": {
     "iopub.execute_input": "2022-01-31T18:20:34.677601Z",
     "iopub.status.busy": "2022-01-31T18:20:34.674076Z",
     "iopub.status.idle": "2022-01-31T18:20:34.684686Z",
     "shell.execute_reply": "2022-01-31T18:20:34.685093Z"
    }
   },
   "outputs": [
    {
     "data": {
      "text/html": [
       "<style type=\"text/css\">\n",
       "</style>\n",
       "<table id=\"T_dd1af\">\n",
       "  <thead>\n",
       "    <tr>\n",
       "      <th id=\"T_dd1af_level0_col0\" class=\"col_heading level0 col0\" >CVE</th>\n",
       "      <th id=\"T_dd1af_level0_col1\" class=\"col_heading level0 col1\" >Description</th>\n",
       "    </tr>\n",
       "  </thead>\n",
       "  <tbody>\n",
       "    <tr>\n",
       "      <td id=\"T_dd1af_row0_col0\" class=\"data row0 col0\" >CVE-2022-0339</td>\n",
       "      <td id=\"T_dd1af_row0_col1\" class=\"data row0 col1\" >Server-Side Request Forgery (SSRF) in Pypi calibreweb prior to 0.6.16.</td>\n",
       "    </tr>\n",
       "    <tr>\n",
       "      <td id=\"T_dd1af_row1_col0\" class=\"data row1 col0\" >CVE-2022-0273</td>\n",
       "      <td id=\"T_dd1af_row1_col1\" class=\"data row1 col1\" >Improper Access Control in Pypi calibreweb prior to 0.6.16.</td>\n",
       "    </tr>\n",
       "    <tr>\n",
       "      <td id=\"T_dd1af_row2_col0\" class=\"data row2 col0\" >CVE-2022-0413</td>\n",
       "      <td id=\"T_dd1af_row2_col1\" class=\"data row2 col1\" >Use After Free in Conda vim prior to 8.2.</td>\n",
       "    </tr>\n",
       "    <tr>\n",
       "      <td id=\"T_dd1af_row3_col0\" class=\"data row3 col0\" >CVE-2022-0408</td>\n",
       "      <td id=\"T_dd1af_row3_col1\" class=\"data row3 col1\" >Stack-based Buffer Overflow in Conda vim prior to 8.2.</td>\n",
       "    </tr>\n",
       "    <tr>\n",
       "      <td id=\"T_dd1af_row4_col0\" class=\"data row4 col0\" >CVE-2022-24130</td>\n",
       "      <td id=\"T_dd1af_row4_col1\" class=\"data row4 col1\" >xterm through Patch 370, when Sixel support is enabled, allows attackers to trigger a buffer overflow in set_sixel in graphics_sixel.c via crafted text.</td>\n",
       "    </tr>\n",
       "  </tbody>\n",
       "</table>\n"
      ],
      "text/plain": [
       "<pandas.io.formats.style.Styler at 0x7f8de1011130>"
      ]
     },
     "execution_count": 28,
     "metadata": {},
     "output_type": "execute_result"
    }
   ],
   "source": [
    "\n",
    "nvd[[\"CVE\", \"Description\"]].tail(5).style.hide_index()"
   ]
  },
  {
   "cell_type": "code",
   "execution_count": 29,
   "id": "20ee3a71",
   "metadata": {
    "execution": {
     "iopub.execute_input": "2022-01-31T18:20:34.689451Z",
     "iopub.status.busy": "2022-01-31T18:20:34.688926Z",
     "iopub.status.idle": "2022-01-31T18:20:34.693376Z",
     "shell.execute_reply": "2022-01-31T18:20:34.693802Z"
    }
   },
   "outputs": [
    {
     "data": {
      "text/markdown": [
       "This report is updated automatically every day, last generated on: **2022-01-31 18:20:34.687543**"
      ],
      "text/plain": [
       "<IPython.core.display.Markdown object>"
      ]
     },
     "execution_count": 29,
     "metadata": {},
     "output_type": "execute_result"
    }
   ],
   "source": [
    "Markdown(f\"This report is updated automatically every day, last generated on: **{datetime.datetime.now()}**\")"
   ]
  }
 ],
 "metadata": {
  "kernelspec": {
   "display_name": "Python 3 (ipykernel)",
   "language": "python",
   "name": "python3"
  },
  "language_info": {
   "codemirror_mode": {
    "name": "ipython",
    "version": 3
   },
   "file_extension": ".py",
   "mimetype": "text/x-python",
   "name": "python",
   "nbconvert_exporter": "python",
   "pygments_lexer": "ipython3",
   "version": "3.9.10"
  }
 },
 "nbformat": 4,
 "nbformat_minor": 5
}
