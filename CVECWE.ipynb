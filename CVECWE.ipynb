{
 "cells": [
  {
   "cell_type": "markdown",
   "id": "serious-pressing",
   "metadata": {},
   "source": [
    "# CWE Data\n",
    "---"
   ]
  },
  {
   "cell_type": "code",
   "execution_count": 1,
   "id": "91b44dc2",
   "metadata": {
    "execution": {
     "iopub.execute_input": "2022-12-02T18:16:46.654686Z",
     "iopub.status.busy": "2022-12-02T18:16:46.654412Z",
     "iopub.status.idle": "2022-12-02T18:16:47.274382Z",
     "shell.execute_reply": "2022-12-02T18:16:47.273687Z"
    },
    "tags": [
     "remove-cell"
    ]
   },
   "outputs": [],
   "source": [
    "from IPython.core.magic import register_cell_magic\n",
    "from IPython.display import Markdown\n",
    "import datetime\n",
    "from datetime import date\n",
    "import glob\n",
    "import json\n",
    "import logging\n",
    "import matplotlib.pyplot as plt\n",
    "import numpy as np\n",
    "import pandas as pd\n",
    "import plotly\n",
    "import warnings\n",
    "import calplot\n",
    "\n",
    "@register_cell_magic\n",
    "def markdown(line, cell):\n",
    "    return Markdown(cell.format(**globals()))\n",
    "\n",
    "\n",
    "logging.getLogger('matplotlib.font_manager').disabled = True\n",
    "warnings.filterwarnings(\"ignore\")\n",
    "pd.set_option('display.width', 500)\n",
    "pd.set_option('display.max_rows', 50)\n",
    "pd.set_option('display.max_columns', 10)"
   ]
  },
  {
   "cell_type": "code",
   "execution_count": 2,
   "id": "98bafc2f-2e20-4032-a091-ec2dc0ecb7a5",
   "metadata": {
    "execution": {
     "iopub.execute_input": "2022-12-02T18:16:47.278296Z",
     "iopub.status.busy": "2022-12-02T18:16:47.277859Z",
     "iopub.status.idle": "2022-12-02T18:17:27.559347Z",
     "shell.execute_reply": "2022-12-02T18:17:27.558643Z"
    },
    "tags": [
     "remove-cell"
    ]
   },
   "outputs": [],
   "source": [
    "\n",
    "row_accumulator = []\n",
    "for filename in glob.glob('nvdcve-1.1-*.json'):\n",
    "    with open(filename, 'r', encoding='utf-8') as f:\n",
    "        nvd_data = json.load(f)\n",
    "        for entry in nvd_data['CVE_Items']:\n",
    "            cve = entry['cve']['CVE_data_meta']['ID']\n",
    "            try:\n",
    "                assigner = entry['cve']['CVE_data_meta']['ASSIGNER']\n",
    "            except KeyError:\n",
    "                published_date = 'Missing_Data'\n",
    "            try:\n",
    "                published_date = entry['publishedDate']\n",
    "            except KeyError:\n",
    "                published_date = 'Missing_Data'\n",
    "            try:\n",
    "                attack_vector = entry['impact']['baseMetricV3']['cvssV3']['attackVector']\n",
    "            except KeyError:\n",
    "                attack_vector = 'Missing_Data'\n",
    "            try:\n",
    "                attack_complexity = entry['impact']['baseMetricV3']['cvssV3']['attackComplexity']\n",
    "            except KeyError:\n",
    "                attack_complexity = 'Missing_Data'\n",
    "            try:\n",
    "                privileges_required = entry['impact']['baseMetricV3']['cvssV3']['privilegesRequired']\n",
    "            except KeyError:\n",
    "                privileges_required = 'Missing_Data'\n",
    "            try:\n",
    "                user_interaction = entry['impact']['baseMetricV3']['cvssV3']['userInteraction']\n",
    "            except KeyError:\n",
    "                user_interaction = 'Missing_Data'\n",
    "            try:\n",
    "                scope = entry['impact']['baseMetricV3']['cvssV3']['scope']\n",
    "            except KeyError:\n",
    "                scope = 'Missing_Data'\n",
    "            try:\n",
    "                confidentiality_impact = entry['impact']['baseMetricV3']['cvssV3']['confidentialityImpact']\n",
    "            except KeyError:\n",
    "                confidentiality_impact = 'Missing_Data'\n",
    "            try:\n",
    "                integrity_impact = entry['impact']['baseMetricV3']['cvssV3']['integrityImpact']\n",
    "            except KeyError:\n",
    "                integrity_impact = 'Missing_Data'\n",
    "            try:\n",
    "                availability_impact = entry['impact']['baseMetricV3']['cvssV3']['availabilityImpact']\n",
    "            except KeyError:\n",
    "                availability_impact = 'Missing_Data'\n",
    "            try:\n",
    "                base_score = entry['impact']['baseMetricV3']['cvssV3']['baseScore']\n",
    "            except KeyError:\n",
    "                base_score = '0.0'\n",
    "            try:\n",
    "                base_severity = entry['impact']['baseMetricV3']['cvssV3']['baseSeverity']\n",
    "            except KeyError:\n",
    "                base_severity = 'Missing_Data'\n",
    "            try:\n",
    "                exploitability_score = entry['impact']['baseMetricV3']['exploitabilityScore']\n",
    "            except KeyError:\n",
    "                exploitability_score = 'Missing_Data'\n",
    "            try:\n",
    "                impact_score = entry['impact']['baseMetricV3']['impactScore']\n",
    "            except KeyError:\n",
    "                impact_score = 'Missing_Data'\n",
    "            try:\n",
    "                cwe = entry['cve']['problemtype']['problemtype_data'][0]['description'][0]['value']\n",
    "            except IndexError:\n",
    "                cwe = 'Missing_Data'\n",
    "            try:\n",
    "                description = entry['cve']['description']['description_data'][0]['value']\n",
    "            except IndexError:\n",
    "                description = ''\n",
    "            new_row = { \n",
    "                'CVE': cve, \n",
    "                'Published': published_date,\n",
    "                'AttackVector': attack_vector,\n",
    "                'AttackComplexity': attack_complexity,\n",
    "                'PrivilegesRequired': privileges_required,\n",
    "                'UserInteraction': user_interaction,\n",
    "                'Scope': scope,\n",
    "                'ConfidentialityImpact': confidentiality_impact,\n",
    "                'IntegrityImpact': integrity_impact,\n",
    "                'AvailabilityImpact': availability_impact,\n",
    "                'BaseScore': base_score,\n",
    "                'BaseSeverity': base_severity,\n",
    "                'ExploitabilityScore': exploitability_score,\n",
    "                'ImpactScore': impact_score,\n",
    "                'CWE': cwe,\n",
    "                'Description': description,\n",
    "                'Assigner' : assigner\n",
    "            }\n",
    "            if not description.startswith('** REJECT **'): # disputed, rejected and other non issues start with '**'\n",
    "                row_accumulator.append(new_row)\n",
    "        nvd = pd.DataFrame(row_accumulator)\n",
    "    \n",
    "nvd['Published'] = pd.to_datetime(nvd['Published'])\n",
    "thisyear = ((nvd['Published'] > '2000-01-01') & (nvd['Published']  < '2023-12-31'))\n",
    "nvd = nvd.loc[thisyear]\n",
    "nvd = nvd.sort_values(by=['Published'])\n",
    "nvd = nvd.reset_index(drop=True)\n",
    "nvd['BaseScore'] = pd.to_numeric(nvd['BaseScore']);\n",
    "nvd['BaseScore'] = pd.to_numeric(nvd['BaseScore']);\n",
    "nvd['BaseScore'] = nvd['BaseScore'].replace(0, np.NaN);\n",
    "nvdcount = nvd['Published'].count()\n",
    "nvdunique = nvd['Published'].nunique()\n",
    "startdate = date(2000, 1, 1)\n",
    "enddate  = date.today()\n",
    "numberofdays = enddate - startdate \n",
    "per_day = nvdcount/numberofdays.days"
   ]
  },
  {
   "cell_type": "markdown",
   "id": "aa3ea191",
   "metadata": {
    "tags": [
     "hide-input"
    ]
   },
   "source": [
    "\n",
    "\n",
    "## CWE Data"
   ]
  },
  {
   "cell_type": "code",
   "execution_count": 3,
   "id": "6815f0a1",
   "metadata": {
    "execution": {
     "iopub.execute_input": "2022-12-02T18:17:27.563124Z",
     "iopub.status.busy": "2022-12-02T18:17:27.562493Z",
     "iopub.status.idle": "2022-12-02T18:17:27.937334Z",
     "shell.execute_reply": "2022-12-02T18:17:27.936564Z"
    },
    "tags": [
     "remove-input"
    ]
   },
   "outputs": [
    {
     "data": {
      "image/png": "[encoded data removed]",
      "text/plain": [
       "<Figure size 1000x1000 with 1 Axes>"
      ]
     },
     "metadata": {},
     "output_type": "display_data"
    }
   ],
   "source": [
    "nvd_cwe = nvd['CWE'].value_counts()\n",
    "nvd_cwe = nvd_cwe.reset_index()\n",
    "nvd_cwe.columns = ['CWE', 'counts']\n",
    "nvd_cwe = nvd_cwe[~nvd_cwe.CWE.str.contains('Missing_')]\n",
    "nvd_cwe = nvd_cwe[~nvd_cwe.CWE.str.contains('NVD')]\n",
    "nvd_cwe = nvd_cwe[nvd_cwe.counts > 100].head(25)\n",
    "plt.figure(figsize=(10,10));\n",
    "plt.barh(\"CWE\", \"counts\", data = nvd_cwe, color=\"#001d82\");\n",
    "plt.xlabel(\"Count\"); \n",
    "plt.ylabel(\"CWE\") ;\n",
    "plt.title(\"Most Common CWE in CVE Records\");\n"
   ]
  },
  {
   "cell_type": "code",
   "execution_count": 4,
   "id": "04a26e54",
   "metadata": {
    "execution": {
     "iopub.execute_input": "2022-12-02T18:17:27.940484Z",
     "iopub.status.busy": "2022-12-02T18:17:27.940246Z",
     "iopub.status.idle": "2022-12-02T18:17:27.999167Z",
     "shell.execute_reply": "2022-12-02T18:17:27.998441Z"
    },
    "tags": [
     "remove-input"
    ]
   },
   "outputs": [
    {
     "data": {
      "text/html": [
       "<style type=\"text/css\">\n",
       "</style>\n",
       "<table id=\"T_5e410\">\n",
       "  <thead>\n",
       "    <tr>\n",
       "      <th id=\"T_5e410_level0_col0\" class=\"col_heading level0 col0\" >CWE</th>\n",
       "      <th id=\"T_5e410_level0_col1\" class=\"col_heading level0 col1\" >counts</th>\n",
       "    </tr>\n",
       "  </thead>\n",
       "  <tbody>\n",
       "    <tr>\n",
       "      <td id=\"T_5e410_row0_col0\" class=\"data row0 col0\" >CWE-79</td>\n",
       "      <td id=\"T_5e410_row0_col1\" class=\"data row0 col1\" >20260</td>\n",
       "    </tr>\n",
       "    <tr>\n",
       "      <td id=\"T_5e410_row1_col0\" class=\"data row1 col0\" >CWE-119</td>\n",
       "      <td id=\"T_5e410_row1_col1\" class=\"data row1 col1\" >11473</td>\n",
       "    </tr>\n",
       "    <tr>\n",
       "      <td id=\"T_5e410_row2_col0\" class=\"data row2 col0\" >CWE-20</td>\n",
       "      <td id=\"T_5e410_row2_col1\" class=\"data row2 col1\" >8806</td>\n",
       "    </tr>\n",
       "    <tr>\n",
       "      <td id=\"T_5e410_row3_col0\" class=\"data row3 col0\" >CWE-89</td>\n",
       "      <td id=\"T_5e410_row3_col1\" class=\"data row3 col1\" >8643</td>\n",
       "    </tr>\n",
       "    <tr>\n",
       "      <td id=\"T_5e410_row4_col0\" class=\"data row4 col0\" >CWE-787</td>\n",
       "      <td id=\"T_5e410_row4_col1\" class=\"data row4 col1\" >7084</td>\n",
       "    </tr>\n",
       "    <tr>\n",
       "      <td id=\"T_5e410_row5_col0\" class=\"data row5 col0\" >CWE-200</td>\n",
       "      <td id=\"T_5e410_row5_col1\" class=\"data row5 col1\" >6655</td>\n",
       "    </tr>\n",
       "    <tr>\n",
       "      <td id=\"T_5e410_row6_col0\" class=\"data row6 col0\" >CWE-264</td>\n",
       "      <td id=\"T_5e410_row6_col1\" class=\"data row6 col1\" >5269</td>\n",
       "    </tr>\n",
       "    <tr>\n",
       "      <td id=\"T_5e410_row7_col0\" class=\"data row7 col0\" >CWE-22</td>\n",
       "      <td id=\"T_5e410_row7_col1\" class=\"data row7 col1\" >4774</td>\n",
       "    </tr>\n",
       "    <tr>\n",
       "      <td id=\"T_5e410_row8_col0\" class=\"data row8 col0\" >CWE-125</td>\n",
       "      <td id=\"T_5e410_row8_col1\" class=\"data row8 col1\" >4475</td>\n",
       "    </tr>\n",
       "    <tr>\n",
       "      <td id=\"T_5e410_row9_col0\" class=\"data row9 col0\" >CWE-352</td>\n",
       "      <td id=\"T_5e410_row9_col1\" class=\"data row9 col1\" >3992</td>\n",
       "    </tr>\n",
       "    <tr>\n",
       "      <td id=\"T_5e410_row10_col0\" class=\"data row10 col0\" >CWE-416</td>\n",
       "      <td id=\"T_5e410_row10_col1\" class=\"data row10 col1\" >2969</td>\n",
       "    </tr>\n",
       "    <tr>\n",
       "      <td id=\"T_5e410_row11_col0\" class=\"data row11 col0\" >CWE-94</td>\n",
       "      <td id=\"T_5e410_row11_col1\" class=\"data row11 col1\" >2816</td>\n",
       "    </tr>\n",
       "    <tr>\n",
       "      <td id=\"T_5e410_row12_col0\" class=\"data row12 col0\" >CWE-287</td>\n",
       "      <td id=\"T_5e410_row12_col1\" class=\"data row12 col1\" >2800</td>\n",
       "    </tr>\n",
       "    <tr>\n",
       "      <td id=\"T_5e410_row13_col0\" class=\"data row13 col0\" >CWE-399</td>\n",
       "      <td id=\"T_5e410_row13_col1\" class=\"data row13 col1\" >2548</td>\n",
       "    </tr>\n",
       "    <tr>\n",
       "      <td id=\"T_5e410_row14_col0\" class=\"data row14 col0\" >CWE-310</td>\n",
       "      <td id=\"T_5e410_row14_col1\" class=\"data row14 col1\" >2466</td>\n",
       "    </tr>\n",
       "    <tr>\n",
       "      <td id=\"T_5e410_row15_col0\" class=\"data row15 col0\" >CWE-78</td>\n",
       "      <td id=\"T_5e410_row15_col1\" class=\"data row15 col1\" >2360</td>\n",
       "    </tr>\n",
       "    <tr>\n",
       "      <td id=\"T_5e410_row16_col0\" class=\"data row16 col0\" >CWE-476</td>\n",
       "      <td id=\"T_5e410_row16_col1\" class=\"data row16 col1\" >1931</td>\n",
       "    </tr>\n",
       "    <tr>\n",
       "      <td id=\"T_5e410_row17_col0\" class=\"data row17 col0\" >CWE-190</td>\n",
       "      <td id=\"T_5e410_row17_col1\" class=\"data row17 col1\" >1691</td>\n",
       "    </tr>\n",
       "    <tr>\n",
       "      <td id=\"T_5e410_row18_col0\" class=\"data row18 col0\" >CWE-269</td>\n",
       "      <td id=\"T_5e410_row18_col1\" class=\"data row18 col1\" >1403</td>\n",
       "    </tr>\n",
       "    <tr>\n",
       "      <td id=\"T_5e410_row19_col0\" class=\"data row19 col0\" >CWE-434</td>\n",
       "      <td id=\"T_5e410_row19_col1\" class=\"data row19 col1\" >1390</td>\n",
       "    </tr>\n",
       "    <tr>\n",
       "      <td id=\"T_5e410_row20_col0\" class=\"data row20 col0\" >CWE-120</td>\n",
       "      <td id=\"T_5e410_row20_col1\" class=\"data row20 col1\" >1333</td>\n",
       "    </tr>\n",
       "    <tr>\n",
       "      <td id=\"T_5e410_row21_col0\" class=\"data row21 col0\" >CWE-189</td>\n",
       "      <td id=\"T_5e410_row21_col1\" class=\"data row21 col1\" >1222</td>\n",
       "    </tr>\n",
       "    <tr>\n",
       "      <td id=\"T_5e410_row22_col0\" class=\"data row22 col0\" >CWE-362</td>\n",
       "      <td id=\"T_5e410_row22_col1\" class=\"data row22 col1\" >1195</td>\n",
       "    </tr>\n",
       "    <tr>\n",
       "      <td id=\"T_5e410_row23_col0\" class=\"data row23 col0\" >CWE-77</td>\n",
       "      <td id=\"T_5e410_row23_col1\" class=\"data row23 col1\" >1139</td>\n",
       "    </tr>\n",
       "    <tr>\n",
       "      <td id=\"T_5e410_row24_col0\" class=\"data row24 col0\" >CWE-400</td>\n",
       "      <td id=\"T_5e410_row24_col1\" class=\"data row24 col1\" >1137</td>\n",
       "    </tr>\n",
       "  </tbody>\n",
       "</table>\n"
      ],
      "text/plain": [
       "<pandas.io.formats.style.Styler at 0x7f8b9b94b430>"
      ]
     },
     "execution_count": 4,
     "metadata": {},
     "output_type": "execute_result"
    }
   ],
   "source": [
    "nvd_cwe.style.hide_index()"
   ]
  },
  {
   "cell_type": "code",
   "execution_count": 5,
   "id": "20ee3a71",
   "metadata": {
    "execution": {
     "iopub.execute_input": "2022-12-02T18:17:28.002883Z",
     "iopub.status.busy": "2022-12-02T18:17:28.002579Z",
     "iopub.status.idle": "2022-12-02T18:17:28.007172Z",
     "shell.execute_reply": "2022-12-02T18:17:28.006500Z"
    },
    "tags": [
     "remove-input"
    ]
   },
   "outputs": [
    {
     "data": {
      "text/markdown": [
       "This report is updated automatically every day, last generated on: **2022-12-02 18:17:28.003787**"
      ],
      "text/plain": [
       "<IPython.core.display.Markdown object>"
      ]
     },
     "execution_count": 5,
     "metadata": {},
     "output_type": "execute_result"
    }
   ],
   "source": [
    "Markdown(f\"This report is updated automatically every day, last generated on: **{datetime.datetime.now()}**\")"
   ]
  }
 ],
 "metadata": {
  "kernelspec": {
   "display_name": "Python 3 (ipykernel)",
   "language": "python",
   "name": "python3"
  },
  "language_info": {
   "codemirror_mode": {
    "name": "ipython",
    "version": 3
   },
   "file_extension": ".py",
   "mimetype": "text/x-python",
   "name": "python",
   "nbconvert_exporter": "python",
   "pygments_lexer": "ipython3",
   "version": "3.10.8"
  },
  "vscode": {
   "interpreter": {
    "hash": "aee8b7b246df8f9039afb4144a1f6fd8d2ca17a180786b69acc140d282b71a49"
   }
  }
 },
 "nbformat": 4,
 "nbformat_minor": 5
}
