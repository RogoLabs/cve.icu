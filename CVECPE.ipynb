{
 "cells": [
  {
   "cell_type": "markdown",
   "id": "b3e3ebf1-3bba-41b2-9b9f-70bb80a9ad50",
   "metadata": {
    "tags": []
   },
   "source": [
    "# CPE Data"
   ]
  },
  {
   "cell_type": "code",
   "execution_count": 1,
   "id": "stuffed-appearance",
   "metadata": {
    "execution": {
     "iopub.execute_input": "2023-01-13T12:16:40.451626Z",
     "iopub.status.busy": "2023-01-13T12:16:40.451407Z",
     "iopub.status.idle": "2023-01-13T12:16:40.699362Z",
     "shell.execute_reply": "2023-01-13T12:16:40.698710Z"
    },
    "tags": [
     "remove-cell"
    ]
   },
   "outputs": [],
   "source": [
    "import glob\n",
    "import logging\n",
    "import json\n",
    "import os\n",
    "import pandas as pd\n",
    "import warnings\n",
    "\n",
    "logging.getLogger('matplotlib.font_manager').disabled = True\n",
    "warnings.filterwarnings(\"ignore\")"
   ]
  },
  {
   "cell_type": "code",
   "execution_count": 2,
   "id": "inner-count",
   "metadata": {
    "execution": {
     "iopub.execute_input": "2023-01-13T12:16:40.703360Z",
     "iopub.status.busy": "2023-01-13T12:16:40.703056Z",
     "iopub.status.idle": "2023-01-13T12:17:07.478439Z",
     "shell.execute_reply": "2023-01-13T12:17:07.477773Z"
    },
    "tags": [
     "remove-cell"
    ]
   },
   "outputs": [],
   "source": [
    "row_accumulator = []\n",
    "\n",
    "for filename in glob.glob('nvdcve-1.1-*.json'):\n",
    "    with open(filename, 'r', encoding='utf-8') as f:\n",
    "        nvd_data = json.load(f)\n",
    "        for cves in nvd_data['CVE_Items']:\n",
    "            if cves['configurations']['nodes'] != []:\n",
    "                if \"children\" in cves['configurations']['nodes'][0]:\n",
    "                    for j in range(len(cves['configurations']['nodes'][0]['children'])):\n",
    "                        for cpe in cves['configurations']['nodes'][0]['children'][j]['cpe_match']:\n",
    "                            if cpe['vulnerable'] == True:\n",
    "                                        cve = cves['cve']['CVE_data_meta']['ID']\n",
    "                                        cpe_string = cpe['cpe23Uri']\n",
    "                                        try:\n",
    "                                            end = cpe['versionEndExcluding']\n",
    "                                        except: \n",
    "                                            end = 'None'\n",
    "                                        try:\n",
    "                                            end2 = cpe['versionEndIncluding']\n",
    "                                        except: \n",
    "                                            end2 = 'None' \n",
    "                                        try:\n",
    "                                            start = cpe['versionStartExcluding']\n",
    "                                        except: \n",
    "                                            start = 'None'\n",
    "                                        try:\n",
    "                                            start2 = cpe['versionStartIncluding']\n",
    "                                        except: \n",
    "                                            start2 = 'None'     \n",
    "                                        new_row = { \n",
    "                                        'CVE': cve,\n",
    "                                        'CPE' : cpe_string,\n",
    "                                        'StartI' : start,\n",
    "                                        'StartE' : start2,\n",
    "                                        'EndI' : end,\n",
    "                                        'EndE' : end2 \n",
    "                                        }\n",
    "                                        row_accumulator.append(new_row)\n",
    "        \n",
    "\n",
    "\n",
    "nvd = pd.DataFrame(row_accumulator)                            "
   ]
  },
  {
   "cell_type": "markdown",
   "id": "833383cc-8ef0-4490-acdc-98671760b1a3",
   "metadata": {},
   "source": [
    "## CVEs With Most CPE"
   ]
  },
  {
   "cell_type": "code",
   "execution_count": 3,
   "id": "temporal-disposal",
   "metadata": {
    "execution": {
     "iopub.execute_input": "2023-01-13T12:17:07.481820Z",
     "iopub.status.busy": "2023-01-13T12:17:07.481455Z",
     "iopub.status.idle": "2023-01-13T12:17:07.510021Z",
     "shell.execute_reply": "2023-01-13T12:17:07.509367Z"
    },
    "tags": [
     "remove-input"
    ]
   },
   "outputs": [
    {
     "data": {
      "text/plain": [
       "CVE-2021-1620     690\n",
       "CVE-2022-22160    364\n",
       "CVE-2011-3664     325\n",
       "CVE-2012-1350     322\n",
       "CVE-2007-6694     316\n",
       "CVE-2008-7256     303\n",
       "CVE-2011-1011     270\n",
       "CVE-2021-31366    267\n",
       "CVE-2012-5120     248\n",
       "CVE-2016-5995     243\n",
       "CVE-2010-0741     241\n",
       "CVE-2022-22226    240\n",
       "CVE-2021-31382    239\n",
       "CVE-2021-0272     235\n",
       "CVE-2021-0228     231\n",
       "CVE-2020-1680     228\n",
       "CVE-2021-0273     226\n",
       "CVE-2009-2711     226\n",
       "CVE-2011-2366     225\n",
       "CVE-2011-3666     225\n",
       "Name: CVE, dtype: int64"
      ]
     },
     "execution_count": 3,
     "metadata": {},
     "output_type": "execute_result"
    }
   ],
   "source": [
    "nvd['CVE'].value_counts().head(20)"
   ]
  },
  {
   "cell_type": "markdown",
   "id": "69850125-3841-48cd-a36d-1cf998c68272",
   "metadata": {},
   "source": [
    "## Most Common CPEs"
   ]
  },
  {
   "cell_type": "code",
   "execution_count": 4,
   "id": "celtic-employer",
   "metadata": {
    "execution": {
     "iopub.execute_input": "2023-01-13T12:17:07.512877Z",
     "iopub.status.busy": "2023-01-13T12:17:07.512661Z",
     "iopub.status.idle": "2023-01-13T12:17:07.548584Z",
     "shell.execute_reply": "2023-01-13T12:17:07.547916Z"
    },
    "tags": [
     "remove-input"
    ]
   },
   "outputs": [
    {
     "data": {
      "text/plain": [
       "cpe:2.3:a:adobe:acrobat_dc:*:*:*:*:classic:*:*:*                         2009\n",
       "cpe:2.3:a:adobe:acrobat_reader_dc:*:*:*:*:classic:*:*:*                  2008\n",
       "cpe:2.3:a:adobe:acrobat_dc:*:*:*:*:continuous:*:*:*                      1438\n",
       "cpe:2.3:a:adobe:acrobat_reader_dc:*:*:*:*:continuous:*:*:*               1432\n",
       "cpe:2.3:a:adobe:flash_player:*:*:*:*:*:*:*:*                              708\n",
       "cpe:2.3:a:adobe:acrobat:*:*:*:*:*:*:*:*                                   651\n",
       "cpe:2.3:o:google:android:11.0:*:*:*:*:*:*:*                               428\n",
       "cpe:2.3:a:google:chrome:*:*:*:*:*:*:*:*                                   396\n",
       "cpe:2.3:a:foxitsoftware:phantompdf:*:*:*:*:*:*:*:*                        374\n",
       "cpe:2.3:o:google:android:12.0:*:*:*:*:*:*:*                               358\n",
       "cpe:2.3:a:adobe:reader:*:*:*:*:*:*:*:*                                    356\n",
       "cpe:2.3:o:google:android:10.0:*:*:*:*:*:*:*                               321\n",
       "cpe:2.3:o:qualcomm:apq8009_firmware:-:*:*:*:*:*:*:*                       314\n",
       "cpe:2.3:a:adobe:acrobat_reader:*:*:*:*:*:*:*:*                            300\n",
       "cpe:2.3:o:qualcomm:mdm9206_firmware:-:*:*:*:*:*:*:*                       266\n",
       "cpe:2.3:a:microsoft:edge:-:*:*:*:*:*:*:*                                  217\n",
       "cpe:2.3:a:foxitsoftware:reader:*:*:*:*:*:*:*:*                            194\n",
       "cpe:2.3:a:sandhillsdev:easy_digital_downloads:*:*:*:*:*:wordpress:*:*     186\n",
       "cpe:2.3:a:apple:safari:*:*:*:*:*:*:*:*                                    179\n",
       "cpe:2.3:a:mozilla:firefox:*:*:*:*:*:*:*:*                                 174\n",
       "Name: CPE, dtype: int64"
      ]
     },
     "execution_count": 4,
     "metadata": {},
     "output_type": "execute_result"
    }
   ],
   "source": [
    "nvd['CPE'].value_counts().head(20)"
   ]
  }
 ],
 "metadata": {
  "kernelspec": {
   "display_name": "Python 3.10.6 64-bit",
   "language": "python",
   "name": "python3"
  },
  "language_info": {
   "codemirror_mode": {
    "name": "ipython",
    "version": 3
   },
   "file_extension": ".py",
   "mimetype": "text/x-python",
   "name": "python",
   "nbconvert_exporter": "python",
   "pygments_lexer": "ipython3",
   "version": "3.10.9"
  },
  "vscode": {
   "interpreter": {
    "hash": "aee8b7b246df8f9039afb4144a1f6fd8d2ca17a180786b69acc140d282b71a49"
   }
  }
 },
 "nbformat": 4,
 "nbformat_minor": 5
}
