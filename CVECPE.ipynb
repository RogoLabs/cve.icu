{
 "cells": [
  {
   "cell_type": "markdown",
   "id": "serious-pressing",
   "metadata": {},
   "source": [
    "# CPE Data\n",
    "---"
   ]
  },
  {
   "cell_type": "code",
   "execution_count": null,
   "id": "91b44dc2",
   "metadata": {
    "execution": {
     "iopub.execute_input": "2025-01-06T16:21:58.218154Z",
     "iopub.status.busy": "2025-01-06T16:21:58.217985Z",
     "iopub.status.idle": "2025-01-06T16:21:58.855402Z",
     "shell.execute_reply": "2025-01-06T16:21:58.854823Z"
    },
    "tags": [
     "remove-cell"
    ]
   },
   "outputs": [],
   "source": [
    "from IPython.core.magic import register_cell_magic\n",
    "from IPython.display import Markdown\n",
    "import datetime\n",
    "from datetime import date\n",
    "import glob\n",
    "import json\n",
    "import logging\n",
    "import matplotlib.pyplot as plt\n",
    "import numpy as np\n",
    "import pandas as pd\n",
    "import plotly\n",
    "import warnings\n",
    "import calplot\n",
    "from itables import init_notebook_mode, show\n",
    "import itables.options as opt\n",
    "\n",
    "opt.dom = \"tpir\"\n",
    "opt.style = \"table-layout:auto;width:auto\"\n",
    "init_notebook_mode(all_interactive=True, connected=True)\n",
    "\n",
    "@register_cell_magic\n",
    "def markdown(line, cell):\n",
    "    return Markdown(cell.format(**globals()))\n",
    "\n",
    "\n",
    "logging.getLogger('matplotlib.font_manager').disabled = True\n",
    "warnings.filterwarnings(\"ignore\")\n",
    "pd.set_option('display.width', 500)\n",
    "pd.set_option('display.max_rows', 50)\n",
    "pd.set_option('display.max_columns', 10)"
   ]
  },
  {
   "cell_type": "code",
   "execution_count": 2,
   "id": "98bafc2f-2e20-4032-a091-ec2dc0ecb7a5",
   "metadata": {
    "execution": {
     "iopub.execute_input": "2025-01-06T16:21:58.857379Z",
     "iopub.status.busy": "2025-01-06T16:21:58.857161Z",
     "iopub.status.idle": "2025-01-06T16:22:22.964754Z",
     "shell.execute_reply": "2025-01-06T16:22:22.964158Z"
    },
    "tags": [
     "remove-cell"
    ]
   },
   "outputs": [],
   "source": [
    "row_accumulator = []\n",
    "\n",
    "for filename in glob.glob('nvd.jsonl'):\n",
    "    with open(filename, 'r', encoding='utf-8') as f:\n",
    "        nvd_data = json.load(f)\n",
    "        for entry in nvd_data:\n",
    "            if 'configurations' in entry['cve']:\n",
    "                for config in entry['cve']['configurations']:\n",
    "                    for node in config['nodes']:\n",
    "                        for cpe in node['cpeMatch']:\n",
    "                            if cpe['vulnerable']:\n",
    "                                        cve = entry['cve']['id']\n",
    "                                        try:\n",
    "                                            published_date = entry['cve']['published']\n",
    "                                        except KeyError:\n",
    "                                            published_date = 'Missing_Data'\n",
    "                                        cpe_string = cpe['criteria']\n",
    "                                        try:\n",
    "                                            end = cpe['versionEndExcluding']\n",
    "                                        except: \n",
    "                                            end = 'None'\n",
    "                                        try:\n",
    "                                            end2 = cpe['versionEndIncluding']\n",
    "                                        except: \n",
    "                                            end2 = 'None' \n",
    "                                        try:\n",
    "                                            start = cpe['versionStartExcluding']\n",
    "                                        except: \n",
    "                                            start = 'None'\n",
    "                                        try:\n",
    "                                            start2 = cpe['versionStartIncluding']\n",
    "                                        except: \n",
    "                                            start2 = 'None'     \n",
    "                                        new_row = { \n",
    "                                        'CVE': cve,\n",
    "                                        'Published': published_date,\n",
    "                                        'CPE' : cpe_string,\n",
    "                                        'StartI' : start,\n",
    "                                        'StartE' : start2,\n",
    "                                        'EndI' : end,\n",
    "                                        'EndE' : end2 \n",
    "                                        }\n",
    "                                        row_accumulator.append(new_row)\n",
    "                                 \n",
    "                                \n",
    "      \n",
    "nvd = pd.DataFrame(row_accumulator)\n",
    "thisyear = ((nvd['Published'] > '2000-01-01') & (nvd['Published']  < '2025-01-01'))\n",
    "nvd = nvd.loc[thisyear]\n",
    "nvd = nvd.sort_values(by=['Published'])"
   ]
  },
  {
   "attachments": {},
   "cell_type": "markdown",
   "id": "f0210783",
   "metadata": {
    "tags": [
     "hide-input"
    ]
   },
   "source": [
    "## CPE Data"
   ]
  },
  {
   "cell_type": "markdown",
   "id": "0c3388d0",
   "metadata": {},
   "source": [
    "### CVEs With Most CPEs"
   ]
  },
  {
   "cell_type": "code",
   "execution_count": null,
   "id": "96ff98c6",
   "metadata": {
    "execution": {
     "iopub.execute_input": "2025-01-06T16:22:22.967012Z",
     "iopub.status.busy": "2025-01-06T16:22:22.966719Z",
     "iopub.status.idle": "2025-01-06T16:22:23.324173Z",
     "shell.execute_reply": "2025-01-06T16:22:23.323664Z"
    },
    "tags": [
     "remove-input"
    ]
   },
   "outputs": [],
   "source": [
    "nvd['CVE'].value_counts().head(20)"
   ]
  },
  {
   "cell_type": "markdown",
   "id": "6e5141bf",
   "metadata": {},
   "source": [
    "### Most Common CPEs"
   ]
  },
  {
   "cell_type": "code",
   "execution_count": null,
   "id": "bd16e9ab",
   "metadata": {
    "execution": {
     "iopub.execute_input": "2025-01-06T16:22:23.325919Z",
     "iopub.status.busy": "2025-01-06T16:22:23.325740Z",
     "iopub.status.idle": "2025-01-06T16:22:23.536810Z",
     "shell.execute_reply": "2025-01-06T16:22:23.536183Z"
    },
    "tags": [
     "remove-input"
    ]
   },
   "outputs": [],
   "source": [
    "nvd['CPE'].value_counts().head(20)"
   ]
  },
  {
   "attachments": {},
   "cell_type": "markdown",
   "id": "5dbbc915",
   "metadata": {
    "tags": [
     "hide-input"
    ]
   },
   "source": [
    "### Unique CPEs"
   ]
  },
  {
   "cell_type": "code",
   "execution_count": null,
   "id": "04a26e54",
   "metadata": {
    "execution": {
     "iopub.execute_input": "2025-01-06T16:22:23.538841Z",
     "iopub.status.busy": "2025-01-06T16:22:23.538478Z",
     "iopub.status.idle": "2025-01-06T16:22:23.552881Z",
     "shell.execute_reply": "2025-01-06T16:22:23.552391Z"
    },
    "tags": [
     "remove-input"
    ]
   },
   "outputs": [],
   "source": [
    "nvd['CPE'].nunique()"
   ]
  },
  {
   "cell_type": "code",
   "execution_count": null,
   "id": "20ee3a71",
   "metadata": {
    "execution": {
     "iopub.execute_input": "2025-01-06T16:22:23.554715Z",
     "iopub.status.busy": "2025-01-06T16:22:23.554377Z",
     "iopub.status.idle": "2025-01-06T16:22:23.558307Z",
     "shell.execute_reply": "2025-01-06T16:22:23.557847Z"
    },
    "tags": [
     "remove-input"
    ]
   },
   "outputs": [],
   "source": [
    "Markdown(f\"This report is updated automatically every day, last generated on: **{datetime.datetime.now()}**\")"
   ]
  }
 ],
 "metadata": {
  "kernelspec": {
   "display_name": "Python 3",
   "language": "python",
   "name": "python3"
  },
  "language_info": {
   "codemirror_mode": {
    "name": "ipython",
    "version": 3
   },
   "file_extension": ".py",
   "mimetype": "text/x-python",
   "name": "python",
   "nbconvert_exporter": "python",
   "pygments_lexer": "ipython3",
   "version": "3.11.11"
  }
 },
 "nbformat": 4,
 "nbformat_minor": 5
}
