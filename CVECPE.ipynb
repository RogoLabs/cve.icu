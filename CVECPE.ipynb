{
 "cells": [
  {
   "cell_type": "markdown",
   "id": "b3e3ebf1-3bba-41b2-9b9f-70bb80a9ad50",
   "metadata": {
    "tags": []
   },
   "source": [
    "# CPE Data"
   ]
  },
  {
   "cell_type": "code",
   "execution_count": 1,
   "id": "stuffed-appearance",
   "metadata": {
    "execution": {
     "iopub.execute_input": "2022-11-20T18:21:29.555999Z",
     "iopub.status.busy": "2022-11-20T18:21:29.555432Z",
     "iopub.status.idle": "2022-11-20T18:21:29.893548Z",
     "shell.execute_reply": "2022-11-20T18:21:29.892505Z"
    },
    "tags": [
     "remove-cell"
    ]
   },
   "outputs": [],
   "source": [
    "import glob\n",
    "import logging\n",
    "import json\n",
    "import os\n",
    "import pandas as pd\n",
    "import warnings\n",
    "\n",
    "logging.getLogger('matplotlib.font_manager').disabled = True\n",
    "warnings.filterwarnings(\"ignore\")"
   ]
  },
  {
   "cell_type": "code",
   "execution_count": 2,
   "id": "inner-count",
   "metadata": {
    "execution": {
     "iopub.execute_input": "2022-11-20T18:21:29.898871Z",
     "iopub.status.busy": "2022-11-20T18:21:29.898496Z",
     "iopub.status.idle": "2022-11-20T18:22:11.921015Z",
     "shell.execute_reply": "2022-11-20T18:22:11.919952Z"
    },
    "tags": [
     "remove-cell"
    ]
   },
   "outputs": [],
   "source": [
    "row_accumulator = []\n",
    "\n",
    "for filename in glob.glob('nvdcve-1.1-*.json'):\n",
    "    with open(filename, 'r', encoding='utf-8') as f:\n",
    "        nvd_data = json.load(f)\n",
    "        for cves in nvd_data['CVE_Items']:\n",
    "            if cves['configurations']['nodes'] != []:\n",
    "                if \"children\" in cves['configurations']['nodes'][0]:\n",
    "                    for j in range(len(cves['configurations']['nodes'][0]['children'])):\n",
    "                        for cpe in cves['configurations']['nodes'][0]['children'][j]['cpe_match']:\n",
    "                            if cpe['vulnerable'] == True:\n",
    "                                        cve = cves['cve']['CVE_data_meta']['ID']\n",
    "                                        cpe_string = cpe['cpe23Uri']\n",
    "                                        try:\n",
    "                                            end = cpe['versionEndExcluding']\n",
    "                                        except: \n",
    "                                            end = 'None'\n",
    "                                        try:\n",
    "                                            end2 = cpe['versionEndIncluding']\n",
    "                                        except: \n",
    "                                            end2 = 'None' \n",
    "                                        try:\n",
    "                                            start = cpe['versionStartExcluding']\n",
    "                                        except: \n",
    "                                            start = 'None'\n",
    "                                        try:\n",
    "                                            start2 = cpe['versionStartIncluding']\n",
    "                                        except: \n",
    "                                            start2 = 'None'     \n",
    "                                        new_row = { \n",
    "                                        'CVE': cve,\n",
    "                                        'CPE' : cpe_string,\n",
    "                                        'StartI' : start,\n",
    "                                        'StartE' : start2,\n",
    "                                        'EndI' : end,\n",
    "                                        'EndE' : end2 \n",
    "                                        }\n",
    "                                        row_accumulator.append(new_row)\n",
    "        \n",
    "\n",
    "\n",
    "nvd = pd.DataFrame(row_accumulator)                            "
   ]
  },
  {
   "cell_type": "markdown",
   "id": "833383cc-8ef0-4490-acdc-98671760b1a3",
   "metadata": {},
   "source": [
    "## CVEs With Most CPE"
   ]
  },
  {
   "cell_type": "code",
   "execution_count": 3,
   "id": "temporal-disposal",
   "metadata": {
    "execution": {
     "iopub.execute_input": "2022-11-20T18:22:11.926234Z",
     "iopub.status.busy": "2022-11-20T18:22:11.925180Z",
     "iopub.status.idle": "2022-11-20T18:22:11.975000Z",
     "shell.execute_reply": "2022-11-20T18:22:11.973929Z"
    },
    "tags": [
     "remove-input"
    ]
   },
   "outputs": [
    {
     "data": {
      "text/plain": [
       "CVE-2021-1620     690\n",
       "CVE-2022-22160    364\n",
       "CVE-2011-3664     325\n",
       "CVE-2012-1350     322\n",
       "CVE-2007-6694     316\n",
       "CVE-2008-7256     303\n",
       "CVE-2011-1011     270\n",
       "CVE-2021-31366    267\n",
       "CVE-2012-5120     248\n",
       "CVE-2016-5995     243\n",
       "CVE-2010-0741     241\n",
       "CVE-2022-22226    240\n",
       "CVE-2021-31382    239\n",
       "CVE-2021-0272     235\n",
       "CVE-2021-0228     231\n",
       "CVE-2020-1680     228\n",
       "CVE-2021-0273     226\n",
       "CVE-2009-2711     226\n",
       "CVE-2011-3666     225\n",
       "CVE-2011-2366     225\n",
       "Name: CVE, dtype: int64"
      ]
     },
     "execution_count": 3,
     "metadata": {},
     "output_type": "execute_result"
    }
   ],
   "source": [
    "nvd['CVE'].value_counts().head(20)"
   ]
  },
  {
   "cell_type": "markdown",
   "id": "69850125-3841-48cd-a36d-1cf998c68272",
   "metadata": {},
   "source": [
    "## Most Common CPEs"
   ]
  },
  {
   "cell_type": "code",
   "execution_count": 4,
   "id": "celtic-employer",
   "metadata": {
    "execution": {
     "iopub.execute_input": "2022-11-20T18:22:11.979610Z",
     "iopub.status.busy": "2022-11-20T18:22:11.979223Z",
     "iopub.status.idle": "2022-11-20T18:22:12.033720Z",
     "shell.execute_reply": "2022-11-20T18:22:12.032755Z"
    },
    "tags": [
     "remove-input"
    ]
   },
   "outputs": [
    {
     "data": {
      "text/plain": [
       "cpe:2.3:a:adobe:acrobat_dc:*:*:*:*:classic:*:*:*                         2009\n",
       "cpe:2.3:a:adobe:acrobat_reader_dc:*:*:*:*:classic:*:*:*                  2008\n",
       "cpe:2.3:a:adobe:acrobat_dc:*:*:*:*:continuous:*:*:*                      1438\n",
       "cpe:2.3:a:adobe:acrobat_reader_dc:*:*:*:*:continuous:*:*:*               1432\n",
       "cpe:2.3:a:adobe:flash_player:*:*:*:*:*:*:*:*                              714\n",
       "cpe:2.3:a:adobe:acrobat:*:*:*:*:*:*:*:*                                   651\n",
       "cpe:2.3:a:google:chrome:*:*:*:*:*:*:*:*                                   389\n",
       "cpe:2.3:a:foxitsoftware:phantompdf:*:*:*:*:*:*:*:*                        374\n",
       "cpe:2.3:a:adobe:reader:*:*:*:*:*:*:*:*                                    356\n",
       "cpe:2.3:o:google:android:11.0:*:*:*:*:*:*:*                               317\n",
       "cpe:2.3:o:qualcomm:apq8009_firmware:-:*:*:*:*:*:*:*                       301\n",
       "cpe:2.3:a:adobe:acrobat_reader:*:*:*:*:*:*:*:*                            298\n",
       "cpe:2.3:o:qualcomm:mdm9206_firmware:-:*:*:*:*:*:*:*                       266\n",
       "cpe:2.3:o:google:android:12.0:*:*:*:*:*:*:*                               239\n",
       "cpe:2.3:o:google:android:10.0:*:*:*:*:*:*:*                               227\n",
       "cpe:2.3:a:microsoft:edge:-:*:*:*:*:*:*:*                                  217\n",
       "cpe:2.3:a:foxitsoftware:reader:*:*:*:*:*:*:*:*                            194\n",
       "cpe:2.3:a:sandhillsdev:easy_digital_downloads:*:*:*:*:*:wordpress:*:*     186\n",
       "cpe:2.3:a:apple:safari:*:*:*:*:*:*:*:*                                    179\n",
       "cpe:2.3:a:apple:webkit:*:*:*:*:*:*:*:*                                    156\n",
       "Name: CPE, dtype: int64"
      ]
     },
     "execution_count": 4,
     "metadata": {},
     "output_type": "execute_result"
    }
   ],
   "source": [
    "nvd['CPE'].value_counts().head(20)"
   ]
  }
 ],
 "metadata": {
  "kernelspec": {
   "display_name": "Python 3.10.6 64-bit",
   "language": "python",
   "name": "python3"
  },
  "language_info": {
   "codemirror_mode": {
    "name": "ipython",
    "version": 3
   },
   "file_extension": ".py",
   "mimetype": "text/x-python",
   "name": "python",
   "nbconvert_exporter": "python",
   "pygments_lexer": "ipython3",
   "version": "3.10.8"
  },
  "vscode": {
   "interpreter": {
    "hash": "aee8b7b246df8f9039afb4144a1f6fd8d2ca17a180786b69acc140d282b71a49"
   }
  }
 },
 "nbformat": 4,
 "nbformat_minor": 5
}
