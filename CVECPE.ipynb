{
 "cells": [
  {
   "cell_type": "markdown",
   "id": "b3e3ebf1-3bba-41b2-9b9f-70bb80a9ad50",
   "metadata": {
    "tags": []
   },
   "source": [
    "# CPE Data"
   ]
  },
  {
   "cell_type": "code",
   "execution_count": 50,
   "id": "stuffed-appearance",
   "metadata": {
    "tags": [
     "remove-cell"
    ]
   },
   "outputs": [],
   "source": [
    "import glob\n",
    "import logging\n",
    "import json\n",
    "import os\n",
    "import pandas as pd\n",
    "import warnings\n",
    "\n",
    "logging.getLogger('matplotlib.font_manager').disabled = True\n",
    "warnings.filterwarnings(\"ignore\")"
   ]
  },
  {
   "cell_type": "code",
   "execution_count": 83,
   "id": "inner-count",
   "metadata": {
    "tags": [
     "remove-cell"
    ]
   },
   "outputs": [],
   "source": [
    "row_accumulator = []\n",
    "\n",
    "for filename in glob.glob('nvdcve-1.1-*.json'):\n",
    "    with open(filename, 'r', encoding='utf-8') as f:\n",
    "        nvd_data = json.load(f)\n",
    "        for cves in nvd_data['CVE_Items']:\n",
    "            if cves['configurations']['nodes'] != []:\n",
    "                if \"children\" in cves['configurations']['nodes'][0]:\n",
    "                    for j in range(len(cves['configurations']['nodes'][0]['children'])):\n",
    "                        for cpe in cves['configurations']['nodes'][0]['children'][j]['cpe_match']:\n",
    "                            if cpe['vulnerable'] == True:\n",
    "                                        cve = cves['cve']['CVE_data_meta']['ID']\n",
    "                                        cpe_string = cpe['cpe23Uri']\n",
    "                                        try:\n",
    "                                            end = cpe['versionEndExcluding']\n",
    "                                        except: \n",
    "                                            end = 'None'\n",
    "                                        try:\n",
    "                                            end2 = cpe['versionEndIncluding']\n",
    "                                        except: \n",
    "                                            end2 = 'None' \n",
    "                                        try:\n",
    "                                            start = cpe['versionStartExcluding']\n",
    "                                        except: \n",
    "                                            start = 'None'\n",
    "                                        try:\n",
    "                                            start2 = cpe['versionStartIncluding']\n",
    "                                        except: \n",
    "                                            start2 = 'None'     \n",
    "                                        new_row = { \n",
    "                                        'CVE': cve,\n",
    "                                        'CPE' : cpe_string,\n",
    "                                        'StartI' : start,\n",
    "                                        'StartE' : start2,\n",
    "                                        'EndI' : end,\n",
    "                                        'EndE' : end2 \n",
    "                                        }\n",
    "                                        row_accumulator.append(new_row)\n",
    "        \n",
    "\n",
    "\n",
    "nvd = pd.DataFrame(row_accumulator)                            "
   ]
  },
  {
   "cell_type": "markdown",
   "id": "833383cc-8ef0-4490-acdc-98671760b1a3",
   "metadata": {},
   "source": [
    "## CVEs With Most CPE"
   ]
  },
  {
   "cell_type": "code",
   "execution_count": 87,
   "id": "temporal-disposal",
   "metadata": {
    "tags": [
     "remove-input"
    ]
   },
   "outputs": [
    {
     "data": {
      "text/plain": [
       "CVE-2022-22160    364\n",
       "CVE-2022-20725    215\n",
       "CVE-2022-22191    208\n",
       "CVE-2022-22185    154\n",
       "CVE-2022-22174    147\n",
       "CVE-2022-22161    143\n",
       "CVE-2022-22167    133\n",
       "CVE-2022-22180    128\n",
       "CVE-2022-22186    123\n",
       "CVE-2022-23119     83\n",
       "CVE-2022-23120     83\n",
       "CVE-2022-22168     82\n",
       "CVE-2022-22155     80\n",
       "CVE-2022-22153     60\n",
       "CVE-2022-23011     22\n",
       "CVE-2022-0026      20\n",
       "CVE-2022-22345     17\n",
       "CVE-2022-25361     14\n",
       "CVE-2022-22175     13\n",
       "CVE-2022-22178     13\n",
       "Name: CVE, dtype: int64"
      ]
     },
     "execution_count": 87,
     "metadata": {},
     "output_type": "execute_result"
    }
   ],
   "source": [
    "nvd['CVE'].value_counts().head(20)"
   ]
  },
  {
   "cell_type": "markdown",
   "id": "69850125-3841-48cd-a36d-1cf998c68272",
   "metadata": {},
   "source": [
    "## Most Common CPEs"
   ]
  },
  {
   "cell_type": "code",
   "execution_count": 88,
   "id": "celtic-employer",
   "metadata": {
    "tags": [
     "remove-input"
    ]
   },
   "outputs": [
    {
     "data": {
      "text/plain": [
       "cpe:2.3:o:google:android:11.0:*:*:*:*:*:*:*                                        121\n",
       "cpe:2.3:o:google:android:12.0:*:*:*:*:*:*:*                                        100\n",
       "cpe:2.3:o:google:android:10.0:*:*:*:*:*:*:*                                         76\n",
       "cpe:2.3:a:adobe:acrobat_reader_dc:*:*:*:*:continuous:*:*:*                          66\n",
       "cpe:2.3:a:adobe:acrobat_dc:*:*:*:*:continuous:*:*:*                                 66\n",
       "cpe:2.3:a:adobe:illustrator:*:*:*:*:*:*:*:*                                         42\n",
       "cpe:2.3:a:foxit:pdf_editor:*:*:*:*:*:*:*:*                                          34\n",
       "cpe:2.3:o:google:android:9.0:*:*:*:*:*:*:*                                          27\n",
       "cpe:2.3:o:tenda:ax3_firmware:16.03.12.10_cn:*:*:*:*:*:*:*                           23\n",
       "cpe:2.3:o:secheron:sepcos_control_and_protection_relay_firmware:*:*:*:*:*:*:*:*     21\n",
       "cpe:2.3:a:foxit:pdf_reader:*:*:*:*:*:*:*:*                                          20\n",
       "cpe:2.3:a:adobe:framemaker:*:*:*:*:*:*:*:*                                          20\n",
       "cpe:2.3:o:h3c:magic_r100_firmware:*:*:*:*:*:*:*:*                                   18\n",
       "cpe:2.3:o:cisco:rv340_firmware:*:*:*:*:*:*:*:*                                      18\n",
       "cpe:2.3:o:tenda:ax1806_firmware:1.0.0.1:*:*:*:*:*:*:*                               18\n",
       "cpe:2.3:a:adobe:photoshop:*:*:*:*:*:*:*:*                                           18\n",
       "cpe:2.3:o:tenda:ac6_firmware:15.03.05.09:*:*:*:*:*:*:*                              17\n",
       "cpe:2.3:a:adobe:incopy:*:*:*:*:*:*:*:*                                              16\n",
       "cpe:2.3:o:arubanetworks:5406r_firmware:*:*:*:*:*:*:*:*                              14\n",
       "cpe:2.3:a:adobe:indesign:*:*:*:*:*:*:*:*                                            14\n",
       "Name: CPE, dtype: int64"
      ]
     },
     "execution_count": 88,
     "metadata": {},
     "output_type": "execute_result"
    }
   ],
   "source": [
    "nvd['CPE'].value_counts().head(20)"
   ]
  }
 ],
 "metadata": {
  "kernelspec": {
   "display_name": "Python 3 (ipykernel)",
   "language": "python",
   "name": "python3"
  },
  "language_info": {
   "codemirror_mode": {
    "name": "ipython",
    "version": 3
   },
   "file_extension": ".py",
   "mimetype": "text/x-python",
   "name": "python",
   "nbconvert_exporter": "python",
   "pygments_lexer": "ipython3",
   "version": "3.8.13"
  }
 },
 "nbformat": 4,
 "nbformat_minor": 5
}
