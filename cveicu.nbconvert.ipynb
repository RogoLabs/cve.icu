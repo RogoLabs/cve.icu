{
 "cells": [
  {
   "cell_type": "markdown",
   "id": "serious-pressing",
   "metadata": {},
   "source": [
    "# CVE.ICU\n",
    "---"
   ]
  },
  {
   "cell_type": "markdown",
   "id": "persistent-circus",
   "metadata": {},
   "source": [
    "This information from this website is from a [jupyter notebook](https://jupyter.org/) that automatically pulls all [JSON Data](https://nvd.nist.gov/vuln/data-feeds#JSON_FEED) from the NVD and perform some fundamental data analysis and graphing.  If you have any questions or suggestions, please join the [discussion here](https://github.com/jgamblin/cve.icu/discussions) and check out the [source code](https://github.com/jgamblin/cve.icu/).  Questions? Reach out to [@jgamblin](https://www.twitter.com/jgamblin).\n",
    "\n",
    "**Yearly Data**\n",
    "-  [All](https://cve.icu/)\n",
    "-  [2022](2022.html)\n",
    "-  [2021](2021.html)\n",
    "-  [2020](2020.html)\n",
    "-  [2019](2019.html)\n",
    "\n",
    "**Other Data**\n",
    "-  [CVE Growth Predictions](prophet.html)\n",
    "-  [CVE Calendar All Years](calendar.html)\n",
    "-  [CNA Map](cnamap.html)"
   ]
  },
  {
   "cell_type": "markdown",
   "id": "36813e36",
   "metadata": {},
   "source": [
    "## CVE Data"
   ]
  },
  {
   "cell_type": "code",
   "execution_count": 1,
   "id": "diverse-prison",
   "metadata": {
    "execution": {
     "iopub.execute_input": "2022-02-28T18:13:08.742468Z",
     "iopub.status.busy": "2022-02-28T18:13:08.742238Z",
     "iopub.status.idle": "2022-02-28T18:13:09.678023Z",
     "shell.execute_reply": "2022-02-28T18:13:09.677446Z"
    },
    "tags": []
   },
   "outputs": [],
   "source": [
    "\n",
    "from IPython.core.magic import register_cell_magic\n",
    "from IPython.display import Markdown\n",
    "import datetime\n",
    "from datetime import date\n",
    "import glob\n",
    "import json\n",
    "import logging\n",
    "import matplotlib.pyplot as plt\n",
    "import numpy as np\n",
    "import pandas as pd\n",
    "import plotly\n",
    "import warnings\n",
    "\n",
    "@register_cell_magic\n",
    "def markdown(line, cell):\n",
    "    return Markdown(cell.format(**globals()))\n",
    "\n",
    "\n",
    "logging.getLogger('matplotlib.font_manager').disabled = True\n",
    "warnings.filterwarnings(\"ignore\")\n",
    "pd.set_option('display.width', 500)\n",
    "pd.set_option('display.max_rows', 50)\n",
    "pd.set_option('display.max_columns', 10)"
   ]
  },
  {
   "cell_type": "code",
   "execution_count": 2,
   "id": "organized-ambassador",
   "metadata": {
    "execution": {
     "iopub.execute_input": "2022-02-28T18:13:09.681476Z",
     "iopub.status.busy": "2022-02-28T18:13:09.681283Z",
     "iopub.status.idle": "2022-02-28T18:13:50.028405Z",
     "shell.execute_reply": "2022-02-28T18:13:50.023425Z"
    },
    "tags": []
   },
   "outputs": [],
   "source": [
    "row_accumulator = []\n",
    "for filename in glob.glob('nvdcve-1.1-*.json'):\n",
    "    with open(filename, 'r', encoding='utf-8') as f:\n",
    "        nvd_data = json.load(f)\n",
    "        for entry in nvd_data['CVE_Items']:\n",
    "            cve = entry['cve']['CVE_data_meta']['ID']\n",
    "            try:\n",
    "                assigner = entry['cve']['CVE_data_meta']['ASSIGNER']\n",
    "            except KeyError:\n",
    "                published_date = 'Missing_Data'\n",
    "            try:\n",
    "                published_date = entry['publishedDate']\n",
    "            except KeyError:\n",
    "                published_date = 'Missing_Data'\n",
    "            try:\n",
    "                attack_vector = entry['impact']['baseMetricV3']['cvssV3']['attackVector']\n",
    "            except KeyError:\n",
    "                attack_vector = 'Missing_Data'\n",
    "            try:\n",
    "                attack_complexity = entry['impact']['baseMetricV3']['cvssV3']['attackComplexity']\n",
    "            except KeyError:\n",
    "                attack_complexity = 'Missing_Data'\n",
    "            try:\n",
    "                privileges_required = entry['impact']['baseMetricV3']['cvssV3']['privilegesRequired']\n",
    "            except KeyError:\n",
    "                privileges_required = 'Missing_Data'\n",
    "            try:\n",
    "                user_interaction = entry['impact']['baseMetricV3']['cvssV3']['userInteraction']\n",
    "            except KeyError:\n",
    "                user_interaction = 'Missing_Data'\n",
    "            try:\n",
    "                scope = entry['impact']['baseMetricV3']['cvssV3']['scope']\n",
    "            except KeyError:\n",
    "                scope = 'Missing_Data'\n",
    "            try:\n",
    "                confidentiality_impact = entry['impact']['baseMetricV3']['cvssV3']['confidentialityImpact']\n",
    "            except KeyError:\n",
    "                confidentiality_impact = 'Missing_Data'\n",
    "            try:\n",
    "                integrity_impact = entry['impact']['baseMetricV3']['cvssV3']['integrityImpact']\n",
    "            except KeyError:\n",
    "                integrity_impact = 'Missing_Data'\n",
    "            try:\n",
    "                availability_impact = entry['impact']['baseMetricV3']['cvssV3']['availabilityImpact']\n",
    "            except KeyError:\n",
    "                availability_impact = 'Missing_Data'\n",
    "            try:\n",
    "                base_score = entry['impact']['baseMetricV3']['cvssV3']['baseScore']\n",
    "            except KeyError:\n",
    "                base_score = '0.0'\n",
    "            try:\n",
    "                base_severity = entry['impact']['baseMetricV3']['cvssV3']['baseSeverity']\n",
    "            except KeyError:\n",
    "                base_severity = 'Missing_Data'\n",
    "            try:\n",
    "                exploitability_score = entry['impact']['baseMetricV3']['exploitabilityScore']\n",
    "            except KeyError:\n",
    "                exploitability_score = 'Missing_Data'\n",
    "            try:\n",
    "                impact_score = entry['impact']['baseMetricV3']['impactScore']\n",
    "            except KeyError:\n",
    "                impact_score = 'Missing_Data'\n",
    "            try:\n",
    "                cwe = entry['cve']['problemtype']['problemtype_data'][0]['description'][0]['value']\n",
    "            except IndexError:\n",
    "                cwe = 'Missing_Data'\n",
    "            try:\n",
    "                description = entry['cve']['description']['description_data'][0]['value']\n",
    "            except IndexError:\n",
    "                description = ''\n",
    "            new_row = { \n",
    "                'CVE': cve, \n",
    "                'Published': published_date,\n",
    "                'AttackVector': attack_vector,\n",
    "                'AttackComplexity': attack_complexity,\n",
    "                'PrivilegesRequired': privileges_required,\n",
    "                'UserInteraction': user_interaction,\n",
    "                'Scope': scope,\n",
    "                'ConfidentialityImpact': confidentiality_impact,\n",
    "                'IntegrityImpact': integrity_impact,\n",
    "                'AvailabilityImpact': availability_impact,\n",
    "                'BaseScore': base_score,\n",
    "                'BaseSeverity': base_severity,\n",
    "                'ExploitabilityScore': exploitability_score,\n",
    "                'ImpactScore': impact_score,\n",
    "                'CWE': cwe,\n",
    "                'Description': description,\n",
    "                'Assigner' : assigner\n",
    "            }\n",
    "            if not description.startswith('** REJECT **'): # disputed, rejected and other non issues start with '**'\n",
    "                row_accumulator.append(new_row)\n",
    "        nvd = pd.DataFrame(row_accumulator)\n",
    "    \n",
    "nvd['Published'] = pd.to_datetime(nvd['Published'])\n",
    "nvd = nvd.sort_values(by=['Published'])\n",
    "nvd = nvd.reset_index(drop=True)\n",
    "nvd['BaseScore'] = pd.to_numeric(nvd['BaseScore']);\n",
    "nvd['BaseScore'] = nvd['BaseScore'].replace(0, np.NaN);\n",
    "nvdcount = nvd['Published'].count()\n",
    "startdate = date(2000, 1, 1)\n",
    "enddate  = date.today()\n",
    "numberofdays = enddate - startdate \n",
    "per_day = nvdcount/numberofdays.days"
   ]
  },
  {
   "cell_type": "code",
   "execution_count": 3,
   "id": "e04459ff",
   "metadata": {
    "execution": {
     "iopub.execute_input": "2022-02-28T18:13:50.032209Z",
     "iopub.status.busy": "2022-02-28T18:13:50.031877Z",
     "iopub.status.idle": "2022-02-28T18:13:50.072931Z",
     "shell.execute_reply": "2022-02-28T18:13:50.072340Z"
    }
   },
   "outputs": [
    {
     "data": {
      "text/markdown": [
       "Total Number of CVEs: **170766**<br />Average CVEs Per Day: **21.1**<br />Average CVSS Score: **7.21**"
      ],
      "text/plain": [
       "<IPython.core.display.Markdown object>"
      ]
     },
     "execution_count": 3,
     "metadata": {},
     "output_type": "execute_result"
    }
   ],
   "source": [
    "Markdown(f\"Total Number of CVEs: **{nvd['CVE'].count()}**<br />Average CVEs Per Day: **{per_day.round(2)}**<br />Average CVSS Score: **{nvd['BaseScore'].mean().round(2)}**\")"
   ]
  },
  {
   "cell_type": "code",
   "execution_count": 4,
   "id": "18a9c60b",
   "metadata": {
    "execution": {
     "iopub.execute_input": "2022-02-28T18:13:50.076154Z",
     "iopub.status.busy": "2022-02-28T18:13:50.075980Z",
     "iopub.status.idle": "2022-02-28T18:13:50.081663Z",
     "shell.execute_reply": "2022-02-28T18:13:50.081137Z"
    }
   },
   "outputs": [
    {
     "data": {
      "text/markdown": [
       "## CVE Graphs"
      ],
      "text/plain": [
       "<IPython.core.display.Markdown object>"
      ]
     },
     "execution_count": 4,
     "metadata": {},
     "output_type": "execute_result"
    }
   ],
   "source": [
    "Markdown(f\"## CVE Graphs\")"
   ]
  },
  {
   "cell_type": "code",
   "execution_count": 5,
   "id": "39c9867a",
   "metadata": {
    "execution": {
     "iopub.execute_input": "2022-02-28T18:13:50.084641Z",
     "iopub.status.busy": "2022-02-28T18:13:50.084471Z",
     "iopub.status.idle": "2022-02-28T18:13:50.164043Z",
     "shell.execute_reply": "2022-02-28T18:13:50.163390Z"
    }
   },
   "outputs": [],
   "source": [
    "Month_Graph = nvd['Published'].groupby(nvd.Published.dt.to_period(\"M\")).agg('count')\n",
    "Year_Graph = nvd['Published'].groupby(nvd.Published.dt.to_period(\"Y\")).agg('count')\n",
    "Week_Graph = nvd['Published'].groupby(nvd.Published.dt.to_period(\"W\")).agg('count')\n",
    "Day_Graph = nvd['Published'].groupby(nvd.Published.dt.to_period(\"D\")).agg('count')"
   ]
  },
  {
   "cell_type": "code",
   "execution_count": 6,
   "id": "986aa70e",
   "metadata": {
    "execution": {
     "iopub.execute_input": "2022-02-28T18:13:50.167545Z",
     "iopub.status.busy": "2022-02-28T18:13:50.167224Z",
     "iopub.status.idle": "2022-02-28T18:13:50.173311Z",
     "shell.execute_reply": "2022-02-28T18:13:50.172779Z"
    }
   },
   "outputs": [
    {
     "data": {
      "text/markdown": [
       "### CVE Per Year Graph"
      ],
      "text/plain": [
       "<IPython.core.display.Markdown object>"
      ]
     },
     "execution_count": 6,
     "metadata": {},
     "output_type": "execute_result"
    }
   ],
   "source": [
    "Markdown(f\"### CVE Per Year Graph\")"
   ]
  },
  {
   "cell_type": "code",
   "execution_count": 7,
   "id": "a776139d",
   "metadata": {
    "execution": {
     "iopub.execute_input": "2022-02-28T18:13:50.176156Z",
     "iopub.status.busy": "2022-02-28T18:13:50.175994Z",
     "iopub.status.idle": "2022-02-28T18:13:50.480632Z",
     "shell.execute_reply": "2022-02-28T18:13:50.480014Z"
    }
   },
   "outputs": [
    {
     "data": {
      "image/png": "[encoded data removed]",
      "text/plain": [
       "<Figure size 1152x576 with 1 Axes>"
      ]
     },
     "metadata": {
      "needs_background": "light"
     },
     "output_type": "display_data"
    }
   ],
   "source": [
    "\n",
    "cg = Year_Graph.plot.area(colormap='jet', figsize=(16, 8), title='CVEs Per Year')\n",
    "plt.grid()\n",
    "cg.set_ylabel(\"New CVEs\");\n",
    "cg.set_xlabel(\"Date\");"
   ]
  },
  {
   "cell_type": "code",
   "execution_count": 8,
   "id": "2ce24285",
   "metadata": {
    "execution": {
     "iopub.execute_input": "2022-02-28T18:13:50.487529Z",
     "iopub.status.busy": "2022-02-28T18:13:50.487099Z",
     "iopub.status.idle": "2022-02-28T18:13:50.496550Z",
     "shell.execute_reply": "2022-02-28T18:13:50.496071Z"
    }
   },
   "outputs": [
    {
     "data": {
      "text/markdown": [
       "### CVE Per Month Graph"
      ],
      "text/plain": [
       "<IPython.core.display.Markdown object>"
      ]
     },
     "execution_count": 8,
     "metadata": {},
     "output_type": "execute_result"
    }
   ],
   "source": [
    "Markdown(f\"### CVE Per Month Graph\")"
   ]
  },
  {
   "cell_type": "code",
   "execution_count": 9,
   "id": "endless-cylinder",
   "metadata": {
    "execution": {
     "iopub.execute_input": "2022-02-28T18:13:50.500196Z",
     "iopub.status.busy": "2022-02-28T18:13:50.499124Z",
     "iopub.status.idle": "2022-02-28T18:13:50.728514Z",
     "shell.execute_reply": "2022-02-28T18:13:50.727913Z"
    }
   },
   "outputs": [
    {
     "data": {
      "image/png": "[encoded data removed]",
      "text/plain": [
       "<Figure size 1152x576 with 1 Axes>"
      ]
     },
     "metadata": {
      "needs_background": "light"
     },
     "output_type": "display_data"
    }
   ],
   "source": [
    "\n",
    "cg = Month_Graph.plot.area(colormap='jet', figsize=(16, 8), title='CVEs Per Month')\n",
    "plt.grid()\n",
    "cg.set_ylabel(\"New CVEs\");\n",
    "cg.set_xlabel(\"Date\");"
   ]
  },
  {
   "cell_type": "code",
   "execution_count": 10,
   "id": "befe79e1",
   "metadata": {
    "execution": {
     "iopub.execute_input": "2022-02-28T18:13:50.731494Z",
     "iopub.status.busy": "2022-02-28T18:13:50.731176Z",
     "iopub.status.idle": "2022-02-28T18:13:50.736584Z",
     "shell.execute_reply": "2022-02-28T18:13:50.736045Z"
    }
   },
   "outputs": [
    {
     "data": {
      "text/markdown": [
       "### CVE Per Week Graph"
      ],
      "text/plain": [
       "<IPython.core.display.Markdown object>"
      ]
     },
     "execution_count": 10,
     "metadata": {},
     "output_type": "execute_result"
    }
   ],
   "source": [
    "Markdown(f\"### CVE Per Week Graph\")"
   ]
  },
  {
   "cell_type": "code",
   "execution_count": 11,
   "id": "common-louis",
   "metadata": {
    "execution": {
     "iopub.execute_input": "2022-02-28T18:13:50.739129Z",
     "iopub.status.busy": "2022-02-28T18:13:50.738716Z",
     "iopub.status.idle": "2022-02-28T18:13:50.973607Z",
     "shell.execute_reply": "2022-02-28T18:13:50.972994Z"
    }
   },
   "outputs": [
    {
     "data": {
      "image/png": "[encoded data removed]",
      "text/plain": [
       "<Figure size 1152x576 with 1 Axes>"
      ]
     },
     "metadata": {
      "needs_background": "light"
     },
     "output_type": "display_data"
    }
   ],
   "source": [
    "\n",
    "cg = Week_Graph.plot.area(colormap='jet', figsize=(16, 8), title='CVEs Per Week')\n",
    "plt.grid()\n",
    "cg.set_ylabel(\"New CVEs\");\n",
    "cg.set_xlabel(\"Date\");"
   ]
  },
  {
   "cell_type": "code",
   "execution_count": 12,
   "id": "989be730",
   "metadata": {
    "execution": {
     "iopub.execute_input": "2022-02-28T18:13:50.976927Z",
     "iopub.status.busy": "2022-02-28T18:13:50.976602Z",
     "iopub.status.idle": "2022-02-28T18:13:50.982745Z",
     "shell.execute_reply": "2022-02-28T18:13:50.982275Z"
    }
   },
   "outputs": [
    {
     "data": {
      "text/markdown": [
       "### CVE Per Day Graph"
      ],
      "text/plain": [
       "<IPython.core.display.Markdown object>"
      ]
     },
     "execution_count": 12,
     "metadata": {},
     "output_type": "execute_result"
    }
   ],
   "source": [
    "Markdown(f\"### CVE Per Day Graph\")"
   ]
  },
  {
   "cell_type": "code",
   "execution_count": 13,
   "id": "smooth-stupid",
   "metadata": {
    "execution": {
     "iopub.execute_input": "2022-02-28T18:13:50.985323Z",
     "iopub.status.busy": "2022-02-28T18:13:50.984908Z",
     "iopub.status.idle": "2022-02-28T18:13:51.243355Z",
     "shell.execute_reply": "2022-02-28T18:13:51.242654Z"
    }
   },
   "outputs": [
    {
     "data": {
      "image/png": "[encoded data removed]",
      "text/plain": [
       "<Figure size 1152x576 with 1 Axes>"
      ]
     },
     "metadata": {
      "needs_background": "light"
     },
     "output_type": "display_data"
    }
   ],
   "source": [
    "\n",
    "cg = Day_Graph.plot.area(colormap='jet', figsize=(16, 8), title='CVEs Per Day')\n",
    "plt.grid()\n",
    "cg.set_ylabel(\"New CVEs\");\n",
    "cg.set_xlabel(\"Date\");"
   ]
  },
  {
   "cell_type": "code",
   "execution_count": 14,
   "id": "51593e0c",
   "metadata": {
    "execution": {
     "iopub.execute_input": "2022-02-28T18:13:51.246199Z",
     "iopub.status.busy": "2022-02-28T18:13:51.245898Z",
     "iopub.status.idle": "2022-02-28T18:13:51.250992Z",
     "shell.execute_reply": "2022-02-28T18:13:51.250520Z"
    }
   },
   "outputs": [
    {
     "data": {
      "text/markdown": [
       "## CVSS Data"
      ],
      "text/plain": [
       "<IPython.core.display.Markdown object>"
      ]
     },
     "execution_count": 14,
     "metadata": {},
     "output_type": "execute_result"
    }
   ],
   "source": [
    "Markdown(f\"## CVSS Data\")"
   ]
  },
  {
   "cell_type": "code",
   "execution_count": 15,
   "id": "0652f359",
   "metadata": {
    "execution": {
     "iopub.execute_input": "2022-02-28T18:13:51.253565Z",
     "iopub.status.busy": "2022-02-28T18:13:51.253147Z",
     "iopub.status.idle": "2022-02-28T18:13:51.433006Z",
     "shell.execute_reply": "2022-02-28T18:13:51.432478Z"
    }
   },
   "outputs": [
    {
     "data": {
      "image/png": "[encoded data removed]",
      "text/plain": [
       "<Figure size 1152x576 with 1 Axes>"
      ]
     },
     "metadata": {
      "needs_background": "light"
     },
     "output_type": "display_data"
    }
   ],
   "source": [
    "nvd['BaseScore'].plot(kind=\"hist\", colormap='jet', figsize=(16, 8), title='CVSS Scores');"
   ]
  },
  {
   "cell_type": "code",
   "execution_count": 16,
   "id": "f0210783",
   "metadata": {
    "execution": {
     "iopub.execute_input": "2022-02-28T18:13:51.435907Z",
     "iopub.status.busy": "2022-02-28T18:13:51.435566Z",
     "iopub.status.idle": "2022-02-28T18:13:51.441391Z",
     "shell.execute_reply": "2022-02-28T18:13:51.440930Z"
    }
   },
   "outputs": [
    {
     "data": {
      "text/markdown": [
       "## CNA Data"
      ],
      "text/plain": [
       "<IPython.core.display.Markdown object>"
      ]
     },
     "execution_count": 16,
     "metadata": {},
     "output_type": "execute_result"
    }
   ],
   "source": [
    "Markdown(f\"## CNA Data\")"
   ]
  },
  {
   "cell_type": "code",
   "execution_count": 17,
   "id": "96ff98c6",
   "metadata": {
    "execution": {
     "iopub.execute_input": "2022-02-28T18:13:51.443954Z",
     "iopub.status.busy": "2022-02-28T18:13:51.443550Z",
     "iopub.status.idle": "2022-02-28T18:13:51.700833Z",
     "shell.execute_reply": "2022-02-28T18:13:51.700106Z"
    }
   },
   "outputs": [
    {
     "data": {
      "image/png": "[encoded data removed]",
      "text/plain": [
       "<Figure size 720x720 with 1 Axes>"
      ]
     },
     "metadata": {
      "needs_background": "light"
     },
     "output_type": "display_data"
    }
   ],
   "source": [
    "Markdown(f\"### CNA Assigner Graph\")\n",
    "nvd_frequency = nvd['Assigner'].value_counts()\n",
    "nvd_frequency = nvd_frequency.reset_index()\n",
    "nvd_frequency.columns = ['Assigner', 'counts']\n",
    "nvd_frequency[nvd_frequency.counts > 100].head(50)\n",
    "nvd_frequency_no_mitre = nvd_frequency[~nvd_frequency.Assigner.str.contains('cve@mitre.org')]\n",
    "nvd_frequency_no_mitre = nvd_frequency_no_mitre[nvd_frequency_no_mitre.counts > 100].head(20)\n",
    "plt.figure(figsize=(10,10))\n",
    "plt.barh(\"Assigner\", \"counts\", data = nvd_frequency_no_mitre, color=\"#001d82\")\n",
    "plt.xlabel(\"CVEs\"); \n",
    "plt.ylabel(\"\") ;\n",
    "plt.title(\"Top 20 CNAs\");\n"
   ]
  },
  {
   "cell_type": "code",
   "execution_count": 18,
   "id": "aa3ea191",
   "metadata": {
    "execution": {
     "iopub.execute_input": "2022-02-28T18:13:51.704139Z",
     "iopub.status.busy": "2022-02-28T18:13:51.703673Z",
     "iopub.status.idle": "2022-02-28T18:13:51.709488Z",
     "shell.execute_reply": "2022-02-28T18:13:51.708975Z"
    }
   },
   "outputs": [
    {
     "data": {
      "text/markdown": [
       "## CWE Data"
      ],
      "text/plain": [
       "<IPython.core.display.Markdown object>"
      ]
     },
     "execution_count": 18,
     "metadata": {},
     "output_type": "execute_result"
    }
   ],
   "source": [
    "Markdown(f\"## CWE Data\")"
   ]
  },
  {
   "cell_type": "code",
   "execution_count": 19,
   "id": "6815f0a1",
   "metadata": {
    "execution": {
     "iopub.execute_input": "2022-02-28T18:13:51.712063Z",
     "iopub.status.busy": "2022-02-28T18:13:51.711794Z",
     "iopub.status.idle": "2022-02-28T18:13:51.974613Z",
     "shell.execute_reply": "2022-02-28T18:13:51.973934Z"
    }
   },
   "outputs": [
    {
     "data": {
      "image/png": "[encoded data removed]",
      "text/plain": [
       "<Figure size 720x720 with 1 Axes>"
      ]
     },
     "metadata": {
      "needs_background": "light"
     },
     "output_type": "display_data"
    }
   ],
   "source": [
    "nvd_cwe = nvd['CWE'].value_counts()\n",
    "nvd_cwe = nvd_cwe.reset_index()\n",
    "nvd_cwe.columns = ['CWE', 'counts']\n",
    "nvd_cwe = nvd_cwe[~nvd_cwe.CWE.str.contains('Missing_')]\n",
    "nvd_cwe = nvd_cwe[~nvd_cwe.CWE.str.contains('NVD')]\n",
    "nvd_cwe = nvd_cwe[nvd_cwe.counts > 100].head(25)\n",
    "plt.figure(figsize=(10,10));\n",
    "plt.barh(\"CWE\", \"counts\", data = nvd_cwe, color=\"#001d82\");\n",
    "plt.xlabel(\"Count\"); \n",
    "plt.ylabel(\"CWE\") ;\n",
    "plt.title(\"Most Common CWE in CVE Records\");\n"
   ]
  },
  {
   "cell_type": "code",
   "execution_count": 20,
   "id": "1cbec814-905a-4028-b72f-98da5081b10d",
   "metadata": {
    "execution": {
     "iopub.execute_input": "2022-02-28T18:13:51.977610Z",
     "iopub.status.busy": "2022-02-28T18:13:51.977209Z",
     "iopub.status.idle": "2022-02-28T18:13:51.982169Z",
     "shell.execute_reply": "2022-02-28T18:13:51.981644Z"
    }
   },
   "outputs": [
    {
     "data": {
      "text/markdown": [
       "## More CVE Data"
      ],
      "text/plain": [
       "<IPython.core.display.Markdown object>"
      ]
     },
     "execution_count": 20,
     "metadata": {},
     "output_type": "execute_result"
    }
   ],
   "source": [
    "Markdown(f\"## More CVE Data\")"
   ]
  },
  {
   "cell_type": "code",
   "execution_count": 21,
   "id": "5dbbc915",
   "metadata": {
    "execution": {
     "iopub.execute_input": "2022-02-28T18:13:51.984660Z",
     "iopub.status.busy": "2022-02-28T18:13:51.984246Z",
     "iopub.status.idle": "2022-02-28T18:13:51.988207Z",
     "shell.execute_reply": "2022-02-28T18:13:51.987683Z"
    }
   },
   "outputs": [
    {
     "data": {
      "text/markdown": [
       "### Top CNA Assigner"
      ],
      "text/plain": [
       "<IPython.core.display.Markdown object>"
      ]
     },
     "execution_count": 21,
     "metadata": {},
     "output_type": "execute_result"
    }
   ],
   "source": [
    "Markdown(f\"### Top CNA Assigner\")"
   ]
  },
  {
   "cell_type": "code",
   "execution_count": 22,
   "id": "04a26e54",
   "metadata": {
    "execution": {
     "iopub.execute_input": "2022-02-28T18:13:51.991168Z",
     "iopub.status.busy": "2022-02-28T18:13:51.990900Z",
     "iopub.status.idle": "2022-02-28T18:13:52.144692Z",
     "shell.execute_reply": "2022-02-28T18:13:52.143854Z"
    }
   },
   "outputs": [
    {
     "data": {
      "text/html": [
       "<style type=\"text/css\">\n",
       "</style>\n",
       "<table id=\"T_03db8\">\n",
       "  <thead>\n",
       "    <tr>\n",
       "      <th id=\"T_03db8_level0_col0\" class=\"col_heading level0 col0\" >Assigner</th>\n",
       "      <th id=\"T_03db8_level0_col1\" class=\"col_heading level0 col1\" >counts</th>\n",
       "    </tr>\n",
       "  </thead>\n",
       "  <tbody>\n",
       "    <tr>\n",
       "      <td id=\"T_03db8_row0_col0\" class=\"data row0 col0\" >secalert@redhat.com</td>\n",
       "      <td id=\"T_03db8_row0_col1\" class=\"data row0 col1\" >9077</td>\n",
       "    </tr>\n",
       "    <tr>\n",
       "      <td id=\"T_03db8_row1_col0\" class=\"data row1 col0\" >secure@microsoft.com</td>\n",
       "      <td id=\"T_03db8_row1_col1\" class=\"data row1 col1\" >7405</td>\n",
       "    </tr>\n",
       "    <tr>\n",
       "      <td id=\"T_03db8_row2_col0\" class=\"data row2 col0\" >secalert_us@oracle.com</td>\n",
       "      <td id=\"T_03db8_row2_col1\" class=\"data row2 col1\" >7012</td>\n",
       "    </tr>\n",
       "    <tr>\n",
       "      <td id=\"T_03db8_row3_col0\" class=\"data row3 col0\" >psirt@cisco.com</td>\n",
       "      <td id=\"T_03db8_row3_col1\" class=\"data row3 col1\" >4889</td>\n",
       "    </tr>\n",
       "    <tr>\n",
       "      <td id=\"T_03db8_row4_col0\" class=\"data row4 col0\" >psirt@us.ibm.com</td>\n",
       "      <td id=\"T_03db8_row4_col1\" class=\"data row4 col1\" >4683</td>\n",
       "    </tr>\n",
       "    <tr>\n",
       "      <td id=\"T_03db8_row5_col0\" class=\"data row5 col0\" >product-security@apple.com</td>\n",
       "      <td id=\"T_03db8_row5_col1\" class=\"data row5 col1\" >4228</td>\n",
       "    </tr>\n",
       "    <tr>\n",
       "      <td id=\"T_03db8_row6_col0\" class=\"data row6 col0\" >psirt@adobe.com</td>\n",
       "      <td id=\"T_03db8_row6_col1\" class=\"data row6 col1\" >4105</td>\n",
       "    </tr>\n",
       "    <tr>\n",
       "      <td id=\"T_03db8_row7_col0\" class=\"data row7 col0\" >security@android.com</td>\n",
       "      <td id=\"T_03db8_row7_col1\" class=\"data row7 col1\" >3178</td>\n",
       "    </tr>\n",
       "    <tr>\n",
       "      <td id=\"T_03db8_row8_col0\" class=\"data row8 col0\" >cert@cert.org</td>\n",
       "      <td id=\"T_03db8_row8_col1\" class=\"data row8 col1\" >2832</td>\n",
       "    </tr>\n",
       "    <tr>\n",
       "      <td id=\"T_03db8_row9_col0\" class=\"data row9 col0\" >ics-cert@hq.dhs.gov</td>\n",
       "      <td id=\"T_03db8_row9_col1\" class=\"data row9 col1\" >2015</td>\n",
       "    </tr>\n",
       "    <tr>\n",
       "      <td id=\"T_03db8_row10_col0\" class=\"data row10 col0\" >vultures@jpcert.or.jp</td>\n",
       "      <td id=\"T_03db8_row10_col1\" class=\"data row10 col1\" >1933</td>\n",
       "    </tr>\n",
       "    <tr>\n",
       "      <td id=\"T_03db8_row11_col0\" class=\"data row11 col0\" >security.cna@qualcomm.com</td>\n",
       "      <td id=\"T_03db8_row11_col1\" class=\"data row11 col1\" >1890</td>\n",
       "    </tr>\n",
       "    <tr>\n",
       "      <td id=\"T_03db8_row12_col0\" class=\"data row12 col0\" >security-advisories@github.com</td>\n",
       "      <td id=\"T_03db8_row12_col1\" class=\"data row12 col1\" >1810</td>\n",
       "    </tr>\n",
       "    <tr>\n",
       "      <td id=\"T_03db8_row13_col0\" class=\"data row13 col0\" >security@google.com</td>\n",
       "      <td id=\"T_03db8_row13_col1\" class=\"data row13 col1\" >1748</td>\n",
       "    </tr>\n",
       "    <tr>\n",
       "      <td id=\"T_03db8_row14_col0\" class=\"data row14 col0\" >security@mozilla.org</td>\n",
       "      <td id=\"T_03db8_row14_col1\" class=\"data row14 col1\" >1411</td>\n",
       "    </tr>\n",
       "    <tr>\n",
       "      <td id=\"T_03db8_row15_col0\" class=\"data row15 col0\" >talos-cna@cisco.com</td>\n",
       "      <td id=\"T_03db8_row15_col1\" class=\"data row15 col1\" >1243</td>\n",
       "    </tr>\n",
       "    <tr>\n",
       "      <td id=\"T_03db8_row16_col0\" class=\"data row16 col0\" >psirt@huawei.com</td>\n",
       "      <td id=\"T_03db8_row16_col1\" class=\"data row16 col1\" >1168</td>\n",
       "    </tr>\n",
       "    <tr>\n",
       "      <td id=\"T_03db8_row17_col0\" class=\"data row17 col0\" >zdi-disclosures@trendmicro.com</td>\n",
       "      <td id=\"T_03db8_row17_col1\" class=\"data row17 col1\" >1102</td>\n",
       "    </tr>\n",
       "    <tr>\n",
       "      <td id=\"T_03db8_row18_col0\" class=\"data row18 col0\" >cve-assignments@hackerone.com</td>\n",
       "      <td id=\"T_03db8_row18_col1\" class=\"data row18 col1\" >1040</td>\n",
       "    </tr>\n",
       "    <tr>\n",
       "      <td id=\"T_03db8_row19_col0\" class=\"data row19 col0\" >secure@dell.com</td>\n",
       "      <td id=\"T_03db8_row19_col1\" class=\"data row19 col1\" >1008</td>\n",
       "    </tr>\n",
       "  </tbody>\n",
       "</table>\n"
      ],
      "text/plain": [
       "<pandas.io.formats.style.Styler at 0x7f98e6af9f10>"
      ]
     },
     "execution_count": 22,
     "metadata": {},
     "output_type": "execute_result"
    }
   ],
   "source": [
    "nvd_frequency_no_mitre.style.hide_index()"
   ]
  },
  {
   "cell_type": "code",
   "execution_count": 23,
   "id": "a79bb81d-6c28-4790-980c-ed4dcfaeade9",
   "metadata": {
    "execution": {
     "iopub.execute_input": "2022-02-28T18:13:52.147969Z",
     "iopub.status.busy": "2022-02-28T18:13:52.147669Z",
     "iopub.status.idle": "2022-02-28T18:13:52.157916Z",
     "shell.execute_reply": "2022-02-28T18:13:52.157434Z"
    }
   },
   "outputs": [
    {
     "data": {
      "text/markdown": [
       "### CVEs By Year Published"
      ],
      "text/plain": [
       "<IPython.core.display.Markdown object>"
      ]
     },
     "execution_count": 23,
     "metadata": {},
     "output_type": "execute_result"
    }
   ],
   "source": [
    "Markdown(f\"### CVEs By Year Published\")"
   ]
  },
  {
   "cell_type": "code",
   "execution_count": 24,
   "id": "a6fe65a3-4607-4388-ab0b-6df705e5ba50",
   "metadata": {
    "execution": {
     "iopub.execute_input": "2022-02-28T18:13:52.160596Z",
     "iopub.status.busy": "2022-02-28T18:13:52.160361Z",
     "iopub.status.idle": "2022-02-28T18:13:52.170240Z",
     "shell.execute_reply": "2022-02-28T18:13:52.169731Z"
    },
    "jupyter": {
     "source_hidden": true
    },
    "tags": []
   },
   "outputs": [
    {
     "data": {
      "text/html": [
       "<div>\n",
       "<style scoped>\n",
       "    .dataframe tbody tr th:only-of-type {\n",
       "        vertical-align: middle;\n",
       "    }\n",
       "\n",
       "    .dataframe tbody tr th {\n",
       "        vertical-align: top;\n",
       "    }\n",
       "\n",
       "    .dataframe thead th {\n",
       "        text-align: right;\n",
       "    }\n",
       "</style>\n",
       "<table border=\"1\" class=\"dataframe\">\n",
       "  <thead>\n",
       "    <tr style=\"text-align: right;\">\n",
       "      <th></th>\n",
       "      <th>Count</th>\n",
       "    </tr>\n",
       "    <tr>\n",
       "      <th>Published</th>\n",
       "      <th></th>\n",
       "    </tr>\n",
       "  </thead>\n",
       "  <tbody>\n",
       "    <tr>\n",
       "      <th>1988</th>\n",
       "      <td>2</td>\n",
       "    </tr>\n",
       "    <tr>\n",
       "      <th>1989</th>\n",
       "      <td>3</td>\n",
       "    </tr>\n",
       "    <tr>\n",
       "      <th>1990</th>\n",
       "      <td>11</td>\n",
       "    </tr>\n",
       "    <tr>\n",
       "      <th>1991</th>\n",
       "      <td>15</td>\n",
       "    </tr>\n",
       "    <tr>\n",
       "      <th>1992</th>\n",
       "      <td>13</td>\n",
       "    </tr>\n",
       "    <tr>\n",
       "      <th>1993</th>\n",
       "      <td>13</td>\n",
       "    </tr>\n",
       "    <tr>\n",
       "      <th>1994</th>\n",
       "      <td>25</td>\n",
       "    </tr>\n",
       "    <tr>\n",
       "      <th>1995</th>\n",
       "      <td>25</td>\n",
       "    </tr>\n",
       "    <tr>\n",
       "      <th>1996</th>\n",
       "      <td>75</td>\n",
       "    </tr>\n",
       "    <tr>\n",
       "      <th>1997</th>\n",
       "      <td>252</td>\n",
       "    </tr>\n",
       "    <tr>\n",
       "      <th>1998</th>\n",
       "      <td>246</td>\n",
       "    </tr>\n",
       "    <tr>\n",
       "      <th>1999</th>\n",
       "      <td>894</td>\n",
       "    </tr>\n",
       "    <tr>\n",
       "      <th>2000</th>\n",
       "      <td>1020</td>\n",
       "    </tr>\n",
       "    <tr>\n",
       "      <th>2001</th>\n",
       "      <td>1677</td>\n",
       "    </tr>\n",
       "    <tr>\n",
       "      <th>2002</th>\n",
       "      <td>2156</td>\n",
       "    </tr>\n",
       "    <tr>\n",
       "      <th>2003</th>\n",
       "      <td>1527</td>\n",
       "    </tr>\n",
       "    <tr>\n",
       "      <th>2004</th>\n",
       "      <td>2451</td>\n",
       "    </tr>\n",
       "    <tr>\n",
       "      <th>2005</th>\n",
       "      <td>4932</td>\n",
       "    </tr>\n",
       "    <tr>\n",
       "      <th>2006</th>\n",
       "      <td>6608</td>\n",
       "    </tr>\n",
       "    <tr>\n",
       "      <th>2007</th>\n",
       "      <td>6516</td>\n",
       "    </tr>\n",
       "    <tr>\n",
       "      <th>2008</th>\n",
       "      <td>5632</td>\n",
       "    </tr>\n",
       "    <tr>\n",
       "      <th>2009</th>\n",
       "      <td>5732</td>\n",
       "    </tr>\n",
       "    <tr>\n",
       "      <th>2010</th>\n",
       "      <td>4639</td>\n",
       "    </tr>\n",
       "    <tr>\n",
       "      <th>2011</th>\n",
       "      <td>4150</td>\n",
       "    </tr>\n",
       "    <tr>\n",
       "      <th>2012</th>\n",
       "      <td>5288</td>\n",
       "    </tr>\n",
       "    <tr>\n",
       "      <th>2013</th>\n",
       "      <td>5187</td>\n",
       "    </tr>\n",
       "    <tr>\n",
       "      <th>2014</th>\n",
       "      <td>7928</td>\n",
       "    </tr>\n",
       "    <tr>\n",
       "      <th>2015</th>\n",
       "      <td>6494</td>\n",
       "    </tr>\n",
       "    <tr>\n",
       "      <th>2016</th>\n",
       "      <td>6449</td>\n",
       "    </tr>\n",
       "    <tr>\n",
       "      <th>2017</th>\n",
       "      <td>14644</td>\n",
       "    </tr>\n",
       "    <tr>\n",
       "      <th>2018</th>\n",
       "      <td>16510</td>\n",
       "    </tr>\n",
       "    <tr>\n",
       "      <th>2019</th>\n",
       "      <td>17306</td>\n",
       "    </tr>\n",
       "    <tr>\n",
       "      <th>2020</th>\n",
       "      <td>18324</td>\n",
       "    </tr>\n",
       "    <tr>\n",
       "      <th>2021</th>\n",
       "      <td>20132</td>\n",
       "    </tr>\n",
       "    <tr>\n",
       "      <th>2022</th>\n",
       "      <td>3890</td>\n",
       "    </tr>\n",
       "  </tbody>\n",
       "</table>\n",
       "</div>"
      ],
      "text/plain": [
       "           Count\n",
       "Published       \n",
       "1988           2\n",
       "1989           3\n",
       "1990          11\n",
       "1991          15\n",
       "1992          13\n",
       "1993          13\n",
       "1994          25\n",
       "1995          25\n",
       "1996          75\n",
       "1997         252\n",
       "1998         246\n",
       "1999         894\n",
       "2000        1020\n",
       "2001        1677\n",
       "2002        2156\n",
       "2003        1527\n",
       "2004        2451\n",
       "2005        4932\n",
       "2006        6608\n",
       "2007        6516\n",
       "2008        5632\n",
       "2009        5732\n",
       "2010        4639\n",
       "2011        4150\n",
       "2012        5288\n",
       "2013        5187\n",
       "2014        7928\n",
       "2015        6494\n",
       "2016        6449\n",
       "2017       14644\n",
       "2018       16510\n",
       "2019       17306\n",
       "2020       18324\n",
       "2021       20132\n",
       "2022        3890"
      ]
     },
     "execution_count": 24,
     "metadata": {},
     "output_type": "execute_result"
    }
   ],
   "source": [
    "yg_df = pd.DataFrame(Year_Graph)\n",
    "yg_df.columns = ['Count']\n",
    "yg_df.reset_index()\n",
    "yg_df"
   ]
  },
  {
   "cell_type": "code",
   "execution_count": 25,
   "id": "aa164366-d0e6-4ca5-890b-95ea69f2801c",
   "metadata": {
    "execution": {
     "iopub.execute_input": "2022-02-28T18:13:52.173343Z",
     "iopub.status.busy": "2022-02-28T18:13:52.172916Z",
     "iopub.status.idle": "2022-02-28T18:13:52.178039Z",
     "shell.execute_reply": "2022-02-28T18:13:52.177573Z"
    }
   },
   "outputs": [
    {
     "data": {
      "text/markdown": [
       "### CVEs By Identifier"
      ],
      "text/plain": [
       "<IPython.core.display.Markdown object>"
      ]
     },
     "execution_count": 25,
     "metadata": {},
     "output_type": "execute_result"
    }
   ],
   "source": [
    "Markdown(f\"### CVEs By Identifier\")"
   ]
  },
  {
   "cell_type": "code",
   "execution_count": 26,
   "id": "661f28f1-9568-4e97-acb3-75e45e596f1f",
   "metadata": {
    "execution": {
     "iopub.execute_input": "2022-02-28T18:13:52.180839Z",
     "iopub.status.busy": "2022-02-28T18:13:52.180441Z",
     "iopub.status.idle": "2022-02-28T18:13:54.994629Z",
     "shell.execute_reply": "2022-02-28T18:13:54.993943Z"
    }
   },
   "outputs": [
    {
     "name": "stdout",
     "output_type": "stream",
     "text": [
      "CVE-1999-\t1541\n",
      "CVE-2000-\t1237\n",
      "CVE-2001-\t1538\n",
      "CVE-2002-\t2356\n",
      "CVE-2003-\t1500\n",
      "CVE-2004-\t2644\n",
      "CVE-2005-\t4623\n",
      "CVE-2006-\t6991\n",
      "CVE-2007-\t6455\n",
      "CVE-2008-\t7000\n",
      "CVE-2009-\t4902\n",
      "CVE-2010-\t5037\n",
      "CVE-2011-\t4599\n",
      "CVE-2012-\t5419\n",
      "CVE-2013-\t6137\n",
      "CVE-2014-\t8290\n",
      "CVE-2015-\t7923\n",
      "CVE-2016-\t9217\n",
      "CVE-2017-\t14384\n",
      "CVE-2018-\t15637\n",
      "CVE-2019-\t15395\n",
      "CVE-2020-\t17959\n",
      "CVE-2021-\t18208\n",
      "CVE-2022-\t1774\n"
     ]
    }
   ],
   "source": [
    "\n",
    "print(\"CVE-1999-\\t%s\" % len(nvd[nvd['CVE'].str.contains('CVE-1999-')]))\n",
    "print(\"CVE-2000-\\t%s\" % len(nvd[nvd['CVE'].str.contains('CVE-2000-')]))\n",
    "print(\"CVE-2001-\\t%s\" % len(nvd[nvd['CVE'].str.contains('CVE-2001-')]))\n",
    "print(\"CVE-2002-\\t%s\" % len(nvd[nvd['CVE'].str.contains('CVE-2002-')]))\n",
    "print(\"CVE-2003-\\t%s\" % len(nvd[nvd['CVE'].str.contains('CVE-2003-')]))\n",
    "print(\"CVE-2004-\\t%s\" % len(nvd[nvd['CVE'].str.contains('CVE-2004-')]))\n",
    "print(\"CVE-2005-\\t%s\" % len(nvd[nvd['CVE'].str.contains('CVE-2005-')]))\n",
    "print(\"CVE-2006-\\t%s\" % len(nvd[nvd['CVE'].str.contains('CVE-2006-')]))\n",
    "print(\"CVE-2007-\\t%s\" % len(nvd[nvd['CVE'].str.contains('CVE-2007-')]))\n",
    "print(\"CVE-2008-\\t%s\" % len(nvd[nvd['CVE'].str.contains('CVE-2008-')]))\n",
    "print(\"CVE-2009-\\t%s\" % len(nvd[nvd['CVE'].str.contains('CVE-2009-')]))\n",
    "print(\"CVE-2010-\\t%s\" % len(nvd[nvd['CVE'].str.contains('CVE-2010-')]))\n",
    "print(\"CVE-2011-\\t%s\" % len(nvd[nvd['CVE'].str.contains('CVE-2011-')]))\n",
    "print(\"CVE-2012-\\t%s\" % len(nvd[nvd['CVE'].str.contains('CVE-2012-')]))\n",
    "print(\"CVE-2013-\\t%s\" % len(nvd[nvd['CVE'].str.contains('CVE-2013-')]))\n",
    "print(\"CVE-2014-\\t%s\" % len(nvd[nvd['CVE'].str.contains('CVE-2014-')]))\n",
    "print(\"CVE-2015-\\t%s\" % len(nvd[nvd['CVE'].str.contains('CVE-2015-')]))\n",
    "print(\"CVE-2016-\\t%s\" % len(nvd[nvd['CVE'].str.contains('CVE-2016-')]))\n",
    "print(\"CVE-2017-\\t%s\" % len(nvd[nvd['CVE'].str.contains('CVE-2017-')]))\n",
    "print(\"CVE-2018-\\t%s\" % len(nvd[nvd['CVE'].str.contains('CVE-2018-')]))\n",
    "print(\"CVE-2019-\\t%s\" % len(nvd[nvd['CVE'].str.contains('CVE-2019-')]))\n",
    "print(\"CVE-2020-\\t%s\" % len(nvd[nvd['CVE'].str.contains('CVE-2020-')]))\n",
    "print(\"CVE-2021-\\t%s\" % len(nvd[nvd['CVE'].str.contains('CVE-2021-')]))\n",
    "print(\"CVE-2022-\\t%s\" % len(nvd[nvd['CVE'].str.contains('CVE-2022-')]))"
   ]
  },
  {
   "cell_type": "code",
   "execution_count": 27,
   "id": "1cc30ff0",
   "metadata": {
    "execution": {
     "iopub.execute_input": "2022-02-28T18:13:54.997980Z",
     "iopub.status.busy": "2022-02-28T18:13:54.997431Z",
     "iopub.status.idle": "2022-02-28T18:13:55.003854Z",
     "shell.execute_reply": "2022-02-28T18:13:55.003347Z"
    }
   },
   "outputs": [
    {
     "data": {
      "text/markdown": [
       "### First 5 CVEs"
      ],
      "text/plain": [
       "<IPython.core.display.Markdown object>"
      ]
     },
     "execution_count": 27,
     "metadata": {},
     "output_type": "execute_result"
    }
   ],
   "source": [
    "Markdown(f\"### First 5 CVEs\")"
   ]
  },
  {
   "cell_type": "code",
   "execution_count": 28,
   "id": "robust-sustainability",
   "metadata": {
    "execution": {
     "iopub.execute_input": "2022-02-28T18:13:55.006666Z",
     "iopub.status.busy": "2022-02-28T18:13:55.006501Z",
     "iopub.status.idle": "2022-02-28T18:13:55.032031Z",
     "shell.execute_reply": "2022-02-28T18:13:55.031512Z"
    }
   },
   "outputs": [
    {
     "data": {
      "text/html": [
       "<style type=\"text/css\">\n",
       "</style>\n",
       "<table id=\"T_8c447\">\n",
       "  <thead>\n",
       "    <tr>\n",
       "      <th id=\"T_8c447_level0_col0\" class=\"col_heading level0 col0\" >CVE</th>\n",
       "      <th id=\"T_8c447_level0_col1\" class=\"col_heading level0 col1\" >Description</th>\n",
       "    </tr>\n",
       "  </thead>\n",
       "  <tbody>\n",
       "    <tr>\n",
       "      <td id=\"T_8c447_row0_col0\" class=\"data row0 col0\" >CVE-1999-0095</td>\n",
       "      <td id=\"T_8c447_row0_col1\" class=\"data row0 col1\" >The debug command in Sendmail is enabled, allowing attackers to execute commands as root.</td>\n",
       "    </tr>\n",
       "    <tr>\n",
       "      <td id=\"T_8c447_row1_col0\" class=\"data row1 col0\" >CVE-1999-0082</td>\n",
       "      <td id=\"T_8c447_row1_col1\" class=\"data row1 col1\" >CWD ~root command in ftpd allows root access.</td>\n",
       "    </tr>\n",
       "    <tr>\n",
       "      <td id=\"T_8c447_row2_col0\" class=\"data row2 col0\" >CVE-1999-1471</td>\n",
       "      <td id=\"T_8c447_row2_col1\" class=\"data row2 col1\" >Buffer overflow in passwd in BSD based operating systems 4.3 and earlier allows local users to gain root privileges by specifying a long shell or GECOS field.</td>\n",
       "    </tr>\n",
       "    <tr>\n",
       "      <td id=\"T_8c447_row3_col0\" class=\"data row3 col0\" >CVE-1999-1122</td>\n",
       "      <td id=\"T_8c447_row3_col1\" class=\"data row3 col1\" >Vulnerability in restore in SunOS 4.0.3 and earlier allows local users to gain privileges.</td>\n",
       "    </tr>\n",
       "    <tr>\n",
       "      <td id=\"T_8c447_row4_col0\" class=\"data row4 col0\" >CVE-1999-1467</td>\n",
       "      <td id=\"T_8c447_row4_col1\" class=\"data row4 col1\" >Vulnerability in rcp on SunOS 4.0.x allows remote attackers from trusted hosts to execute arbitrary commands as root, possibly related to the configuration of the nobody user.</td>\n",
       "    </tr>\n",
       "  </tbody>\n",
       "</table>\n"
      ],
      "text/plain": [
       "<pandas.io.formats.style.Styler at 0x7f98e474fb20>"
      ]
     },
     "execution_count": 28,
     "metadata": {},
     "output_type": "execute_result"
    }
   ],
   "source": [
    "nvd[[\"CVE\", \"Description\"]].head(5).style.hide_index()"
   ]
  },
  {
   "cell_type": "code",
   "execution_count": 29,
   "id": "b7f86a25",
   "metadata": {
    "execution": {
     "iopub.execute_input": "2022-02-28T18:13:55.034986Z",
     "iopub.status.busy": "2022-02-28T18:13:55.034683Z",
     "iopub.status.idle": "2022-02-28T18:13:55.040906Z",
     "shell.execute_reply": "2022-02-28T18:13:55.040404Z"
    }
   },
   "outputs": [
    {
     "data": {
      "text/markdown": [
       "### Last 5 CVEs"
      ],
      "text/plain": [
       "<IPython.core.display.Markdown object>"
      ]
     },
     "execution_count": 29,
     "metadata": {},
     "output_type": "execute_result"
    }
   ],
   "source": [
    "Markdown(f\"### Last 5 CVEs\")"
   ]
  },
  {
   "cell_type": "code",
   "execution_count": 30,
   "id": "ceramic-gather",
   "metadata": {
    "execution": {
     "iopub.execute_input": "2022-02-28T18:13:55.043656Z",
     "iopub.status.busy": "2022-02-28T18:13:55.043238Z",
     "iopub.status.idle": "2022-02-28T18:13:55.067852Z",
     "shell.execute_reply": "2022-02-28T18:13:55.067322Z"
    }
   },
   "outputs": [
    {
     "data": {
      "text/html": [
       "<style type=\"text/css\">\n",
       "</style>\n",
       "<table id=\"T_a8058\">\n",
       "  <thead>\n",
       "    <tr>\n",
       "      <th id=\"T_a8058_level0_col0\" class=\"col_heading level0 col0\" >CVE</th>\n",
       "      <th id=\"T_a8058_level0_col1\" class=\"col_heading level0 col1\" >Description</th>\n",
       "    </tr>\n",
       "  </thead>\n",
       "  <tbody>\n",
       "    <tr>\n",
       "      <td id=\"T_a8058_row0_col0\" class=\"data row0 col0\" >CVE-2021-3967</td>\n",
       "      <td id=\"T_a8058_row0_col1\" class=\"data row0 col1\" >Improper Access Control in GitHub repository zulip/zulip prior to 4.10.</td>\n",
       "    </tr>\n",
       "    <tr>\n",
       "      <td id=\"T_a8058_row1_col0\" class=\"data row1 col0\" >CVE-2021-21708</td>\n",
       "      <td id=\"T_a8058_row1_col1\" class=\"data row1 col1\" >In PHP versions 7.4.x below 7.4.28, 8.0.x below 8.0.16, and 8.1.x below 8.1.3, when using filter functions with FILTER_VALIDATE_FLOAT filter and min/max limits, if the filter fails, there is a possibility to trigger use of allocated memory after free, which can result it crashes, and potentially in overwrite of other memory chunks and RCE. This issue affects: code that uses FILTER_VALIDATE_FLOAT with min/max limits.</td>\n",
       "    </tr>\n",
       "    <tr>\n",
       "      <td id=\"T_a8058_row2_col0\" class=\"data row2 col0\" >CVE-2022-0772</td>\n",
       "      <td id=\"T_a8058_row2_col1\" class=\"data row2 col1\" >Cross-site Scripting (XSS) - Stored in GitHub repository librenms/librenms prior to 22.2.2.</td>\n",
       "    </tr>\n",
       "    <tr>\n",
       "      <td id=\"T_a8058_row3_col0\" class=\"data row3 col0\" >CVE-2021-43945</td>\n",
       "      <td id=\"T_a8058_row3_col1\" class=\"data row3 col1\" >Affected versions of Atlassian Jira Server and Data Center allow remote attackers with Roadmaps Administrator permissions to inject arbitrary HTML or JavaScript via a Stored Cross-Site Scripting (SXSS) vulnerability in the /rest/jpo/1.0/hierarchyConfiguration endpoint. The affected versions are before version 8.20.3.</td>\n",
       "    </tr>\n",
       "    <tr>\n",
       "      <td id=\"T_a8058_row4_col0\" class=\"data row4 col0\" >CVE-2022-26159</td>\n",
       "      <td id=\"T_a8058_row4_col1\" class=\"data row4 col1\" >The auto-completion plugin in Ametys CMS before 4.5.0 allows a remote unauthenticated attacker to read documents such as plugins/web/service/search/auto-completion/<domain>/en.xml (and similar pathnames for other languages), which contain all characters typed by all users, including the content of private pages. For example, a private page may contain usernames, e-mail addresses, and possibly passwords.</td>\n",
       "    </tr>\n",
       "  </tbody>\n",
       "</table>\n"
      ],
      "text/plain": [
       "<pandas.io.formats.style.Styler at 0x7f98e3f1fcd0>"
      ]
     },
     "execution_count": 30,
     "metadata": {},
     "output_type": "execute_result"
    }
   ],
   "source": [
    "\n",
    "nvd[[\"CVE\", \"Description\"]].tail(5).style.hide_index()"
   ]
  },
  {
   "cell_type": "code",
   "execution_count": 31,
   "id": "20ee3a71",
   "metadata": {
    "execution": {
     "iopub.execute_input": "2022-02-28T18:13:55.070755Z",
     "iopub.status.busy": "2022-02-28T18:13:55.070369Z",
     "iopub.status.idle": "2022-02-28T18:13:55.076097Z",
     "shell.execute_reply": "2022-02-28T18:13:55.075617Z"
    }
   },
   "outputs": [
    {
     "data": {
      "text/markdown": [
       "This report is updated automatically every day, last generated on: **2022-02-28 18:13:55.071570**"
      ],
      "text/plain": [
       "<IPython.core.display.Markdown object>"
      ]
     },
     "execution_count": 31,
     "metadata": {},
     "output_type": "execute_result"
    }
   ],
   "source": [
    "Markdown(f\"This report is updated automatically every day, last generated on: **{datetime.datetime.now()}**\")"
   ]
  }
 ],
 "metadata": {
  "kernelspec": {
   "display_name": "Python 3 (ipykernel)",
   "language": "python",
   "name": "python3"
  },
  "language_info": {
   "codemirror_mode": {
    "name": "ipython",
    "version": 3
   },
   "file_extension": ".py",
   "mimetype": "text/x-python",
   "name": "python",
   "nbconvert_exporter": "python",
   "pygments_lexer": "ipython3",
   "version": "3.9.10"
  }
 },
 "nbformat": 4,
 "nbformat_minor": 5
}
