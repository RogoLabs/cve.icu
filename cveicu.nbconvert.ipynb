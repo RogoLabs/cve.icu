{
 "cells": [
  {
   "cell_type": "markdown",
   "id": "serious-pressing",
   "metadata": {},
   "source": [
    "# CVE.ICU\n",
    "---"
   ]
  },
  {
   "cell_type": "markdown",
   "id": "persistent-circus",
   "metadata": {},
   "source": [
    "This information from this website is from a [jupyter notebook](https://jupyter.org/) that automatically pulls all [JSON Data](https://nvd.nist.gov/vuln/data-feeds#JSON_FEED) from the NVD and perform some fundamental data analysis and graphing.  If you have any questions or suggestions, please join the [discussion here](https://github.com/jgamblin/cve.icu/discussions) and check out the [source code](https://github.com/jgamblin/cve.icu/).  Questions? Reach out to [@jgamblin](https://www.twitter.com/jgamblin).\n",
    "\n",
    "**Yearly Data**\n",
    "-  [All](https://cve.icu/)\n",
    "-  [2022](2022.html)\n",
    "-  [2021](2021.html)\n",
    "-  [2020](2020.html)\n",
    "-  [2019](2019.html)\n",
    "\n",
    "**Other Data**\n",
    "-  [CVE Growth Predictions](prophet.html)\n",
    "-  [CVE Calendar All Years](calendar.html)\n",
    "-  [CNA Map](cnamap.html)"
   ]
  },
  {
   "cell_type": "markdown",
   "id": "36813e36",
   "metadata": {},
   "source": [
    "## CVE Data"
   ]
  },
  {
   "cell_type": "code",
   "execution_count": 1,
   "id": "diverse-prison",
   "metadata": {
    "execution": {
     "iopub.execute_input": "2022-04-25T18:15:17.963997Z",
     "iopub.status.busy": "2022-04-25T18:15:17.963548Z",
     "iopub.status.idle": "2022-04-25T18:15:19.144886Z",
     "shell.execute_reply": "2022-04-25T18:15:19.143973Z"
    },
    "tags": []
   },
   "outputs": [],
   "source": [
    "\n",
    "from IPython.core.magic import register_cell_magic\n",
    "from IPython.display import Markdown\n",
    "import datetime\n",
    "from datetime import date\n",
    "import glob\n",
    "import json\n",
    "import logging\n",
    "import matplotlib.pyplot as plt\n",
    "import numpy as np\n",
    "import pandas as pd\n",
    "import plotly\n",
    "import warnings\n",
    "\n",
    "@register_cell_magic\n",
    "def markdown(line, cell):\n",
    "    return Markdown(cell.format(**globals()))\n",
    "\n",
    "\n",
    "logging.getLogger('matplotlib.font_manager').disabled = True\n",
    "warnings.filterwarnings(\"ignore\")\n",
    "pd.set_option('display.width', 500)\n",
    "pd.set_option('display.max_rows', 50)\n",
    "pd.set_option('display.max_columns', 10)"
   ]
  },
  {
   "cell_type": "code",
   "execution_count": 2,
   "id": "organized-ambassador",
   "metadata": {
    "execution": {
     "iopub.execute_input": "2022-04-25T18:15:19.148733Z",
     "iopub.status.busy": "2022-04-25T18:15:19.148520Z",
     "iopub.status.idle": "2022-04-25T18:16:02.472297Z",
     "shell.execute_reply": "2022-04-25T18:16:02.471000Z"
    },
    "tags": []
   },
   "outputs": [],
   "source": [
    "row_accumulator = []\n",
    "for filename in glob.glob('nvdcve-1.1-*.json'):\n",
    "    with open(filename, 'r', encoding='utf-8') as f:\n",
    "        nvd_data = json.load(f)\n",
    "        for entry in nvd_data['CVE_Items']:\n",
    "            cve = entry['cve']['CVE_data_meta']['ID']\n",
    "            try:\n",
    "                assigner = entry['cve']['CVE_data_meta']['ASSIGNER']\n",
    "            except KeyError:\n",
    "                published_date = 'Missing_Data'\n",
    "            try:\n",
    "                published_date = entry['publishedDate']\n",
    "            except KeyError:\n",
    "                published_date = 'Missing_Data'\n",
    "            try:\n",
    "                attack_vector = entry['impact']['baseMetricV3']['cvssV3']['attackVector']\n",
    "            except KeyError:\n",
    "                attack_vector = 'Missing_Data'\n",
    "            try:\n",
    "                attack_complexity = entry['impact']['baseMetricV3']['cvssV3']['attackComplexity']\n",
    "            except KeyError:\n",
    "                attack_complexity = 'Missing_Data'\n",
    "            try:\n",
    "                privileges_required = entry['impact']['baseMetricV3']['cvssV3']['privilegesRequired']\n",
    "            except KeyError:\n",
    "                privileges_required = 'Missing_Data'\n",
    "            try:\n",
    "                user_interaction = entry['impact']['baseMetricV3']['cvssV3']['userInteraction']\n",
    "            except KeyError:\n",
    "                user_interaction = 'Missing_Data'\n",
    "            try:\n",
    "                scope = entry['impact']['baseMetricV3']['cvssV3']['scope']\n",
    "            except KeyError:\n",
    "                scope = 'Missing_Data'\n",
    "            try:\n",
    "                confidentiality_impact = entry['impact']['baseMetricV3']['cvssV3']['confidentialityImpact']\n",
    "            except KeyError:\n",
    "                confidentiality_impact = 'Missing_Data'\n",
    "            try:\n",
    "                integrity_impact = entry['impact']['baseMetricV3']['cvssV3']['integrityImpact']\n",
    "            except KeyError:\n",
    "                integrity_impact = 'Missing_Data'\n",
    "            try:\n",
    "                availability_impact = entry['impact']['baseMetricV3']['cvssV3']['availabilityImpact']\n",
    "            except KeyError:\n",
    "                availability_impact = 'Missing_Data'\n",
    "            try:\n",
    "                base_score = entry['impact']['baseMetricV3']['cvssV3']['baseScore']\n",
    "            except KeyError:\n",
    "                base_score = '0.0'\n",
    "            try:\n",
    "                base_severity = entry['impact']['baseMetricV3']['cvssV3']['baseSeverity']\n",
    "            except KeyError:\n",
    "                base_severity = 'Missing_Data'\n",
    "            try:\n",
    "                exploitability_score = entry['impact']['baseMetricV3']['exploitabilityScore']\n",
    "            except KeyError:\n",
    "                exploitability_score = 'Missing_Data'\n",
    "            try:\n",
    "                impact_score = entry['impact']['baseMetricV3']['impactScore']\n",
    "            except KeyError:\n",
    "                impact_score = 'Missing_Data'\n",
    "            try:\n",
    "                cwe = entry['cve']['problemtype']['problemtype_data'][0]['description'][0]['value']\n",
    "            except IndexError:\n",
    "                cwe = 'Missing_Data'\n",
    "            try:\n",
    "                description = entry['cve']['description']['description_data'][0]['value']\n",
    "            except IndexError:\n",
    "                description = ''\n",
    "            new_row = { \n",
    "                'CVE': cve, \n",
    "                'Published': published_date,\n",
    "                'AttackVector': attack_vector,\n",
    "                'AttackComplexity': attack_complexity,\n",
    "                'PrivilegesRequired': privileges_required,\n",
    "                'UserInteraction': user_interaction,\n",
    "                'Scope': scope,\n",
    "                'ConfidentialityImpact': confidentiality_impact,\n",
    "                'IntegrityImpact': integrity_impact,\n",
    "                'AvailabilityImpact': availability_impact,\n",
    "                'BaseScore': base_score,\n",
    "                'BaseSeverity': base_severity,\n",
    "                'ExploitabilityScore': exploitability_score,\n",
    "                'ImpactScore': impact_score,\n",
    "                'CWE': cwe,\n",
    "                'Description': description,\n",
    "                'Assigner' : assigner\n",
    "            }\n",
    "            if not description.startswith('** REJECT **'): # disputed, rejected and other non issues start with '**'\n",
    "                row_accumulator.append(new_row)\n",
    "        nvd = pd.DataFrame(row_accumulator)\n",
    "    \n",
    "nvd['Published'] = pd.to_datetime(nvd['Published'])\n",
    "nvd = nvd.sort_values(by=['Published'])\n",
    "nvd = nvd.reset_index(drop=True)\n",
    "nvd['BaseScore'] = pd.to_numeric(nvd['BaseScore']);\n",
    "nvd['BaseScore'] = nvd['BaseScore'].replace(0, np.NaN);\n",
    "nvdcount = nvd['Published'].count()\n",
    "startdate = date(2000, 1, 1)\n",
    "enddate  = date.today()\n",
    "numberofdays = enddate - startdate \n",
    "per_day = nvdcount/numberofdays.days"
   ]
  },
  {
   "cell_type": "code",
   "execution_count": 3,
   "id": "e04459ff",
   "metadata": {
    "execution": {
     "iopub.execute_input": "2022-04-25T18:16:02.475848Z",
     "iopub.status.busy": "2022-04-25T18:16:02.475628Z",
     "iopub.status.idle": "2022-04-25T18:16:02.518060Z",
     "shell.execute_reply": "2022-04-25T18:16:02.517304Z"
    }
   },
   "outputs": [
    {
     "data": {
      "text/markdown": [
       "Total Number of CVEs: **174675**<br />Average CVEs Per Day: **21.43**<br />Average CVSS Score: **7.21**"
      ],
      "text/plain": [
       "<IPython.core.display.Markdown object>"
      ]
     },
     "execution_count": 3,
     "metadata": {},
     "output_type": "execute_result"
    }
   ],
   "source": [
    "Markdown(f\"Total Number of CVEs: **{nvd['CVE'].count()}**<br />Average CVEs Per Day: **{per_day.round(2)}**<br />Average CVSS Score: **{nvd['BaseScore'].mean().round(2)}**\")"
   ]
  },
  {
   "cell_type": "code",
   "execution_count": 4,
   "id": "18a9c60b",
   "metadata": {
    "execution": {
     "iopub.execute_input": "2022-04-25T18:16:02.521153Z",
     "iopub.status.busy": "2022-04-25T18:16:02.520940Z",
     "iopub.status.idle": "2022-04-25T18:16:02.532704Z",
     "shell.execute_reply": "2022-04-25T18:16:02.525233Z"
    }
   },
   "outputs": [
    {
     "data": {
      "text/markdown": [
       "## CVE Graphs"
      ],
      "text/plain": [
       "<IPython.core.display.Markdown object>"
      ]
     },
     "execution_count": 4,
     "metadata": {},
     "output_type": "execute_result"
    }
   ],
   "source": [
    "Markdown(f\"## CVE Graphs\")"
   ]
  },
  {
   "cell_type": "code",
   "execution_count": 5,
   "id": "39c9867a",
   "metadata": {
    "execution": {
     "iopub.execute_input": "2022-04-25T18:16:02.538126Z",
     "iopub.status.busy": "2022-04-25T18:16:02.537892Z",
     "iopub.status.idle": "2022-04-25T18:16:02.643423Z",
     "shell.execute_reply": "2022-04-25T18:16:02.642532Z"
    }
   },
   "outputs": [],
   "source": [
    "Month_Graph = nvd['Published'].groupby(nvd.Published.dt.to_period(\"M\")).agg('count')\n",
    "Year_Graph = nvd['Published'].groupby(nvd.Published.dt.to_period(\"Y\")).agg('count')\n",
    "Week_Graph = nvd['Published'].groupby(nvd.Published.dt.to_period(\"W\")).agg('count')\n",
    "Day_Graph = nvd['Published'].groupby(nvd.Published.dt.to_period(\"D\")).agg('count')"
   ]
  },
  {
   "cell_type": "code",
   "execution_count": 6,
   "id": "986aa70e",
   "metadata": {
    "execution": {
     "iopub.execute_input": "2022-04-25T18:16:02.647076Z",
     "iopub.status.busy": "2022-04-25T18:16:02.646828Z",
     "iopub.status.idle": "2022-04-25T18:16:02.652261Z",
     "shell.execute_reply": "2022-04-25T18:16:02.651531Z"
    }
   },
   "outputs": [
    {
     "data": {
      "text/markdown": [
       "### CVE Per Year Graph"
      ],
      "text/plain": [
       "<IPython.core.display.Markdown object>"
      ]
     },
     "execution_count": 6,
     "metadata": {},
     "output_type": "execute_result"
    }
   ],
   "source": [
    "Markdown(f\"### CVE Per Year Graph\")"
   ]
  },
  {
   "cell_type": "code",
   "execution_count": 7,
   "id": "a776139d",
   "metadata": {
    "execution": {
     "iopub.execute_input": "2022-04-25T18:16:02.656564Z",
     "iopub.status.busy": "2022-04-25T18:16:02.656350Z",
     "iopub.status.idle": "2022-04-25T18:16:02.972532Z",
     "shell.execute_reply": "2022-04-25T18:16:02.971680Z"
    }
   },
   "outputs": [
    {
     "data": {
      "image/png": "[encoded data removed]",
      "text/plain": [
       "<Figure size 1152x576 with 1 Axes>"
      ]
     },
     "metadata": {
      "needs_background": "light"
     },
     "output_type": "display_data"
    }
   ],
   "source": [
    "\n",
    "cg = Year_Graph.plot.area(colormap='jet', figsize=(16, 8), title='CVEs Per Year')\n",
    "plt.grid()\n",
    "cg.set_ylabel(\"New CVEs\");\n",
    "cg.set_xlabel(\"Date\");"
   ]
  },
  {
   "cell_type": "code",
   "execution_count": 8,
   "id": "2ce24285",
   "metadata": {
    "execution": {
     "iopub.execute_input": "2022-04-25T18:16:02.975881Z",
     "iopub.status.busy": "2022-04-25T18:16:02.975634Z",
     "iopub.status.idle": "2022-04-25T18:16:02.982516Z",
     "shell.execute_reply": "2022-04-25T18:16:02.981759Z"
    }
   },
   "outputs": [
    {
     "data": {
      "text/markdown": [
       "### CVE Per Month Graph"
      ],
      "text/plain": [
       "<IPython.core.display.Markdown object>"
      ]
     },
     "execution_count": 8,
     "metadata": {},
     "output_type": "execute_result"
    }
   ],
   "source": [
    "Markdown(f\"### CVE Per Month Graph\")"
   ]
  },
  {
   "cell_type": "code",
   "execution_count": 9,
   "id": "endless-cylinder",
   "metadata": {
    "execution": {
     "iopub.execute_input": "2022-04-25T18:16:02.985415Z",
     "iopub.status.busy": "2022-04-25T18:16:02.985211Z",
     "iopub.status.idle": "2022-04-25T18:16:03.264477Z",
     "shell.execute_reply": "2022-04-25T18:16:03.263249Z"
    }
   },
   "outputs": [
    {
     "data": {
      "image/png": "[encoded data removed]",
      "text/plain": [
       "<Figure size 1152x576 with 1 Axes>"
      ]
     },
     "metadata": {
      "needs_background": "light"
     },
     "output_type": "display_data"
    }
   ],
   "source": [
    "\n",
    "cg = Month_Graph.plot.area(colormap='jet', figsize=(16, 8), title='CVEs Per Month')\n",
    "plt.grid()\n",
    "cg.set_ylabel(\"New CVEs\");\n",
    "cg.set_xlabel(\"Date\");"
   ]
  },
  {
   "cell_type": "code",
   "execution_count": 10,
   "id": "befe79e1",
   "metadata": {
    "execution": {
     "iopub.execute_input": "2022-04-25T18:16:03.268103Z",
     "iopub.status.busy": "2022-04-25T18:16:03.267884Z",
     "iopub.status.idle": "2022-04-25T18:16:03.279251Z",
     "shell.execute_reply": "2022-04-25T18:16:03.278394Z"
    }
   },
   "outputs": [
    {
     "data": {
      "text/markdown": [
       "### CVE Per Week Graph"
      ],
      "text/plain": [
       "<IPython.core.display.Markdown object>"
      ]
     },
     "execution_count": 10,
     "metadata": {},
     "output_type": "execute_result"
    }
   ],
   "source": [
    "Markdown(f\"### CVE Per Week Graph\")"
   ]
  },
  {
   "cell_type": "code",
   "execution_count": 11,
   "id": "common-louis",
   "metadata": {
    "execution": {
     "iopub.execute_input": "2022-04-25T18:16:03.283055Z",
     "iopub.status.busy": "2022-04-25T18:16:03.282746Z",
     "iopub.status.idle": "2022-04-25T18:16:03.584231Z",
     "shell.execute_reply": "2022-04-25T18:16:03.583416Z"
    }
   },
   "outputs": [
    {
     "data": {
      "image/png": "[encoded data removed]",
      "text/plain": [
       "<Figure size 1152x576 with 1 Axes>"
      ]
     },
     "metadata": {
      "needs_background": "light"
     },
     "output_type": "display_data"
    }
   ],
   "source": [
    "\n",
    "cg = Week_Graph.plot.area(colormap='jet', figsize=(16, 8), title='CVEs Per Week')\n",
    "plt.grid()\n",
    "cg.set_ylabel(\"New CVEs\");\n",
    "cg.set_xlabel(\"Date\");"
   ]
  },
  {
   "cell_type": "code",
   "execution_count": 12,
   "id": "989be730",
   "metadata": {
    "execution": {
     "iopub.execute_input": "2022-04-25T18:16:03.587817Z",
     "iopub.status.busy": "2022-04-25T18:16:03.587381Z",
     "iopub.status.idle": "2022-04-25T18:16:03.594263Z",
     "shell.execute_reply": "2022-04-25T18:16:03.593544Z"
    }
   },
   "outputs": [
    {
     "data": {
      "text/markdown": [
       "### CVE Per Day Graph"
      ],
      "text/plain": [
       "<IPython.core.display.Markdown object>"
      ]
     },
     "execution_count": 12,
     "metadata": {},
     "output_type": "execute_result"
    }
   ],
   "source": [
    "Markdown(f\"### CVE Per Day Graph\")"
   ]
  },
  {
   "cell_type": "code",
   "execution_count": 13,
   "id": "smooth-stupid",
   "metadata": {
    "execution": {
     "iopub.execute_input": "2022-04-25T18:16:03.597685Z",
     "iopub.status.busy": "2022-04-25T18:16:03.597280Z",
     "iopub.status.idle": "2022-04-25T18:16:03.930045Z",
     "shell.execute_reply": "2022-04-25T18:16:03.929181Z"
    }
   },
   "outputs": [
    {
     "data": {
      "image/png": "[encoded data removed]",
      "text/plain": [
       "<Figure size 1152x576 with 1 Axes>"
      ]
     },
     "metadata": {
      "needs_background": "light"
     },
     "output_type": "display_data"
    }
   ],
   "source": [
    "\n",
    "cg = Day_Graph.plot.area(colormap='jet', figsize=(16, 8), title='CVEs Per Day')\n",
    "plt.grid()\n",
    "cg.set_ylabel(\"New CVEs\");\n",
    "cg.set_xlabel(\"Date\");"
   ]
  },
  {
   "cell_type": "code",
   "execution_count": 14,
   "id": "51593e0c",
   "metadata": {
    "execution": {
     "iopub.execute_input": "2022-04-25T18:16:03.933848Z",
     "iopub.status.busy": "2022-04-25T18:16:03.933609Z",
     "iopub.status.idle": "2022-04-25T18:16:03.941475Z",
     "shell.execute_reply": "2022-04-25T18:16:03.940532Z"
    }
   },
   "outputs": [
    {
     "data": {
      "text/markdown": [
       "## CVSS Data"
      ],
      "text/plain": [
       "<IPython.core.display.Markdown object>"
      ]
     },
     "execution_count": 14,
     "metadata": {},
     "output_type": "execute_result"
    }
   ],
   "source": [
    "Markdown(f\"## CVSS Data\")"
   ]
  },
  {
   "cell_type": "code",
   "execution_count": 15,
   "id": "0652f359",
   "metadata": {
    "execution": {
     "iopub.execute_input": "2022-04-25T18:16:03.944815Z",
     "iopub.status.busy": "2022-04-25T18:16:03.944631Z",
     "iopub.status.idle": "2022-04-25T18:16:04.240339Z",
     "shell.execute_reply": "2022-04-25T18:16:04.239572Z"
    }
   },
   "outputs": [
    {
     "data": {
      "image/png": "[encoded data removed]",
      "text/plain": [
       "<Figure size 1152x576 with 1 Axes>"
      ]
     },
     "metadata": {
      "needs_background": "light"
     },
     "output_type": "display_data"
    }
   ],
   "source": [
    "nvd['BaseScore'].plot(kind=\"hist\", colormap='jet', figsize=(16, 8), title='CVSS Scores');"
   ]
  },
  {
   "cell_type": "code",
   "execution_count": 16,
   "id": "f0210783",
   "metadata": {
    "execution": {
     "iopub.execute_input": "2022-04-25T18:16:04.244016Z",
     "iopub.status.busy": "2022-04-25T18:16:04.243739Z",
     "iopub.status.idle": "2022-04-25T18:16:04.250226Z",
     "shell.execute_reply": "2022-04-25T18:16:04.249484Z"
    }
   },
   "outputs": [
    {
     "data": {
      "text/markdown": [
       "## CNA Data"
      ],
      "text/plain": [
       "<IPython.core.display.Markdown object>"
      ]
     },
     "execution_count": 16,
     "metadata": {},
     "output_type": "execute_result"
    }
   ],
   "source": [
    "Markdown(f\"## CNA Data\")"
   ]
  },
  {
   "cell_type": "code",
   "execution_count": 17,
   "id": "96ff98c6",
   "metadata": {
    "execution": {
     "iopub.execute_input": "2022-04-25T18:16:04.253300Z",
     "iopub.status.busy": "2022-04-25T18:16:04.253089Z",
     "iopub.status.idle": "2022-04-25T18:16:04.556145Z",
     "shell.execute_reply": "2022-04-25T18:16:04.555291Z"
    }
   },
   "outputs": [
    {
     "data": {
      "image/png": "[encoded data removed]",
      "text/plain": [
       "<Figure size 720x720 with 1 Axes>"
      ]
     },
     "metadata": {
      "needs_background": "light"
     },
     "output_type": "display_data"
    }
   ],
   "source": [
    "Markdown(f\"### CNA Assigner Graph\")\n",
    "nvd_frequency = nvd['Assigner'].value_counts()\n",
    "nvd_frequency = nvd_frequency.reset_index()\n",
    "nvd_frequency.columns = ['Assigner', 'counts']\n",
    "nvd_frequency[nvd_frequency.counts > 100].head(50)\n",
    "nvd_frequency_no_mitre = nvd_frequency[~nvd_frequency.Assigner.str.contains('cve@mitre.org')]\n",
    "nvd_frequency_no_mitre = nvd_frequency_no_mitre[nvd_frequency_no_mitre.counts > 100].head(20)\n",
    "plt.figure(figsize=(10,10))\n",
    "plt.barh(\"Assigner\", \"counts\", data = nvd_frequency_no_mitre, color=\"#001d82\")\n",
    "plt.xlabel(\"CVEs\"); \n",
    "plt.ylabel(\"\") ;\n",
    "plt.title(\"Top 20 CNAs\");\n"
   ]
  },
  {
   "cell_type": "code",
   "execution_count": 18,
   "id": "aa3ea191",
   "metadata": {
    "execution": {
     "iopub.execute_input": "2022-04-25T18:16:04.559362Z",
     "iopub.status.busy": "2022-04-25T18:16:04.559143Z",
     "iopub.status.idle": "2022-04-25T18:16:04.565460Z",
     "shell.execute_reply": "2022-04-25T18:16:04.564484Z"
    }
   },
   "outputs": [
    {
     "data": {
      "text/markdown": [
       "## CWE Data"
      ],
      "text/plain": [
       "<IPython.core.display.Markdown object>"
      ]
     },
     "execution_count": 18,
     "metadata": {},
     "output_type": "execute_result"
    }
   ],
   "source": [
    "Markdown(f\"## CWE Data\")"
   ]
  },
  {
   "cell_type": "code",
   "execution_count": 19,
   "id": "6815f0a1",
   "metadata": {
    "execution": {
     "iopub.execute_input": "2022-04-25T18:16:04.568716Z",
     "iopub.status.busy": "2022-04-25T18:16:04.568481Z",
     "iopub.status.idle": "2022-04-25T18:16:04.920353Z",
     "shell.execute_reply": "2022-04-25T18:16:04.919558Z"
    }
   },
   "outputs": [
    {
     "data": {
      "image/png": "[encoded data removed]",
      "text/plain": [
       "<Figure size 720x720 with 1 Axes>"
      ]
     },
     "metadata": {
      "needs_background": "light"
     },
     "output_type": "display_data"
    }
   ],
   "source": [
    "nvd_cwe = nvd['CWE'].value_counts()\n",
    "nvd_cwe = nvd_cwe.reset_index()\n",
    "nvd_cwe.columns = ['CWE', 'counts']\n",
    "nvd_cwe = nvd_cwe[~nvd_cwe.CWE.str.contains('Missing_')]\n",
    "nvd_cwe = nvd_cwe[~nvd_cwe.CWE.str.contains('NVD')]\n",
    "nvd_cwe = nvd_cwe[nvd_cwe.counts > 100].head(25)\n",
    "plt.figure(figsize=(10,10));\n",
    "plt.barh(\"CWE\", \"counts\", data = nvd_cwe, color=\"#001d82\");\n",
    "plt.xlabel(\"Count\"); \n",
    "plt.ylabel(\"CWE\") ;\n",
    "plt.title(\"Most Common CWE in CVE Records\");\n"
   ]
  },
  {
   "cell_type": "code",
   "execution_count": 20,
   "id": "1cbec814-905a-4028-b72f-98da5081b10d",
   "metadata": {
    "execution": {
     "iopub.execute_input": "2022-04-25T18:16:04.923892Z",
     "iopub.status.busy": "2022-04-25T18:16:04.923676Z",
     "iopub.status.idle": "2022-04-25T18:16:04.931763Z",
     "shell.execute_reply": "2022-04-25T18:16:04.930467Z"
    }
   },
   "outputs": [
    {
     "data": {
      "text/markdown": [
       "## More CVE Data"
      ],
      "text/plain": [
       "<IPython.core.display.Markdown object>"
      ]
     },
     "execution_count": 20,
     "metadata": {},
     "output_type": "execute_result"
    }
   ],
   "source": [
    "Markdown(f\"## More CVE Data\")"
   ]
  },
  {
   "cell_type": "code",
   "execution_count": 21,
   "id": "5dbbc915",
   "metadata": {
    "execution": {
     "iopub.execute_input": "2022-04-25T18:16:04.935188Z",
     "iopub.status.busy": "2022-04-25T18:16:04.934971Z",
     "iopub.status.idle": "2022-04-25T18:16:04.942234Z",
     "shell.execute_reply": "2022-04-25T18:16:04.941466Z"
    }
   },
   "outputs": [
    {
     "data": {
      "text/markdown": [
       "### Top CNA Assigner"
      ],
      "text/plain": [
       "<IPython.core.display.Markdown object>"
      ]
     },
     "execution_count": 21,
     "metadata": {},
     "output_type": "execute_result"
    }
   ],
   "source": [
    "Markdown(f\"### Top CNA Assigner\")"
   ]
  },
  {
   "cell_type": "code",
   "execution_count": 22,
   "id": "04a26e54",
   "metadata": {
    "execution": {
     "iopub.execute_input": "2022-04-25T18:16:04.945608Z",
     "iopub.status.busy": "2022-04-25T18:16:04.945401Z",
     "iopub.status.idle": "2022-04-25T18:16:05.144633Z",
     "shell.execute_reply": "2022-04-25T18:16:05.143862Z"
    }
   },
   "outputs": [
    {
     "data": {
      "text/html": [
       "<style type=\"text/css\">\n",
       "</style>\n",
       "<table id=\"T_540bc\">\n",
       "  <thead>\n",
       "    <tr>\n",
       "      <th id=\"T_540bc_level0_col0\" class=\"col_heading level0 col0\" >Assigner</th>\n",
       "      <th id=\"T_540bc_level0_col1\" class=\"col_heading level0 col1\" >counts</th>\n",
       "    </tr>\n",
       "  </thead>\n",
       "  <tbody>\n",
       "    <tr>\n",
       "      <td id=\"T_540bc_row0_col0\" class=\"data row0 col0\" >secalert@redhat.com</td>\n",
       "      <td id=\"T_540bc_row0_col1\" class=\"data row0 col1\" >9222</td>\n",
       "    </tr>\n",
       "    <tr>\n",
       "      <td id=\"T_540bc_row1_col0\" class=\"data row1 col0\" >secure@microsoft.com</td>\n",
       "      <td id=\"T_540bc_row1_col1\" class=\"data row1 col1\" >7601</td>\n",
       "    </tr>\n",
       "    <tr>\n",
       "      <td id=\"T_540bc_row2_col0\" class=\"data row2 col0\" >secalert_us@oracle.com</td>\n",
       "      <td id=\"T_540bc_row2_col1\" class=\"data row2 col1\" >7097</td>\n",
       "    </tr>\n",
       "    <tr>\n",
       "      <td id=\"T_540bc_row3_col0\" class=\"data row3 col0\" >psirt@cisco.com</td>\n",
       "      <td id=\"T_540bc_row3_col1\" class=\"data row3 col1\" >4947</td>\n",
       "    </tr>\n",
       "    <tr>\n",
       "      <td id=\"T_540bc_row4_col0\" class=\"data row4 col0\" >psirt@us.ibm.com</td>\n",
       "      <td id=\"T_540bc_row4_col1\" class=\"data row4 col1\" >4737</td>\n",
       "    </tr>\n",
       "    <tr>\n",
       "      <td id=\"T_540bc_row5_col0\" class=\"data row5 col0\" >product-security@apple.com</td>\n",
       "      <td id=\"T_540bc_row5_col1\" class=\"data row5 col1\" >4302</td>\n",
       "    </tr>\n",
       "    <tr>\n",
       "      <td id=\"T_540bc_row6_col0\" class=\"data row6 col0\" >psirt@adobe.com</td>\n",
       "      <td id=\"T_540bc_row6_col1\" class=\"data row6 col1\" >4159</td>\n",
       "    </tr>\n",
       "    <tr>\n",
       "      <td id=\"T_540bc_row7_col0\" class=\"data row7 col0\" >security@android.com</td>\n",
       "      <td id=\"T_540bc_row7_col1\" class=\"data row7 col1\" >3303</td>\n",
       "    </tr>\n",
       "    <tr>\n",
       "      <td id=\"T_540bc_row8_col0\" class=\"data row8 col0\" >cert@cert.org</td>\n",
       "      <td id=\"T_540bc_row8_col1\" class=\"data row8 col1\" >2832</td>\n",
       "    </tr>\n",
       "    <tr>\n",
       "      <td id=\"T_540bc_row9_col0\" class=\"data row9 col0\" >ics-cert@hq.dhs.gov</td>\n",
       "      <td id=\"T_540bc_row9_col1\" class=\"data row9 col1\" >2155</td>\n",
       "    </tr>\n",
       "    <tr>\n",
       "      <td id=\"T_540bc_row10_col0\" class=\"data row10 col0\" >security-advisories@github.com</td>\n",
       "      <td id=\"T_540bc_row10_col1\" class=\"data row10 col1\" >1969</td>\n",
       "    </tr>\n",
       "    <tr>\n",
       "      <td id=\"T_540bc_row11_col0\" class=\"data row11 col0\" >vultures@jpcert.or.jp</td>\n",
       "      <td id=\"T_540bc_row11_col1\" class=\"data row11 col1\" >1968</td>\n",
       "    </tr>\n",
       "    <tr>\n",
       "      <td id=\"T_540bc_row12_col0\" class=\"data row12 col0\" >security.cna@qualcomm.com</td>\n",
       "      <td id=\"T_540bc_row12_col1\" class=\"data row12 col1\" >1905</td>\n",
       "    </tr>\n",
       "    <tr>\n",
       "      <td id=\"T_540bc_row13_col0\" class=\"data row13 col0\" >security@google.com</td>\n",
       "      <td id=\"T_540bc_row13_col1\" class=\"data row13 col1\" >1753</td>\n",
       "    </tr>\n",
       "    <tr>\n",
       "      <td id=\"T_540bc_row14_col0\" class=\"data row14 col0\" >security@mozilla.org</td>\n",
       "      <td id=\"T_540bc_row14_col1\" class=\"data row14 col1\" >1411</td>\n",
       "    </tr>\n",
       "    <tr>\n",
       "      <td id=\"T_540bc_row15_col0\" class=\"data row15 col0\" >talos-cna@cisco.com</td>\n",
       "      <td id=\"T_540bc_row15_col1\" class=\"data row15 col1\" >1322</td>\n",
       "    </tr>\n",
       "    <tr>\n",
       "      <td id=\"T_540bc_row16_col0\" class=\"data row16 col0\" >psirt@huawei.com</td>\n",
       "      <td id=\"T_540bc_row16_col1\" class=\"data row16 col1\" >1195</td>\n",
       "    </tr>\n",
       "    <tr>\n",
       "      <td id=\"T_540bc_row17_col0\" class=\"data row17 col0\" >contact@wpscan.com</td>\n",
       "      <td id=\"T_540bc_row17_col1\" class=\"data row17 col1\" >1152</td>\n",
       "    </tr>\n",
       "    <tr>\n",
       "      <td id=\"T_540bc_row18_col0\" class=\"data row18 col0\" >zdi-disclosures@trendmicro.com</td>\n",
       "      <td id=\"T_540bc_row18_col1\" class=\"data row18 col1\" >1102</td>\n",
       "    </tr>\n",
       "    <tr>\n",
       "      <td id=\"T_540bc_row19_col0\" class=\"data row19 col0\" >secure@dell.com</td>\n",
       "      <td id=\"T_540bc_row19_col1\" class=\"data row19 col1\" >1047</td>\n",
       "    </tr>\n",
       "  </tbody>\n",
       "</table>\n"
      ],
      "text/plain": [
       "<pandas.io.formats.style.Styler at 0x7fbeb3527220>"
      ]
     },
     "execution_count": 22,
     "metadata": {},
     "output_type": "execute_result"
    }
   ],
   "source": [
    "nvd_frequency_no_mitre.style.hide_index()"
   ]
  },
  {
   "cell_type": "code",
   "execution_count": 23,
   "id": "a79bb81d-6c28-4790-980c-ed4dcfaeade9",
   "metadata": {
    "execution": {
     "iopub.execute_input": "2022-04-25T18:16:05.148286Z",
     "iopub.status.busy": "2022-04-25T18:16:05.148067Z",
     "iopub.status.idle": "2022-04-25T18:16:05.158780Z",
     "shell.execute_reply": "2022-04-25T18:16:05.157349Z"
    }
   },
   "outputs": [
    {
     "data": {
      "text/markdown": [
       "### CVEs By Year Published"
      ],
      "text/plain": [
       "<IPython.core.display.Markdown object>"
      ]
     },
     "execution_count": 23,
     "metadata": {},
     "output_type": "execute_result"
    }
   ],
   "source": [
    "Markdown(f\"### CVEs By Year Published\")"
   ]
  },
  {
   "cell_type": "code",
   "execution_count": 24,
   "id": "a6fe65a3-4607-4388-ab0b-6df705e5ba50",
   "metadata": {
    "execution": {
     "iopub.execute_input": "2022-04-25T18:16:05.162075Z",
     "iopub.status.busy": "2022-04-25T18:16:05.161830Z",
     "iopub.status.idle": "2022-04-25T18:16:05.175172Z",
     "shell.execute_reply": "2022-04-25T18:16:05.173785Z"
    },
    "jupyter": {
     "source_hidden": true
    },
    "tags": []
   },
   "outputs": [
    {
     "data": {
      "text/html": [
       "<div>\n",
       "<style scoped>\n",
       "    .dataframe tbody tr th:only-of-type {\n",
       "        vertical-align: middle;\n",
       "    }\n",
       "\n",
       "    .dataframe tbody tr th {\n",
       "        vertical-align: top;\n",
       "    }\n",
       "\n",
       "    .dataframe thead th {\n",
       "        text-align: right;\n",
       "    }\n",
       "</style>\n",
       "<table border=\"1\" class=\"dataframe\">\n",
       "  <thead>\n",
       "    <tr style=\"text-align: right;\">\n",
       "      <th></th>\n",
       "      <th>Count</th>\n",
       "    </tr>\n",
       "    <tr>\n",
       "      <th>Published</th>\n",
       "      <th></th>\n",
       "    </tr>\n",
       "  </thead>\n",
       "  <tbody>\n",
       "    <tr>\n",
       "      <th>1988</th>\n",
       "      <td>2</td>\n",
       "    </tr>\n",
       "    <tr>\n",
       "      <th>1989</th>\n",
       "      <td>3</td>\n",
       "    </tr>\n",
       "    <tr>\n",
       "      <th>1990</th>\n",
       "      <td>11</td>\n",
       "    </tr>\n",
       "    <tr>\n",
       "      <th>1991</th>\n",
       "      <td>15</td>\n",
       "    </tr>\n",
       "    <tr>\n",
       "      <th>1992</th>\n",
       "      <td>13</td>\n",
       "    </tr>\n",
       "    <tr>\n",
       "      <th>1993</th>\n",
       "      <td>13</td>\n",
       "    </tr>\n",
       "    <tr>\n",
       "      <th>1994</th>\n",
       "      <td>25</td>\n",
       "    </tr>\n",
       "    <tr>\n",
       "      <th>1995</th>\n",
       "      <td>25</td>\n",
       "    </tr>\n",
       "    <tr>\n",
       "      <th>1996</th>\n",
       "      <td>75</td>\n",
       "    </tr>\n",
       "    <tr>\n",
       "      <th>1997</th>\n",
       "      <td>252</td>\n",
       "    </tr>\n",
       "    <tr>\n",
       "      <th>1998</th>\n",
       "      <td>246</td>\n",
       "    </tr>\n",
       "    <tr>\n",
       "      <th>1999</th>\n",
       "      <td>894</td>\n",
       "    </tr>\n",
       "    <tr>\n",
       "      <th>2000</th>\n",
       "      <td>1020</td>\n",
       "    </tr>\n",
       "    <tr>\n",
       "      <th>2001</th>\n",
       "      <td>1677</td>\n",
       "    </tr>\n",
       "    <tr>\n",
       "      <th>2002</th>\n",
       "      <td>2156</td>\n",
       "    </tr>\n",
       "    <tr>\n",
       "      <th>2003</th>\n",
       "      <td>1527</td>\n",
       "    </tr>\n",
       "    <tr>\n",
       "      <th>2004</th>\n",
       "      <td>2451</td>\n",
       "    </tr>\n",
       "    <tr>\n",
       "      <th>2005</th>\n",
       "      <td>4932</td>\n",
       "    </tr>\n",
       "    <tr>\n",
       "      <th>2006</th>\n",
       "      <td>6608</td>\n",
       "    </tr>\n",
       "    <tr>\n",
       "      <th>2007</th>\n",
       "      <td>6516</td>\n",
       "    </tr>\n",
       "    <tr>\n",
       "      <th>2008</th>\n",
       "      <td>5632</td>\n",
       "    </tr>\n",
       "    <tr>\n",
       "      <th>2009</th>\n",
       "      <td>5732</td>\n",
       "    </tr>\n",
       "    <tr>\n",
       "      <th>2010</th>\n",
       "      <td>4639</td>\n",
       "    </tr>\n",
       "    <tr>\n",
       "      <th>2011</th>\n",
       "      <td>4150</td>\n",
       "    </tr>\n",
       "    <tr>\n",
       "      <th>2012</th>\n",
       "      <td>5288</td>\n",
       "    </tr>\n",
       "    <tr>\n",
       "      <th>2013</th>\n",
       "      <td>5187</td>\n",
       "    </tr>\n",
       "    <tr>\n",
       "      <th>2014</th>\n",
       "      <td>7928</td>\n",
       "    </tr>\n",
       "    <tr>\n",
       "      <th>2015</th>\n",
       "      <td>6494</td>\n",
       "    </tr>\n",
       "    <tr>\n",
       "      <th>2016</th>\n",
       "      <td>6449</td>\n",
       "    </tr>\n",
       "    <tr>\n",
       "      <th>2017</th>\n",
       "      <td>14644</td>\n",
       "    </tr>\n",
       "    <tr>\n",
       "      <th>2018</th>\n",
       "      <td>16510</td>\n",
       "    </tr>\n",
       "    <tr>\n",
       "      <th>2019</th>\n",
       "      <td>17306</td>\n",
       "    </tr>\n",
       "    <tr>\n",
       "      <th>2020</th>\n",
       "      <td>18324</td>\n",
       "    </tr>\n",
       "    <tr>\n",
       "      <th>2021</th>\n",
       "      <td>20134</td>\n",
       "    </tr>\n",
       "    <tr>\n",
       "      <th>2022</th>\n",
       "      <td>7797</td>\n",
       "    </tr>\n",
       "  </tbody>\n",
       "</table>\n",
       "</div>"
      ],
      "text/plain": [
       "           Count\n",
       "Published       \n",
       "1988           2\n",
       "1989           3\n",
       "1990          11\n",
       "1991          15\n",
       "1992          13\n",
       "1993          13\n",
       "1994          25\n",
       "1995          25\n",
       "1996          75\n",
       "1997         252\n",
       "1998         246\n",
       "1999         894\n",
       "2000        1020\n",
       "2001        1677\n",
       "2002        2156\n",
       "2003        1527\n",
       "2004        2451\n",
       "2005        4932\n",
       "2006        6608\n",
       "2007        6516\n",
       "2008        5632\n",
       "2009        5732\n",
       "2010        4639\n",
       "2011        4150\n",
       "2012        5288\n",
       "2013        5187\n",
       "2014        7928\n",
       "2015        6494\n",
       "2016        6449\n",
       "2017       14644\n",
       "2018       16510\n",
       "2019       17306\n",
       "2020       18324\n",
       "2021       20134\n",
       "2022        7797"
      ]
     },
     "execution_count": 24,
     "metadata": {},
     "output_type": "execute_result"
    }
   ],
   "source": [
    "yg_df = pd.DataFrame(Year_Graph)\n",
    "yg_df.columns = ['Count']\n",
    "yg_df.reset_index()\n",
    "yg_df"
   ]
  },
  {
   "cell_type": "code",
   "execution_count": 25,
   "id": "aa164366-d0e6-4ca5-890b-95ea69f2801c",
   "metadata": {
    "execution": {
     "iopub.execute_input": "2022-04-25T18:16:05.179511Z",
     "iopub.status.busy": "2022-04-25T18:16:05.179279Z",
     "iopub.status.idle": "2022-04-25T18:16:05.184600Z",
     "shell.execute_reply": "2022-04-25T18:16:05.183830Z"
    }
   },
   "outputs": [
    {
     "data": {
      "text/markdown": [
       "### CVEs By Identifier"
      ],
      "text/plain": [
       "<IPython.core.display.Markdown object>"
      ]
     },
     "execution_count": 25,
     "metadata": {},
     "output_type": "execute_result"
    }
   ],
   "source": [
    "Markdown(f\"### CVEs By Identifier\")"
   ]
  },
  {
   "cell_type": "code",
   "execution_count": 26,
   "id": "661f28f1-9568-4e97-acb3-75e45e596f1f",
   "metadata": {
    "execution": {
     "iopub.execute_input": "2022-04-25T18:16:05.188257Z",
     "iopub.status.busy": "2022-04-25T18:16:05.188029Z",
     "iopub.status.idle": "2022-04-25T18:16:08.682103Z",
     "shell.execute_reply": "2022-04-25T18:16:08.681287Z"
    }
   },
   "outputs": [
    {
     "name": "stdout",
     "output_type": "stream",
     "text": [
      "CVE-1999-\t1541\n",
      "CVE-2000-\t1237\n",
      "CVE-2001-\t1538\n",
      "CVE-2002-\t2356\n",
      "CVE-2003-\t1503\n",
      "CVE-2004-\t2644\n",
      "CVE-2005-\t4624\n",
      "CVE-2006-\t6991\n",
      "CVE-2007-\t6455\n",
      "CVE-2008-\t7001\n",
      "CVE-2009-\t4902\n",
      "CVE-2010-\t5038\n",
      "CVE-2011-\t4601\n",
      "CVE-2012-\t5419\n",
      "CVE-2013-\t6137\n",
      "CVE-2014-\t8290\n",
      "CVE-2015-\t7926\n",
      "CVE-2016-\t9218\n",
      "CVE-2017-\t14390\n",
      "CVE-2018-\t15640\n",
      "CVE-2019-\t15400\n",
      "CVE-2020-\t18076\n",
      "CVE-2021-\t19286\n",
      "CVE-2022-\t4462\n"
     ]
    }
   ],
   "source": [
    "\n",
    "print(\"CVE-1999-\\t%s\" % len(nvd[nvd['CVE'].str.contains('CVE-1999-')]))\n",
    "print(\"CVE-2000-\\t%s\" % len(nvd[nvd['CVE'].str.contains('CVE-2000-')]))\n",
    "print(\"CVE-2001-\\t%s\" % len(nvd[nvd['CVE'].str.contains('CVE-2001-')]))\n",
    "print(\"CVE-2002-\\t%s\" % len(nvd[nvd['CVE'].str.contains('CVE-2002-')]))\n",
    "print(\"CVE-2003-\\t%s\" % len(nvd[nvd['CVE'].str.contains('CVE-2003-')]))\n",
    "print(\"CVE-2004-\\t%s\" % len(nvd[nvd['CVE'].str.contains('CVE-2004-')]))\n",
    "print(\"CVE-2005-\\t%s\" % len(nvd[nvd['CVE'].str.contains('CVE-2005-')]))\n",
    "print(\"CVE-2006-\\t%s\" % len(nvd[nvd['CVE'].str.contains('CVE-2006-')]))\n",
    "print(\"CVE-2007-\\t%s\" % len(nvd[nvd['CVE'].str.contains('CVE-2007-')]))\n",
    "print(\"CVE-2008-\\t%s\" % len(nvd[nvd['CVE'].str.contains('CVE-2008-')]))\n",
    "print(\"CVE-2009-\\t%s\" % len(nvd[nvd['CVE'].str.contains('CVE-2009-')]))\n",
    "print(\"CVE-2010-\\t%s\" % len(nvd[nvd['CVE'].str.contains('CVE-2010-')]))\n",
    "print(\"CVE-2011-\\t%s\" % len(nvd[nvd['CVE'].str.contains('CVE-2011-')]))\n",
    "print(\"CVE-2012-\\t%s\" % len(nvd[nvd['CVE'].str.contains('CVE-2012-')]))\n",
    "print(\"CVE-2013-\\t%s\" % len(nvd[nvd['CVE'].str.contains('CVE-2013-')]))\n",
    "print(\"CVE-2014-\\t%s\" % len(nvd[nvd['CVE'].str.contains('CVE-2014-')]))\n",
    "print(\"CVE-2015-\\t%s\" % len(nvd[nvd['CVE'].str.contains('CVE-2015-')]))\n",
    "print(\"CVE-2016-\\t%s\" % len(nvd[nvd['CVE'].str.contains('CVE-2016-')]))\n",
    "print(\"CVE-2017-\\t%s\" % len(nvd[nvd['CVE'].str.contains('CVE-2017-')]))\n",
    "print(\"CVE-2018-\\t%s\" % len(nvd[nvd['CVE'].str.contains('CVE-2018-')]))\n",
    "print(\"CVE-2019-\\t%s\" % len(nvd[nvd['CVE'].str.contains('CVE-2019-')]))\n",
    "print(\"CVE-2020-\\t%s\" % len(nvd[nvd['CVE'].str.contains('CVE-2020-')]))\n",
    "print(\"CVE-2021-\\t%s\" % len(nvd[nvd['CVE'].str.contains('CVE-2021-')]))\n",
    "print(\"CVE-2022-\\t%s\" % len(nvd[nvd['CVE'].str.contains('CVE-2022-')]))"
   ]
  },
  {
   "cell_type": "code",
   "execution_count": 27,
   "id": "1cc30ff0",
   "metadata": {
    "execution": {
     "iopub.execute_input": "2022-04-25T18:16:08.685327Z",
     "iopub.status.busy": "2022-04-25T18:16:08.685113Z",
     "iopub.status.idle": "2022-04-25T18:16:08.692559Z",
     "shell.execute_reply": "2022-04-25T18:16:08.691639Z"
    }
   },
   "outputs": [
    {
     "data": {
      "text/markdown": [
       "### First 5 CVEs"
      ],
      "text/plain": [
       "<IPython.core.display.Markdown object>"
      ]
     },
     "execution_count": 27,
     "metadata": {},
     "output_type": "execute_result"
    }
   ],
   "source": [
    "Markdown(f\"### First 5 CVEs\")"
   ]
  },
  {
   "cell_type": "code",
   "execution_count": 28,
   "id": "robust-sustainability",
   "metadata": {
    "execution": {
     "iopub.execute_input": "2022-04-25T18:16:08.695836Z",
     "iopub.status.busy": "2022-04-25T18:16:08.695442Z",
     "iopub.status.idle": "2022-04-25T18:16:08.724028Z",
     "shell.execute_reply": "2022-04-25T18:16:08.723245Z"
    }
   },
   "outputs": [
    {
     "data": {
      "text/html": [
       "<style type=\"text/css\">\n",
       "</style>\n",
       "<table id=\"T_ce3fc\">\n",
       "  <thead>\n",
       "    <tr>\n",
       "      <th id=\"T_ce3fc_level0_col0\" class=\"col_heading level0 col0\" >CVE</th>\n",
       "      <th id=\"T_ce3fc_level0_col1\" class=\"col_heading level0 col1\" >Description</th>\n",
       "    </tr>\n",
       "  </thead>\n",
       "  <tbody>\n",
       "    <tr>\n",
       "      <td id=\"T_ce3fc_row0_col0\" class=\"data row0 col0\" >CVE-1999-0095</td>\n",
       "      <td id=\"T_ce3fc_row0_col1\" class=\"data row0 col1\" >The debug command in Sendmail is enabled, allowing attackers to execute commands as root.</td>\n",
       "    </tr>\n",
       "    <tr>\n",
       "      <td id=\"T_ce3fc_row1_col0\" class=\"data row1 col0\" >CVE-1999-0082</td>\n",
       "      <td id=\"T_ce3fc_row1_col1\" class=\"data row1 col1\" >CWD ~root command in ftpd allows root access.</td>\n",
       "    </tr>\n",
       "    <tr>\n",
       "      <td id=\"T_ce3fc_row2_col0\" class=\"data row2 col0\" >CVE-1999-1471</td>\n",
       "      <td id=\"T_ce3fc_row2_col1\" class=\"data row2 col1\" >Buffer overflow in passwd in BSD based operating systems 4.3 and earlier allows local users to gain root privileges by specifying a long shell or GECOS field.</td>\n",
       "    </tr>\n",
       "    <tr>\n",
       "      <td id=\"T_ce3fc_row3_col0\" class=\"data row3 col0\" >CVE-1999-1122</td>\n",
       "      <td id=\"T_ce3fc_row3_col1\" class=\"data row3 col1\" >Vulnerability in restore in SunOS 4.0.3 and earlier allows local users to gain privileges.</td>\n",
       "    </tr>\n",
       "    <tr>\n",
       "      <td id=\"T_ce3fc_row4_col0\" class=\"data row4 col0\" >CVE-1999-1467</td>\n",
       "      <td id=\"T_ce3fc_row4_col1\" class=\"data row4 col1\" >Vulnerability in rcp on SunOS 4.0.x allows remote attackers from trusted hosts to execute arbitrary commands as root, possibly related to the configuration of the nobody user.</td>\n",
       "    </tr>\n",
       "  </tbody>\n",
       "</table>\n"
      ],
      "text/plain": [
       "<pandas.io.formats.style.Styler at 0x7fbea2cb9310>"
      ]
     },
     "execution_count": 28,
     "metadata": {},
     "output_type": "execute_result"
    }
   ],
   "source": [
    "nvd[[\"CVE\", \"Description\"]].head(5).style.hide_index()"
   ]
  },
  {
   "cell_type": "code",
   "execution_count": 29,
   "id": "b7f86a25",
   "metadata": {
    "execution": {
     "iopub.execute_input": "2022-04-25T18:16:08.727617Z",
     "iopub.status.busy": "2022-04-25T18:16:08.727410Z",
     "iopub.status.idle": "2022-04-25T18:16:08.736083Z",
     "shell.execute_reply": "2022-04-25T18:16:08.735333Z"
    }
   },
   "outputs": [
    {
     "data": {
      "text/markdown": [
       "### Last 5 CVEs"
      ],
      "text/plain": [
       "<IPython.core.display.Markdown object>"
      ]
     },
     "execution_count": 29,
     "metadata": {},
     "output_type": "execute_result"
    }
   ],
   "source": [
    "Markdown(f\"### Last 5 CVEs\")"
   ]
  },
  {
   "cell_type": "code",
   "execution_count": 30,
   "id": "ceramic-gather",
   "metadata": {
    "execution": {
     "iopub.execute_input": "2022-04-25T18:16:08.739829Z",
     "iopub.status.busy": "2022-04-25T18:16:08.739408Z",
     "iopub.status.idle": "2022-04-25T18:16:08.768450Z",
     "shell.execute_reply": "2022-04-25T18:16:08.767660Z"
    }
   },
   "outputs": [
    {
     "data": {
      "text/html": [
       "<style type=\"text/css\">\n",
       "</style>\n",
       "<table id=\"T_17f01\">\n",
       "  <thead>\n",
       "    <tr>\n",
       "      <th id=\"T_17f01_level0_col0\" class=\"col_heading level0 col0\" >CVE</th>\n",
       "      <th id=\"T_17f01_level0_col1\" class=\"col_heading level0 col1\" >Description</th>\n",
       "    </tr>\n",
       "  </thead>\n",
       "  <tbody>\n",
       "    <tr>\n",
       "      <td id=\"T_17f01_row0_col0\" class=\"data row0 col0\" >CVE-2022-29546</td>\n",
       "      <td id=\"T_17f01_row0_col1\" class=\"data row0 col1\" >HtmlUnit NekoHtml Parser before 2.61.0 suffers from a denial of service vulnerability. Crafted input associated with the parsing of Processing Instruction (PI) data leads to heap memory consumption. This is similar to CVE-2022-28366 but affects a much later version of the product.</td>\n",
       "    </tr>\n",
       "    <tr>\n",
       "      <td id=\"T_17f01_row1_col0\" class=\"data row1 col0\" >CVE-2022-29077</td>\n",
       "      <td id=\"T_17f01_row1_col1\" class=\"data row1 col1\" >A heap-based buffer overflow exists in rippled before 1.8.5. The vulnerability allows attackers to cause a crash or execute commands remotely on a rippled node, which may lead to XRPL mainnet DoS or compromise. This exposes all digital assets from the Ripple Network to a security threat.</td>\n",
       "    </tr>\n",
       "    <tr>\n",
       "      <td id=\"T_17f01_row2_col0\" class=\"data row2 col0\" >CVE-2019-25059</td>\n",
       "      <td id=\"T_17f01_row2_col1\" class=\"data row2 col1\" >Artifex Ghostscript through 9.26 mishandles .completefont. NOTE: this issue exists because of an incomplete fix for CVE-2019-3839.</td>\n",
       "    </tr>\n",
       "    <tr>\n",
       "      <td id=\"T_17f01_row3_col0\" class=\"data row3 col0\" >CVE-2022-29603</td>\n",
       "      <td id=\"T_17f01_row3_col1\" class=\"data row3 col1\" >A SQL Injection vulnerability exists in UniverSIS UniverSIS-API through 1.2.1 via the $select parameter to multiple API endpoints. A remote authenticated attacker could send crafted SQL statements to a vulnerable endpoint (such as /api/students/me/messages/) to, for example, retrieve personal information or change grades.</td>\n",
       "    </tr>\n",
       "    <tr>\n",
       "      <td id=\"T_17f01_row4_col0\" class=\"data row4 col0\" >CVE-2021-40680</td>\n",
       "      <td id=\"T_17f01_row4_col1\" class=\"data row4 col1\" >There is a Directory Traversal vulnerability in Artica Proxy (4.30.000000 SP206 through SP255, and VMware appliance 4.30.000000 through SP273) via the filename parameter to /cgi-bin/main.cgi.</td>\n",
       "    </tr>\n",
       "  </tbody>\n",
       "</table>\n"
      ],
      "text/plain": [
       "<pandas.io.formats.style.Styler at 0x7fbe9de62130>"
      ]
     },
     "execution_count": 30,
     "metadata": {},
     "output_type": "execute_result"
    }
   ],
   "source": [
    "\n",
    "nvd[[\"CVE\", \"Description\"]].tail(5).style.hide_index()"
   ]
  },
  {
   "cell_type": "code",
   "execution_count": 31,
   "id": "20ee3a71",
   "metadata": {
    "execution": {
     "iopub.execute_input": "2022-04-25T18:16:08.771714Z",
     "iopub.status.busy": "2022-04-25T18:16:08.771506Z",
     "iopub.status.idle": "2022-04-25T18:16:08.778831Z",
     "shell.execute_reply": "2022-04-25T18:16:08.778081Z"
    }
   },
   "outputs": [
    {
     "data": {
      "text/markdown": [
       "This report is updated automatically every day, last generated on: **2022-04-25 18:16:08.772816**"
      ],
      "text/plain": [
       "<IPython.core.display.Markdown object>"
      ]
     },
     "execution_count": 31,
     "metadata": {},
     "output_type": "execute_result"
    }
   ],
   "source": [
    "Markdown(f\"This report is updated automatically every day, last generated on: **{datetime.datetime.now()}**\")"
   ]
  }
 ],
 "metadata": {
  "kernelspec": {
   "display_name": "Python 3 (ipykernel)",
   "language": "python",
   "name": "python3"
  },
  "language_info": {
   "codemirror_mode": {
    "name": "ipython",
    "version": 3
   },
   "file_extension": ".py",
   "mimetype": "text/x-python",
   "name": "python",
   "nbconvert_exporter": "python",
   "pygments_lexer": "ipython3",
   "version": "3.9.12"
  }
 },
 "nbformat": 4,
 "nbformat_minor": 5
}
